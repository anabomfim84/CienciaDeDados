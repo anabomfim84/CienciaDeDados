{
 "cells": [
  {
   "cell_type": "markdown",
   "metadata": {
    "application/vnd.databricks.v1+cell": {
     "cellMetadata": {},
     "inputWidgets": {},
     "nuid": "47e39640-8e0a-47f2-8976-f6c09340f208",
     "showTitle": false,
     "tableResultSettingsMap": {},
     "title": ""
    }
   },
   "source": [
    "# **MVP Engenharia de Dados**\n",
    "**Aluna: Ana Cristina Paula Bomfim**\n",
    "\n",
    "**MVP Livros mais vendidos na Amazon de 2009 - 2019**\n"
   ]
  },
  {
   "cell_type": "markdown",
   "metadata": {
    "application/vnd.databricks.v1+cell": {
     "cellMetadata": {},
     "inputWidgets": {},
     "nuid": "5bd02ca5-3c3e-41dc-9598-d3db7f914665",
     "showTitle": false,
     "tableResultSettingsMap": {},
     "title": ""
    }
   },
   "source": [
    "# **Objetivo**\n",
    "\n",
    "A partir de dados sobre os 50 Livros mais vendidos (Top 50 bestselling) da empresa Amazon no período de 2009-2019, o objetivo deste Pipeline de Dados em questão é responder as seguintes perguntas:\n",
    "\n",
    "***Pergunta 1***: Qual a quantidade de livros do dataset analisado?\n",
    "\n",
    "***Pergunta 2***: Quais são os livros que constam neste dataset por Autor? \n",
    "\n",
    "***Pergunta 3***: Quais são os gêneros dos livros deste escopo de dados?\n",
    "\n",
    "***Pergunta 4***: Qual o total de livros para cada gênero neste conjunto de dados?\n",
    "\n",
    "***Pergunta 5***:Qual o livro com a melhor avaliação de 2019, que custam menos de US$20?**"
   ]
  },
  {
   "cell_type": "markdown",
   "metadata": {
    "application/vnd.databricks.v1+cell": {
     "cellMetadata": {},
     "inputWidgets": {},
     "nuid": "6a7b5d13-ed92-46ca-a60c-fe8b53d687d3",
     "showTitle": false,
     "tableResultSettingsMap": {},
     "title": ""
    }
   },
   "source": [
    "# **Busca pelo Dados**\n",
    "\n",
    "O dataset escolhido é uma base de dados gratuita proveniente da plataforma Kaggle, sobre os 50 livros mais vendidos pela empresa Amazon de 2009-2019, e que foram categorizados nos gêneros ficção e não-ficção usando \"Goodreads\" (Uma plataforma online que funciona como uma rede social e catálogo de livros).\n",
    "\n",
    "Para mais detalhes sobre o dataset, consulte: https://www.kaggle.com/datasets/sootersaalu/amazon-top-50-bestselling-books-2009-2019\n",
    "\n",
    "O tipo de licença comun para este conjunto de dados é: Marca de domínio público.\n",
    "\n",
    "Informação dos campos da Tabela Livros (dataset):\n",
    "\n",
    "* **Name**: Nome do livro;\n",
    "\n",
    "* **Autho**r: Autor do livro;\n",
    "\n",
    "* **UserRating**: Avaliação do usuário;\n",
    "\n",
    "* **Reviews**: Número de avaliações;\n",
    "\n",
    "* **Price**: Preço;\n",
    "\n",
    "* **Year**: Ano em que foi classificado como o mais vendido; \n",
    "\n",
    "* **Genre**: Gênero do livro."
   ]
  },
  {
   "cell_type": "markdown",
   "metadata": {
    "application/vnd.databricks.v1+cell": {
     "cellMetadata": {},
     "inputWidgets": {},
     "nuid": "268719cb-5d42-4c77-97ac-15e2c2bda00d",
     "showTitle": false,
     "tableResultSettingsMap": {},
     "title": ""
    }
   },
   "source": [
    "# **Coleta**\n",
    "O Dataset foi baixado da WEB, do site https://www.kaggle.com/code/jaimeandrevelasquez/data-analytics-case-study-amazon-bestsellers/input?select=bestsellers+with+categories.csv), para o disco local no formato de arquivo .CSV, e o PIPELINE DE DADOS em questão coletará este arquivo no referido disco para armazená-lo na nuvem.\n",
    "\n",
    "**Plataforma**\n",
    "\n",
    "A plataforma utilizada para o desenvolvimento desse projeto será \n",
    " o Databricks Community."
   ]
  },
  {
   "cell_type": "markdown",
   "metadata": {
    "application/vnd.databricks.v1+cell": {
     "cellMetadata": {},
     "inputWidgets": {},
     "nuid": "6c2bb54c-bad7-4585-9fee-76f5a4162d4c",
     "showTitle": false,
     "tableResultSettingsMap": {},
     "title": ""
    }
   },
   "source": [
    "%md\n",
    "## Modelagem\n",
    "\n",
    "Modelo de Dados Flat : Nesse conjunto de dados, os dados são organizados em uma estrutura plana e simples. \n",
    "Cada registro ou linha possui uma série de colunas que representam atributos específicos dos dados, como nome, autor, avaliação de usuário, número de avaliações, preço, ano de publicação e gênero, conforme descrito. Não há tabelas adicionais de dimensionamento ou normalização, como ocorre em modelos de dados estrela ou floco de neve.\n",
    "\n",
    "Descrição do Atributos (Catálogo de Dados) do dataset:\n",
    "\n",
    "- **Name** : Nome do livro, atributo de texto (STR) representando o título do livro.\n",
    "\n",
    "- **Author** : Nome do autor do livro, atributo de texto (STR) representando o autor da obra.\n",
    "\n",
    "- **UserRating** : Avaliação do usuário para o livro, atributo de numérico (FLOAT).\n",
    "\n",
    "- **Reviews** : Número de avaliações que o livro recebeu, atributo numérico (INT).\n",
    "\n",
    "- **Price** : Preço do livro, atributo numérico (INT).\n",
    "\n",
    "- **Year** : Ano em que foi classificado como o mais vendido, atributo numérico (INT). \n",
    "\n",
    "- **Genre** : Categoria que descreve o gênero do livro, como ficção ou não-ficção. Atributo de texto (STR)"
   ]
  },
  {
   "cell_type": "markdown",
   "metadata": {
    "application/vnd.databricks.v1+cell": {
     "cellMetadata": {},
     "inputWidgets": {},
     "nuid": "7e6dd6d6-f413-43b2-8028-dcd3b727cdfd",
     "showTitle": false,
     "tableResultSettingsMap": {},
     "title": ""
    }
   },
   "source": [
    "# **Carga**\n",
    "\n",
    "Para realizar o processo de ETL na plataforma Databricks Community, foram realizados os seguintes passos.\n",
    "\n",
    "1- Acessar o Databricks Community Edition.\n",
    "\n",
    "2- Clicar em \"Compute\" e criar novo cluster.\n",
    "\n",
    "3- Importar o dataset para o Databricks através do DBFS.\n",
    "\n",
    "4- Clicar em \"New\" e em Table para criar a tabela bestsellers.\n",
    "\n",
    "5- Clicar em \"Create Table With UI\".\n",
    "\n",
    "6- Selecionar o Cluster criado.\n",
    "\n",
    "7- Clicar em \"Preview Table\"\n",
    "\n",
    "8- Configurar os tipos de dados dos campos da tabela.\n",
    "\n",
    "9- Clicar em \"Create Table\".\n",
    "\n",
    "10- Criar um novo notebook e renomear para \"MVPEngenhariaDeDados\"."
   ]
  },
  {
   "cell_type": "code",
   "execution_count": 0,
   "metadata": {
    "application/vnd.databricks.v1+cell": {
     "cellMetadata": {
      "byteLimit": 2048000,
      "rowLimit": 10000
     },
     "inputWidgets": {},
     "nuid": "7ca5d74c-9780-41c8-acb5-09d523219c0c",
     "showTitle": false,
     "tableResultSettingsMap": {},
     "title": ""
    }
   },
   "outputs": [
    {
     "output_type": "stream",
     "name": "stdout",
     "output_type": "stream",
     "text": [
      "+--------------------+--------------------+-----------+-------+-----+----+-----------+\n|                Name|              Author|User Rating|Reviews|Price|Year|      Genre|\n+--------------------+--------------------+-----------+-------+-----+----+-----------+\n|10-Day Green Smoo...|            JJ Smith|        4.7|  17350|    8|2016|Non Fiction|\n|   11/22/63: A Novel|        Stephen King|        4.6|   2052|   22|2011|    Fiction|\n|12 Rules for Life...|  Jordan B. Peterson|        4.7|  18979|   15|2018|Non Fiction|\n|1984 (Signet Clas...|       George Orwell|        4.7|  21424|    6|2017|    Fiction|\n|5,000 Awesome Fac...|National Geograph...|        4.8|   7665|   12|2019|Non Fiction|\n|A Dance with Drag...| George R. R. Martin|        4.4|  12643|   11|2011|    Fiction|\n|A Game of Thrones...| George R. R. Martin|        4.7|  19735|   30|2014|    Fiction|\n|A Gentleman in Mo...|         Amor Towles|        4.7|  19699|   15|2017|    Fiction|\n|A Higher Loyalty:...|         James Comey|        4.7|   5983|    3|2018|Non Fiction|\n|A Man Called Ove:...|     Fredrik Backman|        4.6|  23848|    8|2016|    Fiction|\n|A Man Called Ove:...|     Fredrik Backman|        4.6|  23848|    8|2017|    Fiction|\n|A Patriot's Histo...|    Larry Schweikart|        4.6|    460|    2|2010|Non Fiction|\n|A Stolen Life: A ...|       Jaycee Dugard|        4.6|   4149|   32|2011|Non Fiction|\n|A Wrinkle in Time...|   Madeleine L'Engle|        4.5|   5153|    5|2018|    Fiction|\n|Act Like a Lady, ...|        Steve Harvey|        4.6|   5013|   17|2009|Non Fiction|\n|Adult Coloring Bo...|Adult Coloring Bo...|        4.5|   2313|    4|2016|Non Fiction|\n|Adult Coloring Bo...|  Blue Star Coloring|        4.6|   2925|    6|2015|Non Fiction|\n|Adult Coloring Bo...|  Blue Star Coloring|        4.4|   2951|    6|2015|Non Fiction|\n|Adult Coloring Bo...|Coloring Books fo...|        4.5|   2426|    8|2015|Non Fiction|\n|  Alexander Hamilton|         Ron Chernow|        4.8|   9198|   13|2016|Non Fiction|\n+--------------------+--------------------+-----------+-------+-----+----+-----------+\nonly showing top 20 rows\n\n"
     ]
    }
   ],
   "source": [
    "\n",
    "# Caminho do arquivo CSV no DBFS\n",
    "file_path = \"dbfs:/FileStore/MVPEngenhariaDeDados/bestsellers_with_categories.csv\"\n",
    "\n",
    "# Carregar o arquivo CSV em um DataFrame Spark\n",
    "df = spark.read.option(\"header\", \"true\").csv(file_path)\n",
    "\n",
    "# Mostrar as primeiras linhas do DataFrame\n",
    "df.show()"
   ]
  },
  {
   "cell_type": "code",
   "execution_count": 0,
   "metadata": {
    "application/vnd.databricks.v1+cell": {
     "cellMetadata": {
      "byteLimit": 2048000,
      "implicitDf": true,
      "rowLimit": 10000
     },
     "inputWidgets": {},
     "nuid": "26d74db3-59b4-4a8c-915a-6c4dc0b8bbe1",
     "showTitle": false,
     "tableResultSettingsMap": {},
     "title": ""
    }
   },
   "outputs": [
    {
     "output_type": "display_data",
     "data": {
      "text/html": [
       "<style scoped>\n",
       "  .table-result-container {\n",
       "    max-height: 300px;\n",
       "    overflow: auto;\n",
       "  }\n",
       "  table, th, td {\n",
       "    border: 1px solid black;\n",
       "    border-collapse: collapse;\n",
       "  }\n",
       "  th, td {\n",
       "    padding: 5px;\n",
       "  }\n",
       "  th {\n",
       "    text-align: left;\n",
       "  }\n",
       "</style><div class='table-result-container'><table class='table-result'><thead style='background-color: white'><tr><th>Name</th><th>Author</th><th>User Rating</th><th>Reviews</th><th>Price</th><th>Year</th><th>Genre</th></tr></thead><tbody><tr><td>10-Day Green Smoothie Cleanse</td><td>JJ Smith</td><td>4.7</td><td>17350</td><td>8</td><td>2016</td><td>Non Fiction</td></tr><tr><td>11/22/63: A Novel</td><td>Stephen King</td><td>4.6</td><td>2052</td><td>22</td><td>2011</td><td>Fiction</td></tr><tr><td>12 Rules for Life: An Antidote to Chaos</td><td>Jordan B. Peterson</td><td>4.7</td><td>18979</td><td>15</td><td>2018</td><td>Non Fiction</td></tr><tr><td>1984 (Signet Classics)</td><td>George Orwell</td><td>4.7</td><td>21424</td><td>6</td><td>2017</td><td>Fiction</td></tr><tr><td>5,000 Awesome Facts (About Everything!) (National Geographic Kids)</td><td>National Geographic Kids</td><td>4.8</td><td>7665</td><td>12</td><td>2019</td><td>Non Fiction</td></tr><tr><td>A Dance with Dragons (A Song of Ice and Fire)</td><td>George R. R. Martin</td><td>4.4</td><td>12643</td><td>11</td><td>2011</td><td>Fiction</td></tr><tr><td>A Game of Thrones / A Clash of Kings / A Storm of Swords / A Feast of Crows / A Dance with Dragons</td><td>George R. R. Martin</td><td>4.7</td><td>19735</td><td>30</td><td>2014</td><td>Fiction</td></tr><tr><td>A Gentleman in Moscow: A Novel</td><td>Amor Towles</td><td>4.7</td><td>19699</td><td>15</td><td>2017</td><td>Fiction</td></tr><tr><td>A Higher Loyalty: Truth, Lies, and Leadership</td><td>James Comey</td><td>4.7</td><td>5983</td><td>3</td><td>2018</td><td>Non Fiction</td></tr><tr><td>A Man Called Ove: A Novel</td><td>Fredrik Backman</td><td>4.6</td><td>23848</td><td>8</td><td>2016</td><td>Fiction</td></tr></tbody></table></div>"
      ]
     },
     "metadata": {
      "application/vnd.databricks.v1+output": {
       "addedWidgets": {},
       "aggData": [],
       "aggError": "",
       "aggOverflow": false,
       "aggSchema": [],
       "aggSeriesLimitReached": false,
       "aggType": "",
       "arguments": {},
       "columnCustomDisplayInfos": {},
       "data": [
        [
         "10-Day Green Smoothie Cleanse",
         "JJ Smith",
         4.7,
         17350,
         8,
         2016,
         "Non Fiction"
        ],
        [
         "11/22/63: A Novel",
         "Stephen King",
         4.6,
         2052,
         22,
         2011,
         "Fiction"
        ],
        [
         "12 Rules for Life: An Antidote to Chaos",
         "Jordan B. Peterson",
         4.7,
         18979,
         15,
         2018,
         "Non Fiction"
        ],
        [
         "1984 (Signet Classics)",
         "George Orwell",
         4.7,
         21424,
         6,
         2017,
         "Fiction"
        ],
        [
         "5,000 Awesome Facts (About Everything!) (National Geographic Kids)",
         "National Geographic Kids",
         4.8,
         7665,
         12,
         2019,
         "Non Fiction"
        ],
        [
         "A Dance with Dragons (A Song of Ice and Fire)",
         "George R. R. Martin",
         4.4,
         12643,
         11,
         2011,
         "Fiction"
        ],
        [
         "A Game of Thrones / A Clash of Kings / A Storm of Swords / A Feast of Crows / A Dance with Dragons",
         "George R. R. Martin",
         4.7,
         19735,
         30,
         2014,
         "Fiction"
        ],
        [
         "A Gentleman in Moscow: A Novel",
         "Amor Towles",
         4.7,
         19699,
         15,
         2017,
         "Fiction"
        ],
        [
         "A Higher Loyalty: Truth, Lies, and Leadership",
         "James Comey",
         4.7,
         5983,
         3,
         2018,
         "Non Fiction"
        ],
        [
         "A Man Called Ove: A Novel",
         "Fredrik Backman",
         4.6,
         23848,
         8,
         2016,
         "Fiction"
        ]
       ],
       "datasetInfos": [],
       "dbfsResultPath": null,
       "isJsonSchema": true,
       "metadata": {},
       "overflow": false,
       "plotOptions": {
        "customPlotOptions": {},
        "displayType": "table",
        "pivotAggregation": null,
        "pivotColumns": null,
        "xColumns": null,
        "yColumns": null
       },
       "removedWidgets": [],
       "schema": [
        {
         "metadata": "{}",
         "name": "Name",
         "type": "\"string\""
        },
        {
         "metadata": "{}",
         "name": "Author",
         "type": "\"string\""
        },
        {
         "metadata": "{}",
         "name": "User Rating",
         "type": "\"double\""
        },
        {
         "metadata": "{}",
         "name": "Reviews",
         "type": "\"integer\""
        },
        {
         "metadata": "{}",
         "name": "Price",
         "type": "\"integer\""
        },
        {
         "metadata": "{}",
         "name": "Year",
         "type": "\"integer\""
        },
        {
         "metadata": "{}",
         "name": "Genre",
         "type": "\"string\""
        }
       ],
       "type": "table"
      }
     },
     "output_type": "display_data"
    }
   ],
   "source": [
    "%sql\n",
    "-- Primeiras dez linhas da tabela bestsellers\n",
    "\n",
    "SELECT * FROM bestsellers LIMIT 10"
   ]
  },
  {
   "cell_type": "markdown",
   "metadata": {
    "application/vnd.databricks.v1+cell": {
     "cellMetadata": {},
     "inputWidgets": {},
     "nuid": "9f2284a0-2f6f-40a8-be24-0eaec69c2e49",
     "showTitle": false,
     "tableResultSettingsMap": {},
     "title": ""
    }
   },
   "source": [
    "# Análise\n",
    "\n",
    "##  **1- Qualidade dos Dados**\n",
    "\n",
    "Nessa etapa iremos verificar se há necessidade de transformação nos dados da tabela.\n",
    "\n",
    "Iremos utilizar a linguagem SQL, para análises e transformações."
   ]
  },
  {
   "cell_type": "code",
   "execution_count": 0,
   "metadata": {
    "application/vnd.databricks.v1+cell": {
     "cellMetadata": {
      "byteLimit": 2048000,
      "implicitDf": true,
      "rowLimit": 10000
     },
     "inputWidgets": {},
     "nuid": "77a25bf9-2071-41c6-94b5-5eab45195854",
     "showTitle": false,
     "tableResultSettingsMap": {},
     "title": ""
    }
   },
   "outputs": [
    {
     "output_type": "display_data",
     "data": {
      "text/html": [
       "<style scoped>\n",
       "  .table-result-container {\n",
       "    max-height: 300px;\n",
       "    overflow: auto;\n",
       "  }\n",
       "  table, th, td {\n",
       "    border: 1px solid black;\n",
       "    border-collapse: collapse;\n",
       "  }\n",
       "  th, td {\n",
       "    padding: 5px;\n",
       "  }\n",
       "  th {\n",
       "    text-align: left;\n",
       "  }\n",
       "</style><div class='table-result-container'><table class='table-result'><thead style='background-color: white'><tr><th>Name</th><th>Author</th><th>User Rating</th><th>Reviews</th><th>Price</th><th>Year</th><th>Genre</th></tr></thead><tbody></tbody></table></div>"
      ]
     },
     "metadata": {
      "application/vnd.databricks.v1+output": {
       "addedWidgets": {},
       "aggData": [],
       "aggError": "",
       "aggOverflow": false,
       "aggSchema": [],
       "aggSeriesLimitReached": false,
       "aggType": "",
       "arguments": {},
       "columnCustomDisplayInfos": {},
       "data": [],
       "datasetInfos": [],
       "dbfsResultPath": null,
       "isJsonSchema": true,
       "metadata": {},
       "overflow": false,
       "plotOptions": {
        "customPlotOptions": {},
        "displayType": "table",
        "pivotAggregation": null,
        "pivotColumns": null,
        "xColumns": null,
        "yColumns": null
       },
       "removedWidgets": [],
       "schema": [
        {
         "metadata": "{}",
         "name": "Name",
         "type": "\"string\""
        },
        {
         "metadata": "{}",
         "name": "Author",
         "type": "\"string\""
        },
        {
         "metadata": "{}",
         "name": "User Rating",
         "type": "\"double\""
        },
        {
         "metadata": "{}",
         "name": "Reviews",
         "type": "\"integer\""
        },
        {
         "metadata": "{}",
         "name": "Price",
         "type": "\"integer\""
        },
        {
         "metadata": "{}",
         "name": "Year",
         "type": "\"integer\""
        },
        {
         "metadata": "{}",
         "name": "Genre",
         "type": "\"string\""
        }
       ],
       "type": "table"
      }
     },
     "output_type": "display_data"
    }
   ],
   "source": [
    "%sql\n",
    "-- Verificação Nomes de Livros com nomes Nulos\n",
    "SELECT * FROM bestsellers\n",
    "WHERE Name IS NULL"
   ]
  },
  {
   "cell_type": "code",
   "execution_count": 0,
   "metadata": {
    "application/vnd.databricks.v1+cell": {
     "cellMetadata": {
      "byteLimit": 2048000,
      "implicitDf": true,
      "rowLimit": 10000
     },
     "inputWidgets": {},
     "nuid": "8ade1526-e209-4591-9586-10a3933f4af3",
     "showTitle": false,
     "tableResultSettingsMap": {},
     "title": ""
    }
   },
   "outputs": [
    {
     "output_type": "display_data",
     "data": {
      "text/html": [
       "<style scoped>\n",
       "  .table-result-container {\n",
       "    max-height: 300px;\n",
       "    overflow: auto;\n",
       "  }\n",
       "  table, th, td {\n",
       "    border: 1px solid black;\n",
       "    border-collapse: collapse;\n",
       "  }\n",
       "  th, td {\n",
       "    padding: 5px;\n",
       "  }\n",
       "  th {\n",
       "    text-align: left;\n",
       "  }\n",
       "</style><div class='table-result-container'><table class='table-result'><thead style='background-color: white'><tr><th>Name</th><th>Author</th><th>User Rating</th><th>Reviews</th><th>Price</th><th>Year</th><th>Genre</th></tr></thead><tbody></tbody></table></div>"
      ]
     },
     "metadata": {
      "application/vnd.databricks.v1+output": {
       "addedWidgets": {},
       "aggData": [],
       "aggError": "",
       "aggOverflow": false,
       "aggSchema": [],
       "aggSeriesLimitReached": false,
       "aggType": "",
       "arguments": {},
       "columnCustomDisplayInfos": {},
       "data": [],
       "datasetInfos": [],
       "dbfsResultPath": null,
       "isJsonSchema": true,
       "metadata": {},
       "overflow": false,
       "plotOptions": {
        "customPlotOptions": {},
        "displayType": "table",
        "pivotAggregation": null,
        "pivotColumns": null,
        "xColumns": null,
        "yColumns": null
       },
       "removedWidgets": [],
       "schema": [
        {
         "metadata": "{}",
         "name": "Name",
         "type": "\"string\""
        },
        {
         "metadata": "{}",
         "name": "Author",
         "type": "\"string\""
        },
        {
         "metadata": "{}",
         "name": "User Rating",
         "type": "\"double\""
        },
        {
         "metadata": "{}",
         "name": "Reviews",
         "type": "\"integer\""
        },
        {
         "metadata": "{}",
         "name": "Price",
         "type": "\"integer\""
        },
        {
         "metadata": "{}",
         "name": "Year",
         "type": "\"integer\""
        },
        {
         "metadata": "{}",
         "name": "Genre",
         "type": "\"string\""
        }
       ],
       "type": "table"
      }
     },
     "output_type": "display_data"
    }
   ],
   "source": [
    "%sql\n",
    "-- Verificação Autores com nomes Nulos\n",
    "SELECT * FROM bestsellers\n",
    "WHERE Author IS NULL"
   ]
  },
  {
   "cell_type": "code",
   "execution_count": 0,
   "metadata": {
    "application/vnd.databricks.v1+cell": {
     "cellMetadata": {
      "byteLimit": 2048000,
      "implicitDf": true,
      "rowLimit": 10000
     },
     "inputWidgets": {},
     "nuid": "752244e1-f3c4-4eb6-9848-64a2a817e582",
     "showTitle": false,
     "tableResultSettingsMap": {},
     "title": ""
    }
   },
   "outputs": [
    {
     "output_type": "display_data",
     "data": {
      "text/html": [
       "<style scoped>\n",
       "  .table-result-container {\n",
       "    max-height: 300px;\n",
       "    overflow: auto;\n",
       "  }\n",
       "  table, th, td {\n",
       "    border: 1px solid black;\n",
       "    border-collapse: collapse;\n",
       "  }\n",
       "  th, td {\n",
       "    padding: 5px;\n",
       "  }\n",
       "  th {\n",
       "    text-align: left;\n",
       "  }\n",
       "</style><div class='table-result-container'><table class='table-result'><thead style='background-color: white'><tr><th>Name</th><th>Author</th><th>User Rating</th><th>Reviews</th><th>Price</th><th>Year</th><th>Genre</th></tr></thead><tbody></tbody></table></div>"
      ]
     },
     "metadata": {
      "application/vnd.databricks.v1+output": {
       "addedWidgets": {},
       "aggData": [],
       "aggError": "",
       "aggOverflow": false,
       "aggSchema": [],
       "aggSeriesLimitReached": false,
       "aggType": "",
       "arguments": {},
       "columnCustomDisplayInfos": {},
       "data": [],
       "datasetInfos": [],
       "dbfsResultPath": null,
       "isJsonSchema": true,
       "metadata": {},
       "overflow": false,
       "plotOptions": {
        "customPlotOptions": {},
        "displayType": "table",
        "pivotAggregation": null,
        "pivotColumns": null,
        "xColumns": null,
        "yColumns": null
       },
       "removedWidgets": [],
       "schema": [
        {
         "metadata": "{}",
         "name": "Name",
         "type": "\"string\""
        },
        {
         "metadata": "{}",
         "name": "Author",
         "type": "\"string\""
        },
        {
         "metadata": "{}",
         "name": "User Rating",
         "type": "\"double\""
        },
        {
         "metadata": "{}",
         "name": "Reviews",
         "type": "\"integer\""
        },
        {
         "metadata": "{}",
         "name": "Price",
         "type": "\"integer\""
        },
        {
         "metadata": "{}",
         "name": "Year",
         "type": "\"integer\""
        },
        {
         "metadata": "{}",
         "name": "Genre",
         "type": "\"string\""
        }
       ],
       "type": "table"
      }
     },
     "output_type": "display_data"
    }
   ],
   "source": [
    "%sql\n",
    "-- Verificação Preços com valores negativos.\n",
    "SELECT * FROM bestsellers\n",
    "WHERE Price < 0"
   ]
  },
  {
   "cell_type": "markdown",
   "metadata": {
    "application/vnd.databricks.v1+cell": {
     "cellMetadata": {},
     "inputWidgets": {},
     "nuid": "474d6f3f-2a13-4fb5-8996-15221e1d5cb0",
     "showTitle": false,
     "tableResultSettingsMap": {},
     "title": ""
    },
    "jupyter": {
     "outputs_hidden": true
    }
   },
   "source": [
    "**Com os resultados das análises, verificamos que os dados estão consistentes. Não há necessidade de transformações.**"
   ]
  },
  {
   "cell_type": "markdown",
   "metadata": {
    "application/vnd.databricks.v1+cell": {
     "cellMetadata": {},
     "inputWidgets": {},
     "nuid": "109d167e-f053-4338-b289-50c395236bc9",
     "showTitle": false,
     "tableResultSettingsMap": {},
     "title": ""
    }
   },
   "source": [
    "## **2- Solução do Problema**\n",
    "\n"
   ]
  },
  {
   "cell_type": "markdown",
   "metadata": {
    "application/vnd.databricks.v1+cell": {
     "cellMetadata": {},
     "inputWidgets": {},
     "nuid": "a4a6e3ed-8a23-443c-9993-39dadd2b6c70",
     "showTitle": false,
     "tableResultSettingsMap": {},
     "title": ""
    }
   },
   "source": [
    "**Pergunta 1:** Qual a quantidade de livros do dataset analisado?"
   ]
  },
  {
   "cell_type": "code",
   "execution_count": 0,
   "metadata": {
    "application/vnd.databricks.v1+cell": {
     "cellMetadata": {
      "byteLimit": 2048000,
      "implicitDf": true,
      "rowLimit": 10000
     },
     "inputWidgets": {},
     "nuid": "48eb151a-3b6f-442e-b220-ee9016dfbc33",
     "showTitle": false,
     "tableResultSettingsMap": {},
     "title": ""
    }
   },
   "outputs": [
    {
     "output_type": "display_data",
     "data": {
      "text/html": [
       "<style scoped>\n",
       "  .table-result-container {\n",
       "    max-height: 300px;\n",
       "    overflow: auto;\n",
       "  }\n",
       "  table, th, td {\n",
       "    border: 1px solid black;\n",
       "    border-collapse: collapse;\n",
       "  }\n",
       "  th, td {\n",
       "    padding: 5px;\n",
       "  }\n",
       "  th {\n",
       "    text-align: left;\n",
       "  }\n",
       "</style><div class='table-result-container'><table class='table-result'><thead style='background-color: white'><tr><th>QtdeLivros</th></tr></thead><tbody><tr><td>550</td></tr></tbody></table></div>"
      ]
     },
     "metadata": {
      "application/vnd.databricks.v1+output": {
       "addedWidgets": {},
       "aggData": [],
       "aggError": "",
       "aggOverflow": false,
       "aggSchema": [],
       "aggSeriesLimitReached": false,
       "aggType": "",
       "arguments": {},
       "columnCustomDisplayInfos": {},
       "data": [
        [
         550
        ]
       ],
       "datasetInfos": [],
       "dbfsResultPath": null,
       "isJsonSchema": true,
       "metadata": {},
       "overflow": false,
       "plotOptions": {
        "customPlotOptions": {},
        "displayType": "table",
        "pivotAggregation": null,
        "pivotColumns": null,
        "xColumns": null,
        "yColumns": null
       },
       "removedWidgets": [],
       "schema": [
        {
         "metadata": "{}",
         "name": "QtdeLivros",
         "type": "\"long\""
        }
       ],
       "type": "table"
      }
     },
     "output_type": "display_data"
    }
   ],
   "source": [
    "%sql\n",
    "-- Quantidade de livros na tabela\n",
    "SELECT COUNT(NAME) AS QtdeLivros FROM bestsellers"
   ]
  },
  {
   "cell_type": "markdown",
   "metadata": {
    "application/vnd.databricks.v1+cell": {
     "cellMetadata": {},
     "inputWidgets": {},
     "nuid": "cfb21f3b-7bc5-4c7e-a6fc-87a7bdb77663",
     "showTitle": false,
     "tableResultSettingsMap": {},
     "title": ""
    }
   },
   "source": [
    "O dataset possui 550 livros."
   ]
  },
  {
   "cell_type": "markdown",
   "metadata": {
    "application/vnd.databricks.v1+cell": {
     "cellMetadata": {},
     "inputWidgets": {},
     "nuid": "1c8898d7-35b9-4a2c-a3bb-89f1dd8d1c87",
     "showTitle": false,
     "tableResultSettingsMap": {},
     "title": ""
    }
   },
   "source": [
    "**Pergunta 2:** Quais são os livros que constam neste dataset por Autor?"
   ]
  },
  {
   "cell_type": "code",
   "execution_count": 0,
   "metadata": {
    "application/vnd.databricks.v1+cell": {
     "cellMetadata": {
      "byteLimit": 2048000,
      "implicitDf": true,
      "rowLimit": 10000
     },
     "inputWidgets": {},
     "nuid": "08afd51c-6210-4c56-a875-f41389350a74",
     "showTitle": false,
     "tableResultSettingsMap": {},
     "title": ""
    }
   },
   "outputs": [
    {
     "output_type": "display_data",
     "data": {
      "text/html": [
       "<style scoped>\n",
       "  .table-result-container {\n",
       "    max-height: 300px;\n",
       "    overflow: auto;\n",
       "  }\n",
       "  table, th, td {\n",
       "    border: 1px solid black;\n",
       "    border-collapse: collapse;\n",
       "  }\n",
       "  th, td {\n",
       "    padding: 5px;\n",
       "  }\n",
       "  th {\n",
       "    text-align: left;\n",
       "  }\n",
       "</style><div class='table-result-container'><table class='table-result'><thead style='background-color: white'><tr><th>Author</th><th>Name</th></tr></thead><tbody><tr><td>Abraham Verghese</td><td>Cutting for Stone</td></tr><tr><td>Adam Gasiewski</td><td>Milk and Vine: Inspirational Quotes From Classic Vines</td></tr><tr><td>Adam Mansbach</td><td>Go the F**k to Sleep</td></tr><tr><td>Adir Levy</td><td>What Should Danny Do? (The Power to Choose Series)</td></tr><tr><td>Admiral William H. McRaven</td><td>Make Your Bed: Little Things That Can Change Your Life...And Maybe the World</td></tr><tr><td>Adult Coloring Book Designs</td><td>Adult Coloring Book Designs: Stress Relief Coloring Book: Garden Designs, Mandalas, Animals, and Paisley Patterns</td></tr><tr><td>Alan Moore</td><td>Watchmen</td></tr><tr><td>Alex Michaelides</td><td>The Silent Patient</td></tr><tr><td>Alice Schertle</td><td>Little Blue Truck</td></tr><tr><td>Allie Brosh</td><td>Hyperbole and a Half: Unfortunate Situations, Flawed Coping Mechanisms, Mayhem, and Other Things That Happened</td></tr></tbody></table></div>"
      ]
     },
     "metadata": {
      "application/vnd.databricks.v1+output": {
       "addedWidgets": {},
       "aggData": [],
       "aggError": "",
       "aggOverflow": false,
       "aggSchema": [],
       "aggSeriesLimitReached": false,
       "aggType": "",
       "arguments": {},
       "columnCustomDisplayInfos": {},
       "data": [
        [
         "Abraham Verghese",
         "Cutting for Stone"
        ],
        [
         "Adam Gasiewski",
         "Milk and Vine: Inspirational Quotes From Classic Vines"
        ],
        [
         "Adam Mansbach",
         "Go the F**k to Sleep"
        ],
        [
         "Adir Levy",
         "What Should Danny Do? (The Power to Choose Series)"
        ],
        [
         "Admiral William H. McRaven",
         "Make Your Bed: Little Things That Can Change Your Life...And Maybe the World"
        ],
        [
         "Adult Coloring Book Designs",
         "Adult Coloring Book Designs: Stress Relief Coloring Book: Garden Designs, Mandalas, Animals, and Paisley Patterns"
        ],
        [
         "Alan Moore",
         "Watchmen"
        ],
        [
         "Alex Michaelides",
         "The Silent Patient"
        ],
        [
         "Alice Schertle",
         "Little Blue Truck"
        ],
        [
         "Allie Brosh",
         "Hyperbole and a Half: Unfortunate Situations, Flawed Coping Mechanisms, Mayhem, and Other Things That Happened"
        ]
       ],
       "datasetInfos": [],
       "dbfsResultPath": null,
       "isJsonSchema": true,
       "metadata": {},
       "overflow": false,
       "plotOptions": {
        "customPlotOptions": {},
        "displayType": "table",
        "pivotAggregation": null,
        "pivotColumns": null,
        "xColumns": null,
        "yColumns": null
       },
       "removedWidgets": [],
       "schema": [
        {
         "metadata": "{}",
         "name": "Author",
         "type": "\"string\""
        },
        {
         "metadata": "{}",
         "name": "Name",
         "type": "\"string\""
        }
       ],
       "type": "table"
      }
     },
     "output_type": "display_data"
    }
   ],
   "source": [
    "%sql\n",
    "SELECT DISTINCT Author, Name FROM bestsellers \n",
    "ORDER BY 1 LIMIT 10\n"
   ]
  },
  {
   "cell_type": "markdown",
   "metadata": {
    "application/vnd.databricks.v1+cell": {
     "cellMetadata": {},
     "inputWidgets": {},
     "nuid": "138ca4a1-ee1d-4249-adbc-8597e3bc3560",
     "showTitle": false,
     "tableResultSettingsMap": {},
     "title": ""
    }
   },
   "source": [
    "A quantidade de livros apresentada no resultado foi limitada a 10, devido a dificuldade de formatação do resultado após a exportação do projeto.\n",
    "\n",
    "É possível visualizar os livros por autor. Os livros foram listados pelo nome do autor em ordem alfabética crescente."
   ]
  },
  {
   "cell_type": "markdown",
   "metadata": {
    "application/vnd.databricks.v1+cell": {
     "cellMetadata": {},
     "inputWidgets": {},
     "nuid": "36c0ee78-69ee-43e7-a7be-b1e1675305c7",
     "showTitle": false,
     "tableResultSettingsMap": {},
     "title": ""
    }
   },
   "source": [
    "**Pergunta 3:** Quais são os gêneros dos livros deste escopo de dados?"
   ]
  },
  {
   "cell_type": "code",
   "execution_count": 0,
   "metadata": {
    "application/vnd.databricks.v1+cell": {
     "cellMetadata": {
      "byteLimit": 2048000,
      "implicitDf": true,
      "rowLimit": 10000
     },
     "inputWidgets": {},
     "nuid": "2e677b15-6392-4300-8440-713f13addbaa",
     "showTitle": false,
     "tableResultSettingsMap": {},
     "title": ""
    }
   },
   "outputs": [
    {
     "output_type": "display_data",
     "data": {
      "text/html": [
       "<style scoped>\n",
       "  .table-result-container {\n",
       "    max-height: 300px;\n",
       "    overflow: auto;\n",
       "  }\n",
       "  table, th, td {\n",
       "    border: 1px solid black;\n",
       "    border-collapse: collapse;\n",
       "  }\n",
       "  th, td {\n",
       "    padding: 5px;\n",
       "  }\n",
       "  th {\n",
       "    text-align: left;\n",
       "  }\n",
       "</style><div class='table-result-container'><table class='table-result'><thead style='background-color: white'><tr><th>GENRE</th></tr></thead><tbody><tr><td>Fiction</td></tr><tr><td>Non Fiction</td></tr></tbody></table></div>"
      ]
     },
     "metadata": {
      "application/vnd.databricks.v1+output": {
       "addedWidgets": {},
       "aggData": [],
       "aggError": "",
       "aggOverflow": false,
       "aggSchema": [],
       "aggSeriesLimitReached": false,
       "aggType": "",
       "arguments": {},
       "columnCustomDisplayInfos": {},
       "data": [
        [
         "Fiction"
        ],
        [
         "Non Fiction"
        ]
       ],
       "datasetInfos": [],
       "dbfsResultPath": null,
       "isJsonSchema": true,
       "metadata": {},
       "overflow": false,
       "plotOptions": {
        "customPlotOptions": {},
        "displayType": "table",
        "pivotAggregation": null,
        "pivotColumns": null,
        "xColumns": null,
        "yColumns": null
       },
       "removedWidgets": [],
       "schema": [
        {
         "metadata": "{}",
         "name": "GENRE",
         "type": "\"string\""
        }
       ],
       "type": "table"
      }
     },
     "output_type": "display_data"
    }
   ],
   "source": [
    "%sql\n",
    "SELECT DISTINCT GENRE FROM bestsellers"
   ]
  },
  {
   "cell_type": "markdown",
   "metadata": {
    "application/vnd.databricks.v1+cell": {
     "cellMetadata": {},
     "inputWidgets": {},
     "nuid": "78b07733-de6a-405c-90bf-0077d0962511",
     "showTitle": false,
     "tableResultSettingsMap": {},
     "title": ""
    }
   },
   "source": [
    "Os gêneros do livros listados no dataset são Ficção e Não Ficção."
   ]
  },
  {
   "cell_type": "markdown",
   "metadata": {
    "application/vnd.databricks.v1+cell": {
     "cellMetadata": {},
     "inputWidgets": {},
     "nuid": "e0308856-ec18-4bff-9752-9420196123e9",
     "showTitle": false,
     "tableResultSettingsMap": {},
     "title": ""
    }
   },
   "source": [
    "***Pergunta 4***: Qual o total de livros para cada gênero neste conjunto de dados?"
   ]
  },
  {
   "cell_type": "code",
   "execution_count": 0,
   "metadata": {
    "application/vnd.databricks.v1+cell": {
     "cellMetadata": {
      "byteLimit": 2048000,
      "implicitDf": true,
      "rowLimit": 10000
     },
     "inputWidgets": {},
     "nuid": "4b3c4126-b3ef-48ec-835c-d1e61ca76306",
     "showTitle": false,
     "tableResultSettingsMap": {},
     "title": ""
    }
   },
   "outputs": [
    {
     "output_type": "display_data",
     "data": {
      "text/html": [
       "<style scoped>\n",
       "  .table-result-container {\n",
       "    max-height: 300px;\n",
       "    overflow: auto;\n",
       "  }\n",
       "  table, th, td {\n",
       "    border: 1px solid black;\n",
       "    border-collapse: collapse;\n",
       "  }\n",
       "  th, td {\n",
       "    padding: 5px;\n",
       "  }\n",
       "  th {\n",
       "    text-align: left;\n",
       "  }\n",
       "</style><div class='table-result-container'><table class='table-result'><thead style='background-color: white'><tr><th>Genre</th><th>QtdePorGenero</th></tr></thead><tbody><tr><td>Fiction</td><td>240</td></tr><tr><td>Non Fiction</td><td>310</td></tr></tbody></table></div>"
      ]
     },
     "metadata": {
      "application/vnd.databricks.v1+output": {
       "addedWidgets": {},
       "aggData": [],
       "aggError": "",
       "aggOverflow": false,
       "aggSchema": [],
       "aggSeriesLimitReached": false,
       "aggType": "",
       "arguments": {},
       "columnCustomDisplayInfos": {},
       "data": [
        [
         "Fiction",
         240
        ],
        [
         "Non Fiction",
         310
        ]
       ],
       "datasetInfos": [],
       "dbfsResultPath": null,
       "isJsonSchema": true,
       "metadata": {},
       "overflow": false,
       "plotOptions": {
        "customPlotOptions": {},
        "displayType": "table",
        "pivotAggregation": null,
        "pivotColumns": null,
        "xColumns": null,
        "yColumns": null
       },
       "removedWidgets": [],
       "schema": [
        {
         "metadata": "{}",
         "name": "Genre",
         "type": "\"string\""
        },
        {
         "metadata": "{}",
         "name": "QtdePorGenero",
         "type": "\"long\""
        }
       ],
       "type": "table"
      }
     },
     "output_type": "display_data"
    }
   ],
   "source": [
    "%sql\n",
    "SELECT Genre, COUNT (GENRE) AS QtdePorGenero FROM bestsellers\n",
    "group by Genre"
   ]
  },
  {
   "cell_type": "markdown",
   "metadata": {
    "application/vnd.databricks.v1+cell": {
     "cellMetadata": {},
     "inputWidgets": {},
     "nuid": "a338aac7-ac56-4b86-9e37-2e3d620cb1c6",
     "showTitle": false,
     "tableResultSettingsMap": {},
     "title": ""
    }
   },
   "source": [
    "Dos 550 livros listados no dataset, 240 são do gênero Ficção e 310 do gênero Não Ficção."
   ]
  },
  {
   "cell_type": "markdown",
   "metadata": {
    "application/vnd.databricks.v1+cell": {
     "cellMetadata": {},
     "inputWidgets": {},
     "nuid": "dbcb2a9d-b531-4c12-9463-e496c3aa6810",
     "showTitle": false,
     "tableResultSettingsMap": {},
     "title": ""
    }
   },
   "source": [
    "**Pergunta 5:** Quais os livros com a melhor avaliação de 2019, que custam menos de US$20?"
   ]
  },
  {
   "cell_type": "code",
   "execution_count": 0,
   "metadata": {
    "application/vnd.databricks.v1+cell": {
     "cellMetadata": {
      "byteLimit": 2048000,
      "implicitDf": true,
      "rowLimit": 10000
     },
     "inputWidgets": {},
     "nuid": "f24a3cd6-5d0c-46ad-88ef-f4537c7375d9",
     "showTitle": false,
     "tableResultSettingsMap": {},
     "title": ""
    }
   },
   "outputs": [
    {
     "output_type": "display_data",
     "data": {
      "text/html": [
       "<style scoped>\n",
       "  .table-result-container {\n",
       "    max-height: 300px;\n",
       "    overflow: auto;\n",
       "  }\n",
       "  table, th, td {\n",
       "    border: 1px solid black;\n",
       "    border-collapse: collapse;\n",
       "  }\n",
       "  th, td {\n",
       "    padding: 5px;\n",
       "  }\n",
       "  th {\n",
       "    text-align: left;\n",
       "  }\n",
       "</style><div class='table-result-container'><table class='table-result'><thead style='background-color: white'><tr><th>NAME</th><th>year</th><th>User Rating</th><th>Price</th></tr></thead><tbody><tr><td>Dog Man: Brawl of the Wild: From the Creator of Captain Underpants (Dog Man #6)</td><td>2019</td><td>4.9</td><td>4</td></tr><tr><td>Brown Bear, Brown Bear, What Do You See?</td><td>2019</td><td>4.9</td><td>5</td></tr><tr><td>The Very Hungry Caterpillar</td><td>2019</td><td>4.9</td><td>5</td></tr><tr><td>Strange Planet (Strange Planet Series)</td><td>2019</td><td>4.9</td><td>6</td></tr><tr><td>Dog Man: Fetch-22: From the Creator of Captain Underpants (Dog Man #8)</td><td>2019</td><td>4.9</td><td>8</td></tr><tr><td>Dog Man: For Whom the Ball Rolls: From the Creator of Captain Underpants (Dog Man #7)</td><td>2019</td><td>4.9</td><td>8</td></tr><tr><td>Oh, the Places You'll Go!</td><td>2019</td><td>4.9</td><td>8</td></tr><tr><td>Wrecking Ball (Diary of a Wimpy Kid Book 14)</td><td>2019</td><td>4.9</td><td>8</td></tr><tr><td>The Wonderful Things You Will Be</td><td>2019</td><td>4.9</td><td>10</td></tr><tr><td>Unfreedom of the Press</td><td>2019</td><td>4.9</td><td>11</td></tr><tr><td>Harry Potter and the Goblet of Fire: The Illustrated Edition (Harry Potter, Book 4) (4)</td><td>2019</td><td>4.9</td><td>18</td></tr></tbody></table></div>"
      ]
     },
     "metadata": {
      "application/vnd.databricks.v1+output": {
       "addedWidgets": {},
       "aggData": [],
       "aggError": "",
       "aggOverflow": false,
       "aggSchema": [],
       "aggSeriesLimitReached": false,
       "aggType": "",
       "arguments": {},
       "columnCustomDisplayInfos": {},
       "data": [
        [
         "Dog Man: Brawl of the Wild: From the Creator of Captain Underpants (Dog Man #6)",
         2019,
         4.9,
         4
        ],
        [
         "Brown Bear, Brown Bear, What Do You See?",
         2019,
         4.9,
         5
        ],
        [
         "The Very Hungry Caterpillar",
         2019,
         4.9,
         5
        ],
        [
         "Strange Planet (Strange Planet Series)",
         2019,
         4.9,
         6
        ],
        [
         "Dog Man: Fetch-22: From the Creator of Captain Underpants (Dog Man #8)",
         2019,
         4.9,
         8
        ],
        [
         "Dog Man: For Whom the Ball Rolls: From the Creator of Captain Underpants (Dog Man #7)",
         2019,
         4.9,
         8
        ],
        [
         "Oh, the Places You'll Go!",
         2019,
         4.9,
         8
        ],
        [
         "Wrecking Ball (Diary of a Wimpy Kid Book 14)",
         2019,
         4.9,
         8
        ],
        [
         "The Wonderful Things You Will Be",
         2019,
         4.9,
         10
        ],
        [
         "Unfreedom of the Press",
         2019,
         4.9,
         11
        ],
        [
         "Harry Potter and the Goblet of Fire: The Illustrated Edition (Harry Potter, Book 4) (4)",
         2019,
         4.9,
         18
        ]
       ],
       "datasetInfos": [],
       "dbfsResultPath": null,
       "isJsonSchema": true,
       "metadata": {},
       "overflow": false,
       "plotOptions": {
        "customPlotOptions": {},
        "displayType": "table",
        "pivotAggregation": null,
        "pivotColumns": null,
        "xColumns": null,
        "yColumns": null
       },
       "removedWidgets": [],
       "schema": [
        {
         "metadata": "{}",
         "name": "NAME",
         "type": "\"string\""
        },
        {
         "metadata": "{}",
         "name": "year",
         "type": "\"integer\""
        },
        {
         "metadata": "{}",
         "name": "User Rating",
         "type": "\"double\""
        },
        {
         "metadata": "{}",
         "name": "Price",
         "type": "\"integer\""
        }
       ],
       "type": "table"
      }
     },
     "output_type": "display_data"
    }
   ],
   "source": [
    "%sql\n",
    "-- Livros listados abaixo.\n",
    "SELECT NAME, year, `User Rating`, Price FROM bestsellers\n",
    "WHERE `User Rating`= (SELECT MAX(`User Rating`)FROM bestsellers where year = 2019)\n",
    "AND Price <= 20\n",
    "AND Year = 2019\n",
    "ORDER BY Price ASC"
   ]
  },
  {
   "cell_type": "markdown",
   "metadata": {
    "application/vnd.databricks.v1+cell": {
     "cellMetadata": {},
     "inputWidgets": {},
     "nuid": "bcb6870b-7b25-47b7-97f8-e0c6b7bd4135",
     "showTitle": false,
     "tableResultSettingsMap": {},
     "title": ""
    }
   },
   "source": [
    "# **AutoAvaliação**"
   ]
  },
  {
   "cell_type": "markdown",
   "metadata": {
    "application/vnd.databricks.v1+cell": {
     "cellMetadata": {},
     "inputWidgets": {},
     "nuid": "a33ad299-f653-45a2-9cf0-720a6eea1445",
     "showTitle": false,
     "tableResultSettingsMap": {},
     "title": ""
    }
   },
   "source": [
    "De modo geral, as perguntas formuladas no inicio do trabalho foram bem respondidas. \n",
    "\n",
    "Acredito ter atingido todos os objetivos propostos no trabalho.\n",
    "Outro ponto fundamental foi o aprendizado na ferramenta Databricks, que está sendo cada vez mais utilizada e solicitada no mercado de trabalho. \n",
    "\n",
    "Minha maior dificuldade foi aprender a ferramenta, pois não tinha conhecimento algum dela, e por ser uma versão não paga, o cluster dura apenas 2hs, o que atrasa a finalização do projeto."
   ]
  }
 ],
 "metadata": {
  "application/vnd.databricks.v1+notebook": {
   "computePreferences": null,
   "dashboards": [
    {
     "elements": [],
     "globalVars": {},
     "guid": "",
     "layoutOption": {
      "grid": true,
      "stack": true
     },
     "nuid": "31db8179-d8dd-433a-9d92-cbb59483a1a9",
     "origId": 1085107752299037,
     "title": "Untitled",
     "version": "DashboardViewV1",
     "width": 1024
    }
   ],
   "environmentMetadata": {
    "base_environment": "",
    "environment_version": "1"
   },
   "inputWidgetPreferences": null,
   "language": "python",
   "notebookMetadata": {
    "mostRecentlyExecutedCommandWithImplicitDF": {
     "commandId": 2667324302414656,
     "dataframes": [
      "_sqldf"
     ]
    },
    "pythonIndentUnit": 4
   },
   "notebookName": "MVPEngenhariaDeDados",
   "widgets": {}
  }
 },
 "nbformat": 4,
 "nbformat_minor": 0
}