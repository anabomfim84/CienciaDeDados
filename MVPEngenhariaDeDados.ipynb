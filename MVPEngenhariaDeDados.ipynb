{
 "cells": [
  {
   "cell_type": "markdown",
   "metadata": {
    "application/vnd.databricks.v1+cell": {
     "cellMetadata": {},
     "inputWidgets": {},
     "nuid": "47e39640-8e0a-47f2-8976-f6c09340f208",
     "showTitle": false,
     "tableResultSettingsMap": {},
     "title": ""
    }
   },
   "source": [
    "# **MVP Engenharia de Dados**\n",
    "**Aluna: Ana Cristina Paula Bomfim**\n",
    "\n",
    "**MVP Livros mais vendidos na Amazon de 2009 - 2019**\n"
   ]
  },
  {
   "cell_type": "markdown",
   "metadata": {
    "application/vnd.databricks.v1+cell": {
     "cellMetadata": {},
     "inputWidgets": {},
     "nuid": "5bd02ca5-3c3e-41dc-9598-d3db7f914665",
     "showTitle": false,
     "tableResultSettingsMap": {},
     "title": ""
    }
   },
   "source": [
    "# **Objetivo**\n",
    "\n",
    "A partir de dados sobre os 50 Livros mais vendidos (Top 50 bestselling) da empresa Amazon no período de 2009-2019, o objetivo deste Pipeline de Dados em questão é responder as seguintes perguntas:\n",
    "\n",
    "***Pergunta 1***: Qual a quantidade de livros do dataset analisado?\n",
    "\n",
    "***Pergunta 2***: Quais são os livros que constam neste dataset por Autor? \n",
    "\n",
    "***Pergunta 3***: Quais são os gêneros (campo Genre) dos livros deste escopo de dados?\n",
    "\n",
    "***Pergunta 4***: Qual o total de livros para cada gênero (campo Genre) neste conjunto de dados?\n",
    "\n",
    "***Pergunta 5***: Principal pergunta a ser respondida nesta análise: **Quais os livros com as melhores avaliações de 2019, que custam menos de US$25?**"
   ]
  },
  {
   "cell_type": "markdown",
   "metadata": {
    "application/vnd.databricks.v1+cell": {
     "cellMetadata": {},
     "inputWidgets": {},
     "nuid": "6a7b5d13-ed92-46ca-a60c-fe8b53d687d3",
     "showTitle": false,
     "tableResultSettingsMap": {},
     "title": ""
    }
   },
   "source": [
    "# **Busca pelo Dados**\n",
    "\n",
    "O dataset escolhido é uma base de dados gratuita proveniente da plataforma Kaggle, sobre os 50 livros mais vendidos pela empresa Amazon de 2009-2019, e que foram categorizados nos gêneros ficção e não-ficção usando \"Goodreads\" (Uma plataforma online que funciona como uma rede social e catálogo de livros).\n",
    "\n",
    "Para mais detalhes sobre o dataset, consulte: https://www.kaggle.com/datasets/sootersaalu/amazon-top-50-bestselling-books-2009-2019\n",
    "\n",
    "O tipo de licença comun para este conjunto de dados é: Marca de domínio público.\n",
    "\n",
    "Informação dos campos da Tabela Livros (dataset):\n",
    "\n",
    "* **Name**: Nome do livro;\n",
    "\n",
    "* **Autho**r: Autor do livro;\n",
    "\n",
    "* **UserRating**: Avaliação do usuário;\n",
    "\n",
    "* **Reviews**: Número de avaliações;\n",
    "\n",
    "* **Price**: Preço;\n",
    "\n",
    "* **Year**: Ano em que foi classificado como o mais vendido; \n",
    "\n",
    "* **Genre**: Gênero do livro."
   ]
  },
  {
   "cell_type": "markdown",
   "metadata": {
    "application/vnd.databricks.v1+cell": {
     "cellMetadata": {},
     "inputWidgets": {},
     "nuid": "268719cb-5d42-4c77-97ac-15e2c2bda00d",
     "showTitle": false,
     "tableResultSettingsMap": {},
     "title": ""
    }
   },
   "source": [
    "# **Coleta**\n",
    "O Dataset foi baixado da WEB, do site https://www.kaggle.com/code/jaimeandrevelasquez/data-analytics-case-study-amazon-bestsellers/input?select=bestsellers+with+categories.csv), para o disco local no formato de arquivo .CSV, e o PIPELINE DE DADOS em questão coletará este arquivo no referido disco para armazená-lo na nuvem.\n",
    "\n",
    "**Plataforma**\n",
    "\n",
    "A plataforma utilizada para o desenvolvimento desse projeto será \n",
    " o Databricks Community."
   ]
  },
  {
   "cell_type": "markdown",
   "metadata": {
    "application/vnd.databricks.v1+cell": {
     "cellMetadata": {},
     "inputWidgets": {},
     "nuid": "7e6dd6d6-f413-43b2-8028-dcd3b727cdfd",
     "showTitle": false,
     "tableResultSettingsMap": {},
     "title": ""
    }
   },
   "source": [
    "# **Carga**\n",
    "\n",
    "A partir desse Dataset, foi criada uma tabela chamada bestsellers em um Notebook da Plataforma Databricks Community."
   ]
  },
  {
   "cell_type": "code",
   "execution_count": 0,
   "metadata": {
    "application/vnd.databricks.v1+cell": {
     "cellMetadata": {
      "byteLimit": 2048000,
      "rowLimit": 10000
     },
     "inputWidgets": {},
     "nuid": "7ca5d74c-9780-41c8-acb5-09d523219c0c",
     "showTitle": false,
     "tableResultSettingsMap": {},
     "title": ""
    }
   },
   "outputs": [
    {
     "output_type": "stream",
     "name": "stdout",
     "output_type": "stream",
     "text": [
      "+--------------------+--------------------+-----------+-------+-----+----+-----------+\n|                Name|              Author|User Rating|Reviews|Price|Year|      Genre|\n+--------------------+--------------------+-----------+-------+-----+----+-----------+\n|10-Day Green Smoo...|            JJ Smith|        4.7|  17350|    8|2016|Non Fiction|\n|   11/22/63: A Novel|        Stephen King|        4.6|   2052|   22|2011|    Fiction|\n|12 Rules for Life...|  Jordan B. Peterson|        4.7|  18979|   15|2018|Non Fiction|\n|1984 (Signet Clas...|       George Orwell|        4.7|  21424|    6|2017|    Fiction|\n|5,000 Awesome Fac...|National Geograph...|        4.8|   7665|   12|2019|Non Fiction|\n|A Dance with Drag...| George R. R. Martin|        4.4|  12643|   11|2011|    Fiction|\n|A Game of Thrones...| George R. R. Martin|        4.7|  19735|   30|2014|    Fiction|\n|A Gentleman in Mo...|         Amor Towles|        4.7|  19699|   15|2017|    Fiction|\n|A Higher Loyalty:...|         James Comey|        4.7|   5983|    3|2018|Non Fiction|\n|A Man Called Ove:...|     Fredrik Backman|        4.6|  23848|    8|2016|    Fiction|\n|A Man Called Ove:...|     Fredrik Backman|        4.6|  23848|    8|2017|    Fiction|\n|A Patriot's Histo...|    Larry Schweikart|        4.6|    460|    2|2010|Non Fiction|\n|A Stolen Life: A ...|       Jaycee Dugard|        4.6|   4149|   32|2011|Non Fiction|\n|A Wrinkle in Time...|   Madeleine L'Engle|        4.5|   5153|    5|2018|    Fiction|\n|Act Like a Lady, ...|        Steve Harvey|        4.6|   5013|   17|2009|Non Fiction|\n|Adult Coloring Bo...|Adult Coloring Bo...|        4.5|   2313|    4|2016|Non Fiction|\n|Adult Coloring Bo...|  Blue Star Coloring|        4.6|   2925|    6|2015|Non Fiction|\n|Adult Coloring Bo...|  Blue Star Coloring|        4.4|   2951|    6|2015|Non Fiction|\n|Adult Coloring Bo...|Coloring Books fo...|        4.5|   2426|    8|2015|Non Fiction|\n|  Alexander Hamilton|         Ron Chernow|        4.8|   9198|   13|2016|Non Fiction|\n+--------------------+--------------------+-----------+-------+-----+----+-----------+\nonly showing top 20 rows\n\n"
     ]
    }
   ],
   "source": [
    "\n",
    "# Caminho do arquivo CSV no DBFS\n",
    "file_path = \"dbfs:/FileStore/MVPEngenhariaDeDados/bestsellers_with_categories.csv\"\n",
    "\n",
    "# Carregar o arquivo CSV em um DataFrame Spark\n",
    "df = spark.read.option(\"header\", \"true\").csv(file_path)\n",
    "\n",
    "# Mostrar as primeiras linhas do DataFrame\n",
    "df.show()"
   ]
  },
  {
   "cell_type": "code",
   "execution_count": 0,
   "metadata": {
    "application/vnd.databricks.v1+cell": {
     "cellMetadata": {
      "byteLimit": 2048000,
      "implicitDf": true,
      "rowLimit": 10000
     },
     "inputWidgets": {},
     "nuid": "26d74db3-59b4-4a8c-915a-6c4dc0b8bbe1",
     "showTitle": false,
     "tableResultSettingsMap": {},
     "title": ""
    }
   },
   "outputs": [
    {
     "output_type": "display_data",
     "data": {
      "text/html": [
       "<style scoped>\n",
       "  .table-result-container {\n",
       "    max-height: 300px;\n",
       "    overflow: auto;\n",
       "  }\n",
       "  table, th, td {\n",
       "    border: 1px solid black;\n",
       "    border-collapse: collapse;\n",
       "  }\n",
       "  th, td {\n",
       "    padding: 5px;\n",
       "  }\n",
       "  th {\n",
       "    text-align: left;\n",
       "  }\n",
       "</style><div class='table-result-container'><table class='table-result'><thead style='background-color: white'><tr><th>Name</th><th>Author</th><th>User Rating</th><th>Reviews</th><th>Price</th><th>Year</th><th>Genre</th></tr></thead><tbody><tr><td>10-Day Green Smoothie Cleanse</td><td>JJ Smith</td><td>4.7</td><td>17350</td><td>8</td><td>2016</td><td>Non Fiction</td></tr><tr><td>11/22/63: A Novel</td><td>Stephen King</td><td>4.6</td><td>2052</td><td>22</td><td>2011</td><td>Fiction</td></tr><tr><td>12 Rules for Life: An Antidote to Chaos</td><td>Jordan B. Peterson</td><td>4.7</td><td>18979</td><td>15</td><td>2018</td><td>Non Fiction</td></tr><tr><td>1984 (Signet Classics)</td><td>George Orwell</td><td>4.7</td><td>21424</td><td>6</td><td>2017</td><td>Fiction</td></tr><tr><td>5,000 Awesome Facts (About Everything!) (National Geographic Kids)</td><td>National Geographic Kids</td><td>4.8</td><td>7665</td><td>12</td><td>2019</td><td>Non Fiction</td></tr><tr><td>A Dance with Dragons (A Song of Ice and Fire)</td><td>George R. R. Martin</td><td>4.4</td><td>12643</td><td>11</td><td>2011</td><td>Fiction</td></tr><tr><td>A Game of Thrones / A Clash of Kings / A Storm of Swords / A Feast of Crows / A Dance with Dragons</td><td>George R. R. Martin</td><td>4.7</td><td>19735</td><td>30</td><td>2014</td><td>Fiction</td></tr><tr><td>A Gentleman in Moscow: A Novel</td><td>Amor Towles</td><td>4.7</td><td>19699</td><td>15</td><td>2017</td><td>Fiction</td></tr><tr><td>A Higher Loyalty: Truth, Lies, and Leadership</td><td>James Comey</td><td>4.7</td><td>5983</td><td>3</td><td>2018</td><td>Non Fiction</td></tr><tr><td>A Man Called Ove: A Novel</td><td>Fredrik Backman</td><td>4.6</td><td>23848</td><td>8</td><td>2016</td><td>Fiction</td></tr><tr><td>A Man Called Ove: A Novel</td><td>Fredrik Backman</td><td>4.6</td><td>23848</td><td>8</td><td>2017</td><td>Fiction</td></tr><tr><td>A Patriot's History of the United States: From Columbus's Great Discovery to the War on Terror</td><td>Larry Schweikart</td><td>4.6</td><td>460</td><td>2</td><td>2010</td><td>Non Fiction</td></tr><tr><td>A Stolen Life: A Memoir</td><td>Jaycee Dugard</td><td>4.6</td><td>4149</td><td>32</td><td>2011</td><td>Non Fiction</td></tr><tr><td>A Wrinkle in Time (Time Quintet)</td><td>Madeleine L'Engle</td><td>4.5</td><td>5153</td><td>5</td><td>2018</td><td>Fiction</td></tr><tr><td>Act Like a Lady, Think Like a Man: What Men Really Think About Love, Relationships, Intimacy, and Commitment</td><td>Steve Harvey</td><td>4.6</td><td>5013</td><td>17</td><td>2009</td><td>Non Fiction</td></tr><tr><td>Adult Coloring Book Designs: Stress Relief Coloring Book: Garden Designs, Mandalas, Animals, and Paisley Patterns</td><td>Adult Coloring Book Designs</td><td>4.5</td><td>2313</td><td>4</td><td>2016</td><td>Non Fiction</td></tr><tr><td>Adult Coloring Book: Stress Relieving Animal Designs</td><td>Blue Star Coloring</td><td>4.6</td><td>2925</td><td>6</td><td>2015</td><td>Non Fiction</td></tr><tr><td>Adult Coloring Book: Stress Relieving Patterns</td><td>Blue Star Coloring</td><td>4.4</td><td>2951</td><td>6</td><td>2015</td><td>Non Fiction</td></tr><tr><td>Adult Coloring Books: A Coloring Book for Adults Featuring Mandalas and Henna Inspired Flowers, Animals, and Paisley…</td><td>Coloring Books for Adults</td><td>4.5</td><td>2426</td><td>8</td><td>2015</td><td>Non Fiction</td></tr><tr><td>Alexander Hamilton</td><td>Ron Chernow</td><td>4.8</td><td>9198</td><td>13</td><td>2016</td><td>Non Fiction</td></tr><tr><td>All the Light We Cannot See</td><td>Anthony Doerr</td><td>4.6</td><td>36348</td><td>14</td><td>2014</td><td>Fiction</td></tr><tr><td>All the Light We Cannot See</td><td>Anthony Doerr</td><td>4.6</td><td>36348</td><td>14</td><td>2015</td><td>Fiction</td></tr><tr><td>Allegiant</td><td>Veronica Roth</td><td>3.9</td><td>6310</td><td>13</td><td>2013</td><td>Fiction</td></tr><tr><td>American Sniper: The Autobiography of the Most Lethal Sniper in U.S. Military History</td><td>Chris Kyle</td><td>4.6</td><td>15921</td><td>9</td><td>2015</td><td>Non Fiction</td></tr><tr><td>And the Mountains Echoed</td><td>Khaled Hosseini</td><td>4.3</td><td>12159</td><td>13</td><td>2013</td><td>Fiction</td></tr><tr><td>Arguing with Idiots: How to Stop Small Minds and Big Government</td><td>Glenn Beck</td><td>4.6</td><td>798</td><td>5</td><td>2009</td><td>Non Fiction</td></tr><tr><td>Astrophysics for People in a Hurry</td><td>Neil deGrasse Tyson</td><td>4.7</td><td>9374</td><td>9</td><td>2017</td><td>Non Fiction</td></tr><tr><td>Autobiography of Mark Twain, Vol. 1</td><td>Mark Twain</td><td>4.2</td><td>491</td><td>14</td><td>2010</td><td>Non Fiction</td></tr><tr><td>Baby Touch and Feel: Animals</td><td>DK</td><td>4.6</td><td>5360</td><td>5</td><td>2015</td><td>Non Fiction</td></tr><tr><td>Balance (Angie's Extreme Stress Menders)</td><td>Angie Grace</td><td>4.6</td><td>1909</td><td>11</td><td>2015</td><td>Non Fiction</td></tr><tr><td>Barefoot Contessa Foolproof: Recipes You Can Trust: A Cookbook</td><td>Ina Garten</td><td>4.8</td><td>1296</td><td>24</td><td>2012</td><td>Non Fiction</td></tr><tr><td>Barefoot Contessa, How Easy Is That?: Fabulous Recipes & Easy Tips</td><td>Ina Garten</td><td>4.7</td><td>615</td><td>21</td><td>2010</td><td>Non Fiction</td></tr><tr><td>Becoming</td><td>Michelle Obama</td><td>4.8</td><td>61133</td><td>11</td><td>2018</td><td>Non Fiction</td></tr><tr><td>Becoming</td><td>Michelle Obama</td><td>4.8</td><td>61133</td><td>11</td><td>2019</td><td>Non Fiction</td></tr><tr><td>Being Mortal: Medicine and What Matters in the End</td><td>Atul Gawande</td><td>4.8</td><td>11113</td><td>15</td><td>2015</td><td>Non Fiction</td></tr><tr><td>Between the World and Me</td><td>Ta-Nehisi Coates</td><td>4.7</td><td>10070</td><td>13</td><td>2015</td><td>Non Fiction</td></tr><tr><td>Between the World and Me</td><td>Ta-Nehisi Coates</td><td>4.7</td><td>10070</td><td>13</td><td>2016</td><td>Non Fiction</td></tr><tr><td>Born to Run</td><td>Bruce Springsteen</td><td>4.7</td><td>3729</td><td>18</td><td>2016</td><td>Non Fiction</td></tr><tr><td>Breaking Dawn (The Twilight Saga, Book 4)</td><td>Stephenie Meyer</td><td>4.6</td><td>9769</td><td>13</td><td>2009</td><td>Fiction</td></tr><tr><td>Broke: The Plan to Restore Our Trust, Truth and Treasure</td><td>Glenn Beck</td><td>4.5</td><td>471</td><td>8</td><td>2010</td><td>Non Fiction</td></tr><tr><td>Brown Bear, Brown Bear, What Do You See?</td><td>Bill Martin Jr.</td><td>4.9</td><td>14344</td><td>5</td><td>2017</td><td>Fiction</td></tr><tr><td>Brown Bear, Brown Bear, What Do You See?</td><td>Bill Martin Jr.</td><td>4.9</td><td>14344</td><td>5</td><td>2019</td><td>Fiction</td></tr><tr><td>Cabin Fever (Diary of a Wimpy Kid, Book 6)</td><td>Jeff Kinney</td><td>4.8</td><td>4505</td><td>0</td><td>2011</td><td>Fiction</td></tr><tr><td>Calm the F*ck Down: An Irreverent Adult Coloring Book (Irreverent Book Series)</td><td>Sasha O'Hara</td><td>4.6</td><td>10369</td><td>4</td><td>2016</td><td>Non Fiction</td></tr><tr><td>Can't Hurt Me: Master Your Mind and Defy the Odds</td><td>David Goggins</td><td>4.8</td><td>16244</td><td>18</td><td>2019</td><td>Non Fiction</td></tr><tr><td>Capital in the Twenty First Century</td><td>Thomas Piketty</td><td>4.5</td><td>2884</td><td>28</td><td>2014</td><td>Non Fiction</td></tr><tr><td>Catching Fire (The Hunger Games)</td><td>Suzanne Collins</td><td>4.7</td><td>22614</td><td>11</td><td>2010</td><td>Fiction</td></tr><tr><td>Catching Fire (The Hunger Games)</td><td>Suzanne Collins</td><td>4.7</td><td>22614</td><td>11</td><td>2011</td><td>Fiction</td></tr><tr><td>Catching Fire (The Hunger Games)</td><td>Suzanne Collins</td><td>4.7</td><td>22614</td><td>11</td><td>2012</td><td>Fiction</td></tr><tr><td>Cravings: Recipes for All the Food You Want to Eat: A Cookbook</td><td>Chrissy Teigen</td><td>4.7</td><td>4761</td><td>16</td><td>2016</td><td>Non Fiction</td></tr><tr><td>Crazy Love: Overwhelmed by a Relentless God</td><td>Francis Chan</td><td>4.7</td><td>1542</td><td>14</td><td>2009</td><td>Non Fiction</td></tr><tr><td>Crazy Love: Overwhelmed by a Relentless God</td><td>Francis Chan</td><td>4.7</td><td>1542</td><td>14</td><td>2010</td><td>Non Fiction</td></tr><tr><td>Crazy Love: Overwhelmed by a Relentless God</td><td>Francis Chan</td><td>4.7</td><td>1542</td><td>14</td><td>2011</td><td>Non Fiction</td></tr><tr><td>Crazy Rich Asians (Crazy Rich Asians Trilogy)</td><td>Kevin Kwan</td><td>4.3</td><td>6143</td><td>8</td><td>2018</td><td>Fiction</td></tr><tr><td>Creative Haven Creative Cats Coloring Book (Adult Coloring)</td><td>Marjorie Sarnat</td><td>4.8</td><td>4022</td><td>4</td><td>2015</td><td>Non Fiction</td></tr><tr><td>Creative Haven Owls Coloring Book (Adult Coloring)</td><td>Marjorie Sarnat</td><td>4.8</td><td>3871</td><td>5</td><td>2015</td><td>Non Fiction</td></tr><tr><td>Cutting for Stone</td><td>Abraham Verghese</td><td>4.6</td><td>4866</td><td>11</td><td>2010</td><td>Fiction</td></tr><tr><td>Cutting for Stone</td><td>Abraham Verghese</td><td>4.6</td><td>4866</td><td>11</td><td>2011</td><td>Fiction</td></tr><tr><td>Daring Greatly: How the Courage to Be Vulnerable Transforms the Way We Live, Love, Parent, and Lead</td><td>Brené Brown</td><td>4.8</td><td>1329</td><td>10</td><td>2013</td><td>Non Fiction</td></tr><tr><td>David and Goliath: Underdogs, Misfits, and the Art of Battling Giants</td><td>Malcolm Gladwell</td><td>4.4</td><td>4642</td><td>13</td><td>2013</td><td>Non Fiction</td></tr><tr><td>Dead And Gone: A Sookie Stackhouse Novel (Sookie Stackhouse/True Blood)</td><td>Charlaine Harris</td><td>4.6</td><td>1541</td><td>4</td><td>2009</td><td>Fiction</td></tr><tr><td>Dead in the Family (Sookie Stackhouse/True Blood, Book 10)</td><td>Charlaine Harris</td><td>4.3</td><td>1924</td><td>8</td><td>2010</td><td>Fiction</td></tr><tr><td>Dead Reckoning (Sookie Stackhouse/True Blood, Book 11)</td><td>Charlaine Harris</td><td>4.2</td><td>2094</td><td>4</td><td>2011</td><td>Fiction</td></tr><tr><td>Dear Zoo: A Lift-the-Flap Book</td><td>Rod Campbell</td><td>4.8</td><td>10922</td><td>5</td><td>2015</td><td>Fiction</td></tr><tr><td>Dear Zoo: A Lift-the-Flap Book</td><td>Rod Campbell</td><td>4.8</td><td>10922</td><td>5</td><td>2016</td><td>Fiction</td></tr><tr><td>Dear Zoo: A Lift-the-Flap Book</td><td>Rod Campbell</td><td>4.8</td><td>10922</td><td>5</td><td>2017</td><td>Fiction</td></tr><tr><td>Dear Zoo: A Lift-the-Flap Book</td><td>Rod Campbell</td><td>4.8</td><td>10922</td><td>5</td><td>2018</td><td>Fiction</td></tr><tr><td>Decision Points</td><td>George W. Bush</td><td>4.6</td><td>2137</td><td>17</td><td>2010</td><td>Non Fiction</td></tr><tr><td>Delivering Happiness: A Path to Profits, Passion, and Purpose</td><td>Tony Hsieh</td><td>4.6</td><td>1651</td><td>15</td><td>2010</td><td>Non Fiction</td></tr><tr><td>Diagnostic and Statistical Manual of Mental Disorders, 5th Edition: DSM-5</td><td>American Psychiatric Association</td><td>4.5</td><td>6679</td><td>105</td><td>2013</td><td>Non Fiction</td></tr><tr><td>Diagnostic and Statistical Manual of Mental Disorders, 5th Edition: DSM-5</td><td>American Psychiatric Association</td><td>4.5</td><td>6679</td><td>105</td><td>2014</td><td>Non Fiction</td></tr><tr><td>Diary of a Wimpy Kid: Hard Luck, Book 8</td><td>Jeff Kinney</td><td>4.8</td><td>6812</td><td>0</td><td>2013</td><td>Fiction</td></tr><tr><td>Diary of a Wimpy Kid: The Last Straw (Book 3)</td><td>Jeff Kinney</td><td>4.8</td><td>3837</td><td>15</td><td>2009</td><td>Fiction</td></tr><tr><td>Diary of a Wimpy Kid: The Long Haul</td><td>Jeff Kinney</td><td>4.8</td><td>6540</td><td>22</td><td>2014</td><td>Fiction</td></tr><tr><td>Difficult Riddles For Smart Kids: 300 Difficult Riddles And Brain Teasers Families Will Love (Books for Smart Kids)</td><td>M Prefontaine</td><td>4.6</td><td>7955</td><td>5</td><td>2019</td><td>Non Fiction</td></tr><tr><td>Divergent</td><td>Veronica Roth</td><td>4.6</td><td>27098</td><td>15</td><td>2013</td><td>Fiction</td></tr><tr><td>Divergent</td><td>Veronica Roth</td><td>4.6</td><td>27098</td><td>15</td><td>2014</td><td>Fiction</td></tr><tr><td>Divergent / Insurgent</td><td>Veronica Roth</td><td>4.5</td><td>17684</td><td>6</td><td>2014</td><td>Fiction</td></tr><tr><td>Divine Soul Mind Body Healing and Transmission System: The Divine Way to Heal You, Humanity, Mother Earth, and All…</td><td>Zhi Gang Sha</td><td>4.6</td><td>37</td><td>6</td><td>2009</td><td>Non Fiction</td></tr><tr><td>Doctor Sleep: A Novel</td><td>Stephen King</td><td>4.7</td><td>15845</td><td>13</td><td>2013</td><td>Fiction</td></tr><tr><td>Dog Days (Diary of a Wimpy Kid, Book 4) (Volume 4)</td><td>Jeff Kinney</td><td>4.8</td><td>3181</td><td>12</td><td>2009</td><td>Fiction</td></tr><tr><td>Dog Man and Cat Kid: From the Creator of Captain Underpants (Dog Man #4)</td><td>Dav Pilkey</td><td>4.9</td><td>5062</td><td>6</td><td>2018</td><td>Fiction</td></tr><tr><td>Dog Man: A Tale of Two Kitties: From the Creator of Captain Underpants (Dog Man #3)</td><td>Dav Pilkey</td><td>4.9</td><td>4786</td><td>8</td><td>2017</td><td>Fiction</td></tr><tr><td>Dog Man: Brawl of the Wild: From the Creator of Captain Underpants (Dog Man #6)</td><td>Dav Pilkey</td><td>4.9</td><td>7235</td><td>4</td><td>2018</td><td>Fiction</td></tr><tr><td>Dog Man: Brawl of the Wild: From the Creator of Captain Underpants (Dog Man #6)</td><td>Dav Pilkey</td><td>4.9</td><td>7235</td><td>4</td><td>2019</td><td>Fiction</td></tr><tr><td>Dog Man: Fetch-22: From the Creator of Captain Underpants (Dog Man #8)</td><td>Dav Pilkey</td><td>4.9</td><td>12619</td><td>8</td><td>2019</td><td>Fiction</td></tr><tr><td>Dog Man: For Whom the Ball Rolls: From the Creator of Captain Underpants (Dog Man #7)</td><td>Dav Pilkey</td><td>4.9</td><td>9089</td><td>8</td><td>2019</td><td>Fiction</td></tr><tr><td>Dog Man: Lord of the Fleas: From the Creator of Captain Underpants (Dog Man #5)</td><td>Dav Pilkey</td><td>4.9</td><td>5470</td><td>6</td><td>2018</td><td>Fiction</td></tr><tr><td>Double Down (Diary of a Wimpy Kid #11)</td><td>Jeff Kinney</td><td>4.8</td><td>5118</td><td>20</td><td>2016</td><td>Fiction</td></tr><tr><td>Dover Creative Haven Art Nouveau Animal Designs Coloring Book (Creative Haven Coloring Books)</td><td>Marty Noble</td><td>4.6</td><td>2134</td><td>5</td><td>2015</td><td>Non Fiction</td></tr><tr><td>Drive: The Surprising Truth About What Motivates Us</td><td>Daniel H. Pink</td><td>4.5</td><td>2525</td><td>16</td><td>2010</td><td>Non Fiction</td></tr><tr><td>Eat This Not That! Supermarket Survival Guide: The No-Diet Weight Loss Solution</td><td>David Zinczenko</td><td>4.5</td><td>720</td><td>1</td><td>2009</td><td>Non Fiction</td></tr><tr><td>Eat This, Not That! Thousands of Simple Food Swaps that Can Save You 10, 20, 30 Pounds--or More!</td><td>David Zinczenko</td><td>4.3</td><td>956</td><td>14</td><td>2009</td><td>Non Fiction</td></tr><tr><td>Eat to Live: The Amazing Nutrient-Rich Program for Fast and Sustained Weight Loss, Revised Edition</td><td>Joel Fuhrman MD</td><td>4.5</td><td>6346</td><td>9</td><td>2011</td><td>Non Fiction</td></tr><tr><td>Eat to Live: The Amazing Nutrient-Rich Program for Fast and Sustained Weight Loss, Revised Edition</td><td>Joel Fuhrman MD</td><td>4.5</td><td>6346</td><td>9</td><td>2012</td><td>Non Fiction</td></tr><tr><td>Eclipse (Twilight Sagas)</td><td>Stephenie Meyer</td><td>4.7</td><td>5505</td><td>7</td><td>2009</td><td>Fiction</td></tr><tr><td>Eclipse (Twilight)</td><td>Stephenie Meyer</td><td>4.7</td><td>5505</td><td>18</td><td>2009</td><td>Fiction</td></tr><tr><td>Educated: A Memoir</td><td>Tara Westover</td><td>4.7</td><td>28729</td><td>15</td><td>2018</td><td>Non Fiction</td></tr><tr><td>Educated: A Memoir</td><td>Tara Westover</td><td>4.7</td><td>28729</td><td>15</td><td>2019</td><td>Non Fiction</td></tr><tr><td>Enchanted Forest: An Inky Quest and Coloring book (Activity Books, Mindfulness and Meditation, Illustrated Floral Prints…</td><td>Johanna Basford</td><td>4.7</td><td>5413</td><td>9</td><td>2015</td><td>Non Fiction</td></tr><tr><td>Fahrenheit 451</td><td>Ray Bradbury</td><td>4.6</td><td>10721</td><td>8</td><td>2016</td><td>Fiction</td></tr><tr><td>Fahrenheit 451</td><td>Ray Bradbury</td><td>4.6</td><td>10721</td><td>8</td><td>2018</td><td>Fiction</td></tr><tr><td>Fantastic Beasts and Where to Find Them: The Original Screenplay (Harry Potter)</td><td>J.K. Rowling</td><td>4.7</td><td>4370</td><td>15</td><td>2016</td><td>Fiction</td></tr><tr><td>Fear: Trump in the White House</td><td>Bob Woodward</td><td>4.4</td><td>6042</td><td>2</td><td>2018</td><td>Non Fiction</td></tr><tr><td>Fifty Shades Darker</td><td>E L James</td><td>4.4</td><td>23631</td><td>7</td><td>2012</td><td>Fiction</td></tr><tr><td>Fifty Shades Freed: Book Three of the Fifty Shades Trilogy (Fifty Shades of Grey Series) (English Edition)</td><td>E L James</td><td>4.5</td><td>20262</td><td>11</td><td>2012</td><td>Fiction</td></tr><tr><td>Fifty Shades of Grey: Book One of the Fifty Shades Trilogy (Fifty Shades of Grey Series)</td><td>E L James</td><td>3.8</td><td>47265</td><td>14</td><td>2012</td><td>Fiction</td></tr><tr><td>Fifty Shades of Grey: Book One of the Fifty Shades Trilogy (Fifty Shades of Grey Series)</td><td>E L James</td><td>3.8</td><td>47265</td><td>14</td><td>2013</td><td>Fiction</td></tr><tr><td>Fifty Shades Trilogy (Fifty Shades of Grey / Fifty Shades Darker / Fifty Shades Freed)</td><td>E L James</td><td>4.5</td><td>13964</td><td>32</td><td>2012</td><td>Fiction</td></tr><tr><td>Fire and Fury: Inside the Trump White House</td><td>Michael Wolff</td><td>4.2</td><td>13677</td><td>6</td><td>2018</td><td>Non Fiction</td></tr><tr><td>First 100 Words</td><td>Roger Priddy</td><td>4.7</td><td>17323</td><td>4</td><td>2014</td><td>Non Fiction</td></tr><tr><td>First 100 Words</td><td>Roger Priddy</td><td>4.7</td><td>17323</td><td>4</td><td>2015</td><td>Non Fiction</td></tr><tr><td>First 100 Words</td><td>Roger Priddy</td><td>4.7</td><td>17323</td><td>4</td><td>2016</td><td>Non Fiction</td></tr><tr><td>First 100 Words</td><td>Roger Priddy</td><td>4.7</td><td>17323</td><td>4</td><td>2017</td><td>Non Fiction</td></tr><tr><td>First 100 Words</td><td>Roger Priddy</td><td>4.7</td><td>17323</td><td>4</td><td>2018</td><td>Non Fiction</td></tr><tr><td>Food Rules: An Eater's Manual</td><td>Michael Pollan</td><td>4.4</td><td>1555</td><td>9</td><td>2010</td><td>Non Fiction</td></tr><tr><td>Frozen (Little Golden Book)</td><td>RH Disney</td><td>4.7</td><td>3642</td><td>0</td><td>2014</td><td>Fiction</td></tr><tr><td>Game Change: Obama and the Clintons, McCain and Palin, and the Race of a Lifetime</td><td>John Heilemann</td><td>4.4</td><td>1215</td><td>9</td><td>2010</td><td>Non Fiction</td></tr><tr><td>Game of Thrones Boxed Set: A Game of Thrones/A Clash of Kings/A Storm of Swords/A Feast for Crows</td><td>George R.R. Martin</td><td>4.6</td><td>5594</td><td>5</td><td>2011</td><td>Fiction</td></tr><tr><td>Game of Thrones Boxed Set: A Game of Thrones/A Clash of Kings/A Storm of Swords/A Feast for Crows</td><td>George R.R. Martin</td><td>4.6</td><td>5594</td><td>5</td><td>2012</td><td>Fiction</td></tr><tr><td>Game of Thrones Boxed Set: A Game of Thrones/A Clash of Kings/A Storm of Swords/A Feast for Crows</td><td>George R.R. Martin</td><td>4.6</td><td>5594</td><td>5</td><td>2013</td><td>Fiction</td></tr><tr><td>George Washington's Sacred Fire</td><td>Peter A. Lillback</td><td>4.5</td><td>408</td><td>20</td><td>2010</td><td>Non Fiction</td></tr><tr><td>George Washington's Secret Six: The Spy Ring That Saved the American Revolution</td><td>Brian Kilmeade</td><td>4.6</td><td>4799</td><td>16</td><td>2013</td><td>Non Fiction</td></tr><tr><td>Giraffes Can't Dance</td><td>Giles Andreae</td><td>4.8</td><td>14038</td><td>4</td><td>2015</td><td>Fiction</td></tr><tr><td>Giraffes Can't Dance</td><td>Giles Andreae</td><td>4.8</td><td>14038</td><td>4</td><td>2016</td><td>Fiction</td></tr><tr><td>Giraffes Can't Dance</td><td>Giles Andreae</td><td>4.8</td><td>14038</td><td>4</td><td>2017</td><td>Fiction</td></tr><tr><td>Giraffes Can't Dance</td><td>Giles Andreae</td><td>4.8</td><td>14038</td><td>4</td><td>2018</td><td>Fiction</td></tr><tr><td>Giraffes Can't Dance</td><td>Giles Andreae</td><td>4.8</td><td>14038</td><td>4</td><td>2019</td><td>Fiction</td></tr><tr><td>Girl, Stop Apologizing: A Shame-Free Plan for Embracing and Achieving Your Goals</td><td>Rachel Hollis</td><td>4.6</td><td>7660</td><td>12</td><td>2019</td><td>Non Fiction</td></tr><tr><td>Girl, Wash Your Face: Stop Believing the Lies About Who You Are So You Can Become Who You Were Meant to Be</td><td>Rachel Hollis</td><td>4.6</td><td>22288</td><td>12</td><td>2018</td><td>Non Fiction</td></tr><tr><td>Girl, Wash Your Face: Stop Believing the Lies About Who You Are So You Can Become Who You Were Meant to Be</td><td>Rachel Hollis</td><td>4.6</td><td>22288</td><td>12</td><td>2019</td><td>Non Fiction</td></tr><tr><td>Glenn Beck's Common Sense: The Case Against an Out-of-Control Government, Inspired by Thomas Paine</td><td>Glenn Beck</td><td>4.6</td><td>1365</td><td>11</td><td>2009</td><td>Non Fiction</td></tr><tr><td>Go Set a Watchman: A Novel</td><td>Harper Lee</td><td>3.6</td><td>14982</td><td>19</td><td>2015</td><td>Fiction</td></tr><tr><td>Go the F**k to Sleep</td><td>Adam Mansbach</td><td>4.8</td><td>9568</td><td>9</td><td>2011</td><td>Fiction</td></tr><tr><td>Going Rogue: An American Life</td><td>Sarah Palin</td><td>4.6</td><td>1636</td><td>6</td><td>2009</td><td>Non Fiction</td></tr><tr><td>Gone Girl</td><td>Gillian Flynn</td><td>4.0</td><td>57271</td><td>10</td><td>2012</td><td>Fiction</td></tr><tr><td>Gone Girl</td><td>Gillian Flynn</td><td>4.0</td><td>57271</td><td>10</td><td>2013</td><td>Fiction</td></tr><tr><td>Gone Girl</td><td>Gillian Flynn</td><td>4.0</td><td>57271</td><td>9</td><td>2014</td><td>Fiction</td></tr><tr><td>Good Days Start With Gratitude: A 52 Week Guide To Cultivate An Attitude Of Gratitude: Gratitude Journal</td><td>Pretty Simple Press</td><td>4.6</td><td>10141</td><td>6</td><td>2019</td><td>Non Fiction</td></tr><tr><td>Good to Great: Why Some Companies Make the Leap and Others Don't</td><td>Jim Collins</td><td>4.5</td><td>3457</td><td>14</td><td>2009</td><td>Non Fiction</td></tr><tr><td>Good to Great: Why Some Companies Make the Leap and Others Don't</td><td>Jim Collins</td><td>4.5</td><td>3457</td><td>14</td><td>2010</td><td>Non Fiction</td></tr><tr><td>Good to Great: Why Some Companies Make the Leap and Others Don't</td><td>Jim Collins</td><td>4.5</td><td>3457</td><td>14</td><td>2011</td><td>Non Fiction</td></tr><tr><td>Good to Great: Why Some Companies Make the Leap and Others Don't</td><td>Jim Collins</td><td>4.5</td><td>3457</td><td>14</td><td>2012</td><td>Non Fiction</td></tr><tr><td>Goodnight Moon</td><td>Margaret Wise Brown</td><td>4.8</td><td>8837</td><td>5</td><td>2017</td><td>Fiction</td></tr><tr><td>Goodnight Moon</td><td>Margaret Wise Brown</td><td>4.8</td><td>8837</td><td>5</td><td>2018</td><td>Fiction</td></tr><tr><td>Goodnight Moon</td><td>Margaret Wise Brown</td><td>4.8</td><td>8837</td><td>5</td><td>2019</td><td>Fiction</td></tr><tr><td>Goodnight, Goodnight Construction Site (Hardcover Books for Toddlers, Preschool Books for Kids)</td><td>Sherri Duskey Rinker</td><td>4.9</td><td>7038</td><td>7</td><td>2012</td><td>Fiction</td></tr><tr><td>Goodnight, Goodnight Construction Site (Hardcover Books for Toddlers, Preschool Books for Kids)</td><td>Sherri Duskey Rinker</td><td>4.9</td><td>7038</td><td>7</td><td>2013</td><td>Fiction</td></tr><tr><td>Grain Brain: The Surprising Truth about Wheat, Carbs, and Sugar--Your Brain's Silent Killers</td><td>David Perlmutter MD</td><td>4.6</td><td>5972</td><td>10</td><td>2014</td><td>Non Fiction</td></tr><tr><td>Grey: Fifty Shades of Grey as Told by Christian (Fifty Shades of Grey Series)</td><td>E L James</td><td>4.4</td><td>25624</td><td>14</td><td>2015</td><td>Fiction</td></tr><tr><td>Guts</td><td>Raina Telgemeier</td><td>4.8</td><td>5476</td><td>7</td><td>2019</td><td>Non Fiction</td></tr><tr><td>Hamilton: The Revolution</td><td>Lin-Manuel Miranda</td><td>4.9</td><td>5867</td><td>54</td><td>2016</td><td>Non Fiction</td></tr><tr><td>Happy, Happy, Happy: My Life and Legacy as the Duck Commander</td><td>Phil Robertson</td><td>4.8</td><td>4148</td><td>11</td><td>2013</td><td>Non Fiction</td></tr><tr><td>Harry Potter and the Chamber of Secrets: The Illustrated Edition (Harry Potter, Book 2)</td><td>J.K. Rowling</td><td>4.9</td><td>19622</td><td>30</td><td>2016</td><td>Fiction</td></tr><tr><td>Harry Potter and the Cursed Child, Parts 1 & 2, Special Rehearsal Edition Script</td><td>J.K. Rowling</td><td>4.0</td><td>23973</td><td>12</td><td>2016</td><td>Fiction</td></tr><tr><td>Harry Potter and the Goblet of Fire: The Illustrated Edition (Harry Potter, Book 4) (4)</td><td>J. K. Rowling</td><td>4.9</td><td>7758</td><td>18</td><td>2019</td><td>Fiction</td></tr><tr><td>Harry Potter and the Prisoner of Azkaban: The Illustrated Edition (Harry Potter, Book 3)</td><td>J.K. Rowling</td><td>4.9</td><td>3146</td><td>30</td><td>2017</td><td>Fiction</td></tr><tr><td>Harry Potter and the Sorcerer's Stone: The Illustrated Edition (Harry Potter, Book 1)</td><td>J.K. Rowling</td><td>4.9</td><td>10052</td><td>22</td><td>2016</td><td>Fiction</td></tr><tr><td>Harry Potter Coloring Book</td><td>Scholastic</td><td>4.7</td><td>3564</td><td>9</td><td>2015</td><td>Non Fiction</td></tr><tr><td>Harry Potter Paperback Box Set (Books 1-7)</td><td>J. K. Rowling</td><td>4.8</td><td>13471</td><td>52</td><td>2016</td><td>Fiction</td></tr><tr><td>Have a Little Faith: A True Story</td><td>Mitch Albom</td><td>4.8</td><td>1930</td><td>4</td><td>2009</td><td>Non Fiction</td></tr><tr><td>Heaven is for Real: A Little Boy's Astounding Story of His Trip to Heaven and Back</td><td>Todd Burpo</td><td>4.7</td><td>15779</td><td>10</td><td>2011</td><td>Non Fiction</td></tr><tr><td>Heaven is for Real: A Little Boy's Astounding Story of His Trip to Heaven and Back</td><td>Todd Burpo</td><td>4.7</td><td>15779</td><td>10</td><td>2012</td><td>Non Fiction</td></tr><tr><td>Hillbilly Elegy: A Memoir of a Family and Culture in Crisis</td><td>J. D. Vance</td><td>4.4</td><td>15526</td><td>14</td><td>2016</td><td>Non Fiction</td></tr><tr><td>Hillbilly Elegy: A Memoir of a Family and Culture in Crisis</td><td>J. D. Vance</td><td>4.4</td><td>15526</td><td>14</td><td>2017</td><td>Non Fiction</td></tr><tr><td>Homebody: A Guide to Creating Spaces You Never Want to Leave</td><td>Joanna Gaines</td><td>4.8</td><td>3776</td><td>22</td><td>2018</td><td>Non Fiction</td></tr><tr><td>How to Win Friends & Influence People</td><td>Dale Carnegie</td><td>4.7</td><td>25001</td><td>11</td><td>2014</td><td>Non Fiction</td></tr><tr><td>How to Win Friends & Influence People</td><td>Dale Carnegie</td><td>4.7</td><td>25001</td><td>11</td><td>2015</td><td>Non Fiction</td></tr><tr><td>How to Win Friends & Influence People</td><td>Dale Carnegie</td><td>4.7</td><td>25001</td><td>11</td><td>2016</td><td>Non Fiction</td></tr><tr><td>How to Win Friends & Influence People</td><td>Dale Carnegie</td><td>4.7</td><td>25001</td><td>11</td><td>2017</td><td>Non Fiction</td></tr><tr><td>How to Win Friends & Influence People</td><td>Dale Carnegie</td><td>4.7</td><td>25001</td><td>11</td><td>2018</td><td>Non Fiction</td></tr><tr><td>Howard Stern Comes Again</td><td>Howard Stern</td><td>4.3</td><td>5272</td><td>16</td><td>2019</td><td>Non Fiction</td></tr><tr><td>Humans of New York</td><td>Brandon Stanton</td><td>4.8</td><td>3490</td><td>15</td><td>2013</td><td>Non Fiction</td></tr><tr><td>Humans of New York</td><td>Brandon Stanton</td><td>4.8</td><td>3490</td><td>15</td><td>2014</td><td>Non Fiction</td></tr><tr><td>Humans of New York : Stories</td><td>Brandon Stanton</td><td>4.9</td><td>2812</td><td>17</td><td>2015</td><td>Non Fiction</td></tr><tr><td>Hyperbole and a Half: Unfortunate Situations, Flawed Coping Mechanisms, Mayhem, and Other Things That Happened</td><td>Allie Brosh</td><td>4.7</td><td>4896</td><td>17</td><td>2013</td><td>Non Fiction</td></tr><tr><td>I Am Confident, Brave & Beautiful: A Coloring Book for Girls</td><td>Hopscotch Girls</td><td>4.8</td><td>9737</td><td>7</td><td>2019</td><td>Non Fiction</td></tr><tr><td>I, Alex Cross</td><td>James Patterson</td><td>4.6</td><td>1320</td><td>7</td><td>2009</td><td>Fiction</td></tr><tr><td>If Animals Kissed Good Night</td><td>Ann Whitford Paul</td><td>4.8</td><td>16643</td><td>4</td><td>2017</td><td>Fiction</td></tr><tr><td>If Animals Kissed Good Night</td><td>Ann Whitford Paul</td><td>4.8</td><td>16643</td><td>4</td><td>2019</td><td>Fiction</td></tr><tr><td>If I Stay</td><td>Gayle Forman</td><td>4.3</td><td>7153</td><td>9</td><td>2014</td><td>Fiction</td></tr><tr><td>In the Garden of Beasts: Love, Terror, and an American Family in Hitler's Berlin</td><td>Eric Larson</td><td>4.4</td><td>4571</td><td>21</td><td>2011</td><td>Non Fiction</td></tr><tr><td>Inferno</td><td>Dan Brown</td><td>4.1</td><td>29651</td><td>14</td><td>2013</td><td>Fiction</td></tr><tr><td>Inheritance: Book IV (Inheritance Cycle)</td><td>Christopher Paolini</td><td>4.6</td><td>5299</td><td>20</td><td>2011</td><td>Fiction</td></tr><tr><td>Instant Pot Pressure Cooker Cookbook: 500 Everyday Recipes for Beginners and Advanced Users. Try Easy and Healthy…</td><td>Jennifer Smith</td><td>4.4</td><td>7396</td><td>13</td><td>2019</td><td>Non Fiction</td></tr><tr><td>Instant Pot Pressure Cooker Cookbook: 500 Everyday Recipes for Beginners and Advanced Users. Try Easy and Healthy…</td><td>Jennifer Smith</td><td>4.4</td><td>7396</td><td>13</td><td>2018</td><td>Non Fiction</td></tr><tr><td>It's Not Supposed to Be This Way: Finding Unexpected Strength When Disappointments Leave You Shattered</td><td>Lysa TerKeurst</td><td>4.8</td><td>7062</td><td>12</td><td>2019</td><td>Non Fiction</td></tr><tr><td>Jesus Calling: Enjoying Peace in His Presence (with Scripture References)</td><td>Sarah Young</td><td>4.9</td><td>19576</td><td>8</td><td>2011</td><td>Non Fiction</td></tr><tr><td>Jesus Calling: Enjoying Peace in His Presence (with Scripture References)</td><td>Sarah Young</td><td>4.9</td><td>19576</td><td>8</td><td>2012</td><td>Non Fiction</td></tr><tr><td>Jesus Calling: Enjoying Peace in His Presence (with Scripture References)</td><td>Sarah Young</td><td>4.9</td><td>19576</td><td>8</td><td>2013</td><td>Non Fiction</td></tr><tr><td>Jesus Calling: Enjoying Peace in His Presence (with Scripture References)</td><td>Sarah Young</td><td>4.9</td><td>19576</td><td>8</td><td>2014</td><td>Non Fiction</td></tr><tr><td>Jesus Calling: Enjoying Peace in His Presence (with Scripture References)</td><td>Sarah Young</td><td>4.9</td><td>19576</td><td>8</td><td>2015</td><td>Non Fiction</td></tr><tr><td>Jesus Calling: Enjoying Peace in His Presence (with Scripture References)</td><td>Sarah Young</td><td>4.9</td><td>19576</td><td>8</td><td>2016</td><td>Non Fiction</td></tr><tr><td>JOURNEY TO THE ICE P</td><td>RH Disney</td><td>4.6</td><td>978</td><td>0</td><td>2014</td><td>Fiction</td></tr><tr><td>Joyland (Hard Case Crime)</td><td>Stephen King</td><td>4.5</td><td>4748</td><td>12</td><td>2013</td><td>Fiction</td></tr><tr><td>Killers of the Flower Moon: The Osage Murders and the Birth of the FBI</td><td>David Grann</td><td>4.6</td><td>8393</td><td>17</td><td>2017</td><td>Non Fiction</td></tr><tr><td>Killing Jesus (Bill O'Reilly's Killing Series)</td><td>Bill O'Reilly</td><td>4.5</td><td>11391</td><td>12</td><td>2013</td><td>Non Fiction</td></tr><tr><td>Killing Kennedy: The End of Camelot</td><td>Bill O'Reilly</td><td>4.6</td><td>8634</td><td>25</td><td>2012</td><td>Non Fiction</td></tr><tr><td>Killing Lincoln: The Shocking Assassination that Changed America Forever (Bill O'Reilly's Killing Series)</td><td>Bill O'Reilly</td><td>4.7</td><td>9342</td><td>10</td><td>2011</td><td>Non Fiction</td></tr><tr><td>Killing Lincoln: The Shocking Assassination that Changed America Forever (Bill O'Reilly's Killing Series)</td><td>Bill O'Reilly</td><td>4.7</td><td>9342</td><td>10</td><td>2012</td><td>Non Fiction</td></tr><tr><td>Killing Patton: The Strange Death of World War II's Most Audacious General (Bill O'Reilly's Killing Series)</td><td>Bill O'Reilly</td><td>4.6</td><td>10927</td><td>6</td><td>2014</td><td>Non Fiction</td></tr><tr><td>Killing Reagan: The Violent Assault That Changed a Presidency (Bill O'Reilly's Killing Series)</td><td>Bill O'Reilly</td><td>4.6</td><td>5235</td><td>5</td><td>2015</td><td>Non Fiction</td></tr><tr><td>Killing the Rising Sun: How America Vanquished World War II Japan (Bill O'Reilly's Killing Series)</td><td>Bill O'Reilly</td><td>4.8</td><td>8916</td><td>6</td><td>2016</td><td>Non Fiction</td></tr><tr><td>Kitchen Confidential Updated Edition: Adventures in the Culinary Underbelly (P.S.)</td><td>Anthony Bourdain</td><td>4.8</td><td>2507</td><td>8</td><td>2018</td><td>Non Fiction</td></tr><tr><td>Knock-Knock Jokes for Kids</td><td>Rob Elliott</td><td>4.5</td><td>3673</td><td>4</td><td>2013</td><td>Non Fiction</td></tr><tr><td>Knock-Knock Jokes for Kids</td><td>Rob Elliott</td><td>4.5</td><td>3673</td><td>4</td><td>2014</td><td>Non Fiction</td></tr><tr><td>Knock-Knock Jokes for Kids</td><td>Rob Elliott</td><td>4.5</td><td>3673</td><td>4</td><td>2015</td><td>Non Fiction</td></tr><tr><td>Last Week Tonight with John Oliver Presents A Day in the Life of Marlon Bundo (Better Bundo Book, LGBT Childrens Book)</td><td>Jill Twiss</td><td>4.9</td><td>11881</td><td>13</td><td>2018</td><td>Fiction</td></tr><tr><td>Laugh-Out-Loud Jokes for Kids</td><td>Rob Elliott</td><td>4.6</td><td>6990</td><td>4</td><td>2013</td><td>Non Fiction</td></tr><tr><td>Laugh-Out-Loud Jokes for Kids</td><td>Rob Elliott</td><td>4.6</td><td>6990</td><td>4</td><td>2014</td><td>Non Fiction</td></tr><tr><td>Laugh-Out-Loud Jokes for Kids</td><td>Rob Elliott</td><td>4.6</td><td>6990</td><td>4</td><td>2015</td><td>Non Fiction</td></tr><tr><td>Laugh-Out-Loud Jokes for Kids</td><td>Rob Elliott</td><td>4.6</td><td>6990</td><td>4</td><td>2016</td><td>Non Fiction</td></tr><tr><td>Laugh-Out-Loud Jokes for Kids</td><td>Rob Elliott</td><td>4.6</td><td>6990</td><td>4</td><td>2017</td><td>Non Fiction</td></tr><tr><td>Lean In: Women, Work, and the Will to Lead</td><td>Sheryl Sandberg</td><td>4.5</td><td>6132</td><td>13</td><td>2013</td><td>Non Fiction</td></tr><tr><td>Leonardo da Vinci</td><td>Walter Isaacson</td><td>4.5</td><td>3014</td><td>21</td><td>2017</td><td>Non Fiction</td></tr><tr><td>Lettering and Modern Calligraphy: A Beginner's Guide: Learn Hand Lettering and Brush Lettering</td><td>Paper Peony Press</td><td>4.4</td><td>7550</td><td>6</td><td>2018</td><td>Non Fiction</td></tr><tr><td>Liberty and Tyranny: A Conservative Manifesto</td><td>Mark R. Levin</td><td>4.8</td><td>3828</td><td>15</td><td>2009</td><td>Non Fiction</td></tr><tr><td>Life</td><td>Keith Richards</td><td>4.5</td><td>2752</td><td>18</td><td>2010</td><td>Non Fiction</td></tr><tr><td>Little Bee: A Novel</td><td>Chris Cleave</td><td>4.1</td><td>1467</td><td>10</td><td>2010</td><td>Fiction</td></tr><tr><td>Little Blue Truck</td><td>Alice Schertle</td><td>4.9</td><td>1884</td><td>0</td><td>2014</td><td>Fiction</td></tr><tr><td>Little Fires Everywhere</td><td>Celeste Ng</td><td>4.5</td><td>25706</td><td>12</td><td>2018</td><td>Fiction</td></tr><tr><td>Looking for Alaska</td><td>John Green</td><td>4.5</td><td>8491</td><td>7</td><td>2014</td><td>Fiction</td></tr><tr><td>Love Wins: A Book About Heaven, Hell, and the Fate of Every Person Who Ever Lived</td><td>Rob Bell</td><td>4.2</td><td>1649</td><td>13</td><td>2011</td><td>Non Fiction</td></tr><tr><td>Love You Forever</td><td>Robert Munsch</td><td>4.8</td><td>18613</td><td>5</td><td>2014</td><td>Fiction</td></tr><tr><td>Love You Forever</td><td>Robert Munsch</td><td>4.8</td><td>18613</td><td>5</td><td>2015</td><td>Fiction</td></tr><tr><td>Magnolia Table: A Collection of Recipes for Gathering</td><td>Joanna Gaines</td><td>4.8</td><td>9867</td><td>16</td><td>2018</td><td>Non Fiction</td></tr><tr><td>Make It Ahead: A Barefoot Contessa Cookbook</td><td>Ina Garten</td><td>4.5</td><td>1386</td><td>20</td><td>2014</td><td>Non Fiction</td></tr><tr><td>Make Your Bed: Little Things That Can Change Your Life...And Maybe the World</td><td>Admiral William H. McRaven</td><td>4.7</td><td>10199</td><td>11</td><td>2017</td><td>Non Fiction</td></tr><tr><td>Mastering the Art of French Cooking, Vol. 2</td><td>Julia Child</td><td>4.8</td><td>2926</td><td>27</td><td>2009</td><td>Non Fiction</td></tr><tr><td>Milk and Honey</td><td>Rupi Kaur</td><td>4.7</td><td>17739</td><td>8</td><td>2016</td><td>Non Fiction</td></tr><tr><td>Milk and Honey</td><td>Rupi Kaur</td><td>4.7</td><td>17739</td><td>8</td><td>2017</td><td>Non Fiction</td></tr><tr><td>Milk and Honey</td><td>Rupi Kaur</td><td>4.7</td><td>17739</td><td>8</td><td>2018</td><td>Non Fiction</td></tr><tr><td>Milk and Vine: Inspirational Quotes From Classic Vines</td><td>Adam Gasiewski</td><td>4.4</td><td>3113</td><td>6</td><td>2017</td><td>Non Fiction</td></tr><tr><td>Mindset: The New Psychology of Success</td><td>Carol S. Dweck</td><td>4.6</td><td>5542</td><td>10</td><td>2014</td><td>Non Fiction</td></tr><tr><td>Mindset: The New Psychology of Success</td><td>Carol S. Dweck</td><td>4.6</td><td>5542</td><td>10</td><td>2015</td><td>Non Fiction</td></tr><tr><td>Mindset: The New Psychology of Success</td><td>Carol S. Dweck</td><td>4.6</td><td>5542</td><td>10</td><td>2016</td><td>Non Fiction</td></tr><tr><td>Mockingjay (The Hunger Games)</td><td>Suzanne Collins</td><td>4.5</td><td>26741</td><td>8</td><td>2010</td><td>Fiction</td></tr><tr><td>Mockingjay (The Hunger Games)</td><td>Suzanne Collins</td><td>4.5</td><td>26741</td><td>8</td><td>2011</td><td>Fiction</td></tr><tr><td>Mockingjay (The Hunger Games)</td><td>Suzanne Collins</td><td>4.5</td><td>26741</td><td>8</td><td>2012</td><td>Fiction</td></tr><tr><td>National Geographic Kids Why?: Over 1,111 Answers to Everything</td><td>Crispin Boyer</td><td>4.8</td><td>5347</td><td>16</td><td>2019</td><td>Non Fiction</td></tr><tr><td>National Geographic Little Kids First Big Book of Why (National Geographic Little Kids First Big Books)</td><td>Amy Shields</td><td>4.8</td><td>7866</td><td>11</td><td>2019</td><td>Non Fiction</td></tr><tr><td>New Moon (The Twilight Saga)</td><td>Stephenie Meyer</td><td>4.6</td><td>5680</td><td>10</td><td>2009</td><td>Fiction</td></tr><tr><td>Night (Night)</td><td>Elie Wiesel</td><td>4.7</td><td>5178</td><td>9</td><td>2016</td><td>Non Fiction</td></tr><tr><td>No Easy Day: The Autobiography of a Navy Seal: The Firsthand Account of the Mission That Killed Osama Bin Laden</td><td>Mark Owen</td><td>4.6</td><td>8093</td><td>14</td><td>2012</td><td>Non Fiction</td></tr><tr><td>Obama: An Intimate Portrait</td><td>Pete Souza</td><td>4.9</td><td>3192</td><td>22</td><td>2017</td><td>Non Fiction</td></tr><tr><td>Oh, the Places You'll Go!</td><td>Dr. Seuss</td><td>4.9</td><td>21834</td><td>8</td><td>2012</td><td>Fiction</td></tr><tr><td>Oh, the Places You'll Go!</td><td>Dr. Seuss</td><td>4.9</td><td>21834</td><td>8</td><td>2013</td><td>Fiction</td></tr><tr><td>Oh, the Places You'll Go!</td><td>Dr. Seuss</td><td>4.9</td><td>21834</td><td>8</td><td>2014</td><td>Fiction</td></tr><tr><td>Oh, the Places You'll Go!</td><td>Dr. Seuss</td><td>4.9</td><td>21834</td><td>8</td><td>2015</td><td>Fiction</td></tr><tr><td>Oh, the Places You'll Go!</td><td>Dr. Seuss</td><td>4.9</td><td>21834</td><td>8</td><td>2016</td><td>Fiction</td></tr><tr><td>Oh, the Places You'll Go!</td><td>Dr. Seuss</td><td>4.9</td><td>21834</td><td>8</td><td>2017</td><td>Fiction</td></tr><tr><td>Oh, the Places You'll Go!</td><td>Dr. Seuss</td><td>4.9</td><td>21834</td><td>8</td><td>2018</td><td>Fiction</td></tr><tr><td>Oh, the Places You'll Go!</td><td>Dr. Seuss</td><td>4.9</td><td>21834</td><td>8</td><td>2019</td><td>Fiction</td></tr><tr><td>Old School (Diary of a Wimpy Kid #10)</td><td>Jeff Kinney</td><td>4.8</td><td>6169</td><td>7</td><td>2015</td><td>Fiction</td></tr><tr><td>Olive Kitteridge</td><td>Elizabeth Strout</td><td>4.2</td><td>4519</td><td>12</td><td>2009</td><td>Fiction</td></tr><tr><td>One Thousand Gifts: A Dare to Live Fully Right Where You Are</td><td>Ann Voskamp</td><td>4.6</td><td>3163</td><td>13</td><td>2011</td><td>Non Fiction</td></tr><tr><td>One Thousand Gifts: A Dare to Live Fully Right Where You Are</td><td>Ann Voskamp</td><td>4.6</td><td>3163</td><td>13</td><td>2012</td><td>Non Fiction</td></tr><tr><td>Option B: Facing Adversity, Building Resilience, and Finding Joy</td><td>Sheryl Sandberg</td><td>4.5</td><td>1831</td><td>9</td><td>2017</td><td>Non Fiction</td></tr><tr><td>Origin: A Novel (Robert Langdon)</td><td>Dan Brown</td><td>4.3</td><td>18904</td><td>13</td><td>2017</td><td>Fiction</td></tr><tr><td>Orphan Train</td><td>Christina Baker Kline</td><td>4.6</td><td>21930</td><td>11</td><td>2014</td><td>Fiction</td></tr><tr><td>Outliers: The Story of Success</td><td>Malcolm Gladwell</td><td>4.6</td><td>10426</td><td>20</td><td>2009</td><td>Non Fiction</td></tr><tr><td>Outliers: The Story of Success</td><td>Malcolm Gladwell</td><td>4.6</td><td>10426</td><td>20</td><td>2010</td><td>Non Fiction</td></tr><tr><td>P is for Potty! (Sesame Street) (Lift-the-Flap)</td><td>Naomi Kleinberg</td><td>4.7</td><td>10820</td><td>5</td><td>2018</td><td>Non Fiction</td></tr><tr><td>P is for Potty! (Sesame Street) (Lift-the-Flap)</td><td>Naomi Kleinberg</td><td>4.7</td><td>10820</td><td>5</td><td>2019</td><td>Non Fiction</td></tr><tr><td>Percy Jackson and the Olympians Paperback Boxed Set (Books 1-3)</td><td>Rick Riordan</td><td>4.8</td><td>548</td><td>2</td><td>2010</td><td>Fiction</td></tr><tr><td>Player's Handbook (Dungeons & Dragons)</td><td>Wizards RPG Team</td><td>4.8</td><td>16990</td><td>27</td><td>2017</td><td>Fiction</td></tr><tr><td>Player's Handbook (Dungeons & Dragons)</td><td>Wizards RPG Team</td><td>4.8</td><td>16990</td><td>27</td><td>2018</td><td>Fiction</td></tr><tr><td>Player's Handbook (Dungeons & Dragons)</td><td>Wizards RPG Team</td><td>4.8</td><td>16990</td><td>27</td><td>2019</td><td>Fiction</td></tr><tr><td>Pokémon Deluxe Essential Handbook: The Need-to-Know Stats and Facts on Over 700 Pokémon</td><td>Scholastic</td><td>4.7</td><td>3503</td><td>9</td><td>2016</td><td>Fiction</td></tr><tr><td>Proof of Heaven: A Neurosurgeon's Journey into the Afterlife</td><td>Eben Alexander</td><td>4.3</td><td>13616</td><td>10</td><td>2012</td><td>Non Fiction</td></tr><tr><td>Proof of Heaven: A Neurosurgeon's Journey into the Afterlife</td><td>Eben Alexander</td><td>4.3</td><td>13616</td><td>10</td><td>2013</td><td>Non Fiction</td></tr><tr><td>Publication Manual of the American Psychological Association, 6th Edition</td><td>American Psychological Association</td><td>4.5</td><td>8580</td><td>46</td><td>2009</td><td>Non Fiction</td></tr><tr><td>Publication Manual of the American Psychological Association, 6th Edition</td><td>American Psychological Association</td><td>4.5</td><td>8580</td><td>46</td><td>2010</td><td>Non Fiction</td></tr><tr><td>Publication Manual of the American Psychological Association, 6th Edition</td><td>American Psychological Association</td><td>4.5</td><td>8580</td><td>46</td><td>2011</td><td>Non Fiction</td></tr><tr><td>Publication Manual of the American Psychological Association, 6th Edition</td><td>American Psychological Association</td><td>4.5</td><td>8580</td><td>46</td><td>2012</td><td>Non Fiction</td></tr><tr><td>Publication Manual of the American Psychological Association, 6th Edition</td><td>American Psychological Association</td><td>4.5</td><td>8580</td><td>46</td><td>2013</td><td>Non Fiction</td></tr><tr><td>Publication Manual of the American Psychological Association, 6th Edition</td><td>American Psychological Association</td><td>4.5</td><td>8580</td><td>46</td><td>2014</td><td>Non Fiction</td></tr><tr><td>Publication Manual of the American Psychological Association, 6th Edition</td><td>American Psychological Association</td><td>4.5</td><td>8580</td><td>46</td><td>2015</td><td>Non Fiction</td></tr><tr><td>Publication Manual of the American Psychological Association, 6th Edition</td><td>American Psychological Association</td><td>4.5</td><td>8580</td><td>46</td><td>2016</td><td>Non Fiction</td></tr><tr><td>Publication Manual of the American Psychological Association, 6th Edition</td><td>American Psychological Association</td><td>4.5</td><td>8580</td><td>46</td><td>2017</td><td>Non Fiction</td></tr><tr><td>Publication Manual of the American Psychological Association, 6th Edition</td><td>American Psychological Association</td><td>4.5</td><td>8580</td><td>46</td><td>2018</td><td>Non Fiction</td></tr><tr><td>Puppy Birthday to You! (Paw Patrol) (Little Golden Book)</td><td>Golden Books</td><td>4.8</td><td>4757</td><td>4</td><td>2017</td><td>Fiction</td></tr><tr><td>Quiet: The Power of Introverts in a World That Can't Stop Talking</td><td>Susan Cain</td><td>4.6</td><td>10009</td><td>20</td><td>2012</td><td>Non Fiction</td></tr><tr><td>Quiet: The Power of Introverts in a World That Can't Stop Talking</td><td>Susan Cain</td><td>4.6</td><td>10009</td><td>7</td><td>2013</td><td>Non Fiction</td></tr><tr><td>Radical: Taking Back Your Faith from the American Dream</td><td>David Platt</td><td>4.7</td><td>1985</td><td>9</td><td>2010</td><td>Non Fiction</td></tr><tr><td>Radical: Taking Back Your Faith from the American Dream</td><td>David Platt</td><td>4.7</td><td>1985</td><td>9</td><td>2011</td><td>Non Fiction</td></tr><tr><td>Ready Player One: A Novel</td><td>Ernest Cline</td><td>4.6</td><td>22536</td><td>12</td><td>2017</td><td>Fiction</td></tr><tr><td>Ready Player One: A Novel</td><td>Ernest Cline</td><td>4.6</td><td>22536</td><td>12</td><td>2018</td><td>Fiction</td></tr><tr><td>Rush Revere and the Brave Pilgrims: Time-Travel Adventures with Exceptional Americans (1)</td><td>Rush Limbaugh</td><td>4.9</td><td>7150</td><td>12</td><td>2013</td><td>Fiction</td></tr><tr><td>Rush Revere and the First Patriots: Time-Travel Adventures With Exceptional Americans (2)</td><td>Rush Limbaugh</td><td>4.9</td><td>3836</td><td>12</td><td>2014</td><td>Fiction</td></tr><tr><td>Salt, Fat, Acid, Heat: Mastering the Elements of Good Cooking</td><td>Samin Nosrat</td><td>4.8</td><td>7802</td><td>20</td><td>2018</td><td>Non Fiction</td></tr><tr><td>Salt, Fat, Acid, Heat: Mastering the Elements of Good Cooking</td><td>Samin Nosrat</td><td>4.8</td><td>7802</td><td>20</td><td>2019</td><td>Non Fiction</td></tr><tr><td>Sarah's Key</td><td>Tatiana de Rosnay</td><td>4.6</td><td>3619</td><td>10</td><td>2010</td><td>Fiction</td></tr><tr><td>School Zone - Big Preschool Workbook - Ages 4 and Up, Colors, Shapes, Numbers 1-10, Alphabet, Pre-Writing, Pre-Reading…</td><td>School Zone</td><td>4.8</td><td>23047</td><td>6</td><td>2018</td><td>Non Fiction</td></tr><tr><td>School Zone - Big Preschool Workbook - Ages 4 and Up, Colors, Shapes, Numbers 1-10, Alphabet, Pre-Writing, Pre-Reading…</td><td>School Zone</td><td>4.8</td><td>23047</td><td>6</td><td>2019</td><td>Non Fiction</td></tr><tr><td>Secret Garden: An Inky Treasure Hunt and Coloring Book (For Adults, mindfulness coloring)</td><td>Johanna Basford</td><td>4.7</td><td>9366</td><td>9</td><td>2015</td><td>Non Fiction</td></tr><tr><td>Sh*t My Dad Says</td><td>Justin Halpern</td><td>4.7</td><td>1265</td><td>11</td><td>2010</td><td>Non Fiction</td></tr><tr><td>Ship of Fools: How a Selfish Ruling Class Is Bringing America to the Brink of Revolution</td><td>Tucker Carlson</td><td>4.8</td><td>3923</td><td>16</td><td>2018</td><td>Non Fiction</td></tr><tr><td>Shred: The Revolutionary Diet: 6 Weeks 4 Inches 2 Sizes</td><td>Ian K. Smith M.D.</td><td>4.1</td><td>2272</td><td>6</td><td>2013</td><td>Non Fiction</td></tr><tr><td>Sookie Stackhouse</td><td>Charlaine Harris</td><td>4.7</td><td>973</td><td>25</td><td>2009</td><td>Fiction</td></tr><tr><td>Soul Healing Miracles: Ancient and New Sacred Wisdom, Knowledge, and Practical Techniques for Healing the Spiritual…</td><td>Zhi Gang Sha</td><td>4.6</td><td>220</td><td>17</td><td>2013</td><td>Non Fiction</td></tr><tr><td>Steve Jobs</td><td>Walter Isaacson</td><td>4.6</td><td>7827</td><td>20</td><td>2011</td><td>Non Fiction</td></tr><tr><td>Steve Jobs</td><td>Walter Isaacson</td><td>4.6</td><td>7827</td><td>20</td><td>2012</td><td>Non Fiction</td></tr><tr><td>Strange Planet (Strange Planet Series)</td><td>Nathan W. Pyle</td><td>4.9</td><td>9382</td><td>6</td><td>2019</td><td>Fiction</td></tr><tr><td>StrengthsFinder 2.0</td><td>Gallup</td><td>4.0</td><td>5069</td><td>17</td><td>2009</td><td>Non Fiction</td></tr><tr><td>StrengthsFinder 2.0</td><td>Gallup</td><td>4.0</td><td>5069</td><td>17</td><td>2010</td><td>Non Fiction</td></tr><tr><td>StrengthsFinder 2.0</td><td>Gallup</td><td>4.0</td><td>5069</td><td>17</td><td>2011</td><td>Non Fiction</td></tr><tr><td>StrengthsFinder 2.0</td><td>Gallup</td><td>4.0</td><td>5069</td><td>17</td><td>2012</td><td>Non Fiction</td></tr><tr><td>StrengthsFinder 2.0</td><td>Gallup</td><td>4.0</td><td>5069</td><td>17</td><td>2013</td><td>Non Fiction</td></tr><tr><td>StrengthsFinder 2.0</td><td>Gallup</td><td>4.0</td><td>5069</td><td>17</td><td>2014</td><td>Non Fiction</td></tr><tr><td>StrengthsFinder 2.0</td><td>Gallup</td><td>4.0</td><td>5069</td><td>17</td><td>2015</td><td>Non Fiction</td></tr><tr><td>StrengthsFinder 2.0</td><td>Gallup</td><td>4.0</td><td>5069</td><td>17</td><td>2016</td><td>Non Fiction</td></tr><tr><td>StrengthsFinder 2.0</td><td>Gallup</td><td>4.0</td><td>5069</td><td>17</td><td>2017</td><td>Non Fiction</td></tr><tr><td>Super Freakonomics: Global Cooling, Patriotic Prostitutes, and Why Suicide Bombers Should Buy Life Insurance</td><td>Steven D. Levitt</td><td>4.5</td><td>1583</td><td>18</td><td>2009</td><td>Non Fiction</td></tr><tr><td>Switch: How to Change Things When Change Is Hard</td><td>Chip Heath</td><td>4.6</td><td>1907</td><td>13</td><td>2010</td><td>Non Fiction</td></tr><tr><td>Sycamore Row (Jake Brigance)</td><td>John Grisham</td><td>4.5</td><td>23114</td><td>18</td><td>2013</td><td>Fiction</td></tr><tr><td>Teach Like a Champion: 49 Techniques that Put Students on the Path to College</td><td>Doug Lemov</td><td>4.4</td><td>637</td><td>20</td><td>2010</td><td>Non Fiction</td></tr><tr><td>Teach Like a Champion: 49 Techniques that Put Students on the Path to College</td><td>Doug Lemov</td><td>4.4</td><td>637</td><td>20</td><td>2011</td><td>Non Fiction</td></tr><tr><td>The 17 Day Diet: A Doctor's Plan Designed for Rapid Results</td><td>Mike Moreno</td><td>4.3</td><td>2314</td><td>22</td><td>2011</td><td>Non Fiction</td></tr><tr><td>The 4 Hour Body: An Uncommon Guide to Rapid Fat Loss, Incredible Sex and Becoming Superhuman</td><td>Timothy Ferriss</td><td>4.3</td><td>4587</td><td>21</td><td>2011</td><td>Non Fiction</td></tr><tr><td>The 5 Love Languages: The Secret to Love That Lasts</td><td>Gary Chapman</td><td>4.7</td><td>3477</td><td>28</td><td>2010</td><td>Non Fiction</td></tr><tr><td>The 5 Love Languages: The Secret to Love That Lasts</td><td>Gary Chapman</td><td>4.7</td><td>3477</td><td>28</td><td>2011</td><td>Non Fiction</td></tr><tr><td>The 5 Love Languages: The Secret to Love That Lasts</td><td>Gary Chapman</td><td>4.7</td><td>3477</td><td>28</td><td>2012</td><td>Non Fiction</td></tr><tr><td>The 5 Love Languages: The Secret to Love That Lasts</td><td>Gary Chapman</td><td>4.7</td><td>3477</td><td>28</td><td>2013</td><td>Non Fiction</td></tr><tr><td>The 5 Love Languages: The Secret to Love That Lasts</td><td>Gary Chapman</td><td>4.7</td><td>3477</td><td>28</td><td>2014</td><td>Non Fiction</td></tr><tr><td>The 5 Love Languages: The Secret to Love that Lasts</td><td>Gary Chapman</td><td>4.8</td><td>25554</td><td>8</td><td>2015</td><td>Non Fiction</td></tr><tr><td>The 5 Love Languages: The Secret to Love that Lasts</td><td>Gary Chapman</td><td>4.8</td><td>25554</td><td>8</td><td>2016</td><td>Non Fiction</td></tr><tr><td>The 5 Love Languages: The Secret to Love that Lasts</td><td>Gary Chapman</td><td>4.8</td><td>25554</td><td>8</td><td>2017</td><td>Non Fiction</td></tr><tr><td>The 5 Love Languages: The Secret to Love that Lasts</td><td>Gary Chapman</td><td>4.8</td><td>25554</td><td>8</td><td>2018</td><td>Non Fiction</td></tr><tr><td>The 5 Love Languages: The Secret to Love that Lasts</td><td>Gary Chapman</td><td>4.8</td><td>25554</td><td>8</td><td>2019</td><td>Non Fiction</td></tr><tr><td>The 5000 Year Leap</td><td>W. Cleon Skousen</td><td>4.8</td><td>1680</td><td>12</td><td>2009</td><td>Non Fiction</td></tr><tr><td>The 7 Habits of Highly Effective People: Powerful Lessons in Personal Change</td><td>Stephen R. Covey</td><td>4.6</td><td>9325</td><td>24</td><td>2009</td><td>Non Fiction</td></tr><tr><td>The 7 Habits of Highly Effective People: Powerful Lessons in Personal Change</td><td>Stephen R. Covey</td><td>4.6</td><td>9325</td><td>24</td><td>2011</td><td>Non Fiction</td></tr><tr><td>The 7 Habits of Highly Effective People: Powerful Lessons in Personal Change</td><td>Stephen R. Covey</td><td>4.6</td><td>9325</td><td>24</td><td>2012</td><td>Non Fiction</td></tr><tr><td>The 7 Habits of Highly Effective People: Powerful Lessons in Personal Change</td><td>Stephen R. Covey</td><td>4.6</td><td>9325</td><td>24</td><td>2013</td><td>Non Fiction</td></tr><tr><td>The 7 Habits of Highly Effective People: Powerful Lessons in Personal Change</td><td>Stephen R. Covey</td><td>4.7</td><td>4725</td><td>16</td><td>2015</td><td>Non Fiction</td></tr><tr><td>The 7 Habits of Highly Effective People: Powerful Lessons in Personal Change</td><td>Stephen R. Covey</td><td>4.7</td><td>4725</td><td>16</td><td>2016</td><td>Non Fiction</td></tr><tr><td>The 7 Habits of Highly Effective People: Powerful Lessons in Personal Change</td><td>Stephen R. Covey</td><td>4.7</td><td>4725</td><td>16</td><td>2017</td><td>Non Fiction</td></tr><tr><td>The Alchemist</td><td>Paulo Coelho</td><td>4.7</td><td>35799</td><td>39</td><td>2014</td><td>Fiction</td></tr><tr><td>The Amateur</td><td>Edward Klein</td><td>4.6</td><td>2580</td><td>9</td><td>2012</td><td>Non Fiction</td></tr><tr><td>The Art of Racing in the Rain: A Novel</td><td>Garth Stein</td><td>4.7</td><td>11813</td><td>10</td><td>2010</td><td>Fiction</td></tr><tr><td>The Art of Racing in the Rain: A Novel</td><td>Garth Stein</td><td>4.7</td><td>11813</td><td>10</td><td>2011</td><td>Fiction</td></tr><tr><td>The Big Short: Inside the Doomsday Machine</td><td>Michael Lewis</td><td>4.7</td><td>3536</td><td>17</td><td>2010</td><td>Non Fiction</td></tr><tr><td>The Blood of Olympus (The Heroes of Olympus (5))</td><td>Rick Riordan</td><td>4.8</td><td>6600</td><td>11</td><td>2014</td><td>Fiction</td></tr><tr><td>The Blood Sugar Solution: The UltraHealthy Program for Losing Weight, Preventing Disease, and Feeling Great Now!</td><td>Mark Hyman M.D.</td><td>4.2</td><td>1789</td><td>14</td><td>2012</td><td>Non Fiction</td></tr><tr><td>The Body Keeps the Score: Brain, Mind, and Body in the Healing of Trauma</td><td>Bessel van der Kolk M.D.</td><td>4.8</td><td>12361</td><td>12</td><td>2019</td><td>Non Fiction</td></tr><tr><td>The Book of Basketball: The NBA According to The Sports Guy</td><td>Bill Simmons</td><td>4.7</td><td>858</td><td>53</td><td>2009</td><td>Non Fiction</td></tr><tr><td>The Book Thief</td><td>Markus Zusak</td><td>4.6</td><td>23148</td><td>6</td><td>2013</td><td>Fiction</td></tr><tr><td>The Book Thief</td><td>Markus Zusak</td><td>4.6</td><td>23148</td><td>6</td><td>2014</td><td>Fiction</td></tr><tr><td>The Book with No Pictures</td><td>B. J. Novak</td><td>4.8</td><td>8081</td><td>8</td><td>2014</td><td>Fiction</td></tr><tr><td>The Book with No Pictures</td><td>B. J. Novak</td><td>4.8</td><td>8081</td><td>8</td><td>2015</td><td>Fiction</td></tr><tr><td>The Boys in the Boat: Nine Americans and Their Epic Quest for Gold at the 1936 Berlin Olympics</td><td>Daniel James Brown</td><td>4.8</td><td>23358</td><td>12</td><td>2014</td><td>Non Fiction</td></tr><tr><td>The Boys in the Boat: Nine Americans and Their Epic Quest for Gold at the 1936 Berlin Olympics</td><td>Daniel James Brown</td><td>4.8</td><td>23358</td><td>12</td><td>2015</td><td>Non Fiction</td></tr><tr><td>The Casual Vacancy</td><td>J.K. Rowling</td><td>3.3</td><td>9372</td><td>12</td><td>2012</td><td>Fiction</td></tr><tr><td>The China Study: The Most Comprehensive Study of Nutrition Ever Conducted And the Startling Implications for Diet…</td><td>Thomas Campbell</td><td>4.7</td><td>4633</td><td>21</td><td>2011</td><td>Non Fiction</td></tr><tr><td>The Complete Ketogenic Diet for Beginners: Your Essential Guide to Living the Keto Lifestyle</td><td>Amy Ramos</td><td>4.3</td><td>13061</td><td>6</td><td>2018</td><td>Non Fiction</td></tr><tr><td>The Complete Ketogenic Diet for Beginners: Your Essential Guide to Living the Keto Lifestyle</td><td>Amy Ramos</td><td>4.3</td><td>13061</td><td>6</td><td>2019</td><td>Non Fiction</td></tr><tr><td>The Confession: A Novel</td><td>John Grisham</td><td>4.3</td><td>3523</td><td>13</td><td>2010</td><td>Fiction</td></tr><tr><td>The Constitution of the United States</td><td>Delegates of the Constitutional</td><td>4.8</td><td>2774</td><td>0</td><td>2016</td><td>Non Fiction</td></tr><tr><td>The Daily Show with Jon Stewart Presents Earth (The Book): A Visitor's Guide to the Human Race</td><td>Jon Stewart</td><td>4.4</td><td>440</td><td>11</td><td>2010</td><td>Non Fiction</td></tr><tr><td>The Day the Crayons Quit</td><td>Drew Daywalt</td><td>4.8</td><td>8922</td><td>9</td><td>2013</td><td>Fiction</td></tr><tr><td>The Day the Crayons Quit</td><td>Drew Daywalt</td><td>4.8</td><td>8922</td><td>9</td><td>2014</td><td>Fiction</td></tr><tr><td>The Day the Crayons Quit</td><td>Drew Daywalt</td><td>4.8</td><td>8922</td><td>9</td><td>2015</td><td>Fiction</td></tr><tr><td>The Dukan Diet: 2 Steps to Lose the Weight, 2 Steps to Keep It Off Forever</td><td>Pierre Dukan</td><td>4.1</td><td>2023</td><td>15</td><td>2011</td><td>Non Fiction</td></tr><tr><td>The Elegance of the Hedgehog</td><td>Muriel Barbery</td><td>4.0</td><td>1859</td><td>11</td><td>2009</td><td>Fiction</td></tr><tr><td>The Fault in Our Stars</td><td>John Green</td><td>4.7</td><td>50482</td><td>13</td><td>2012</td><td>Fiction</td></tr><tr><td>The Fault in Our Stars</td><td>John Green</td><td>4.7</td><td>50482</td><td>13</td><td>2013</td><td>Fiction</td></tr><tr><td>The Fault in Our Stars</td><td>John Green</td><td>4.7</td><td>50482</td><td>7</td><td>2014</td><td>Fiction</td></tr><tr><td>The Fault in Our Stars</td><td>John Green</td><td>4.7</td><td>50482</td><td>13</td><td>2014</td><td>Fiction</td></tr><tr><td>The Five Dysfunctions of a Team: A Leadership Fable</td><td>Patrick Lencioni</td><td>4.6</td><td>3207</td><td>6</td><td>2009</td><td>Non Fiction</td></tr><tr><td>The Five Dysfunctions of a Team: A Leadership Fable</td><td>Patrick Lencioni</td><td>4.6</td><td>3207</td><td>6</td><td>2010</td><td>Non Fiction</td></tr><tr><td>The Five Dysfunctions of a Team: A Leadership Fable</td><td>Patrick Lencioni</td><td>4.6</td><td>3207</td><td>6</td><td>2011</td><td>Non Fiction</td></tr><tr><td>The Five Dysfunctions of a Team: A Leadership Fable</td><td>Patrick Lencioni</td><td>4.6</td><td>3207</td><td>6</td><td>2012</td><td>Non Fiction</td></tr><tr><td>The Five Dysfunctions of a Team: A Leadership Fable</td><td>Patrick Lencioni</td><td>4.6</td><td>3207</td><td>6</td><td>2013</td><td>Non Fiction</td></tr><tr><td>The Five Love Languages: How to Express Heartfelt Commitment to Your Mate</td><td>Gary Chapman</td><td>4.6</td><td>803</td><td>9</td><td>2009</td><td>Non Fiction</td></tr><tr><td>The Four Agreements: A Practical Guide to Personal Freedom (A Toltec Wisdom Book)</td><td>Don Miguel Ruiz</td><td>4.7</td><td>23308</td><td>6</td><td>2013</td><td>Non Fiction</td></tr><tr><td>The Four Agreements: A Practical Guide to Personal Freedom (A Toltec Wisdom Book)</td><td>Don Miguel Ruiz</td><td>4.7</td><td>23308</td><td>6</td><td>2015</td><td>Non Fiction</td></tr><tr><td>The Four Agreements: A Practical Guide to Personal Freedom (A Toltec Wisdom Book)</td><td>Don Miguel Ruiz</td><td>4.7</td><td>23308</td><td>6</td><td>2016</td><td>Non Fiction</td></tr><tr><td>The Four Agreements: A Practical Guide to Personal Freedom (A Toltec Wisdom Book)</td><td>Don Miguel Ruiz</td><td>4.7</td><td>23308</td><td>6</td><td>2017</td><td>Non Fiction</td></tr><tr><td>The Four Agreements: A Practical Guide to Personal Freedom (A Toltec Wisdom Book)</td><td>Don Miguel Ruiz</td><td>4.7</td><td>23308</td><td>6</td><td>2018</td><td>Non Fiction</td></tr><tr><td>The Four Agreements: A Practical Guide to Personal Freedom (A Toltec Wisdom Book)</td><td>Don Miguel Ruiz</td><td>4.7</td><td>23308</td><td>6</td><td>2019</td><td>Non Fiction</td></tr><tr><td>The Getaway</td><td>Jeff Kinney</td><td>4.8</td><td>5836</td><td>0</td><td>2017</td><td>Fiction</td></tr><tr><td>The Girl on the Train</td><td>Paula Hawkins</td><td>4.1</td><td>79446</td><td>18</td><td>2015</td><td>Fiction</td></tr><tr><td>The Girl on the Train</td><td>Paula Hawkins</td><td>4.1</td><td>79446</td><td>7</td><td>2016</td><td>Fiction</td></tr><tr><td>The Girl Who Kicked the Hornet's Nest (Millennium Trilogy)</td><td>Stieg Larsson</td><td>4.7</td><td>7747</td><td>14</td><td>2010</td><td>Fiction</td></tr><tr><td>The Girl Who Kicked the Hornet's Nest (Millennium Trilogy)</td><td>Stieg Larsson</td><td>4.7</td><td>7747</td><td>14</td><td>2011</td><td>Fiction</td></tr><tr><td>The Girl Who Played with Fire (Millennium Series)</td><td>Stieg Larsson</td><td>4.7</td><td>7251</td><td>9</td><td>2010</td><td>Fiction</td></tr><tr><td>The Girl Who Played with Fire (Millennium)</td><td>Stieg Larsson</td><td>4.7</td><td>7251</td><td>16</td><td>2009</td><td>Fiction</td></tr><tr><td>The Girl with the Dragon Tattoo (Millennium Series)</td><td>Stieg Larsson</td><td>4.4</td><td>10559</td><td>2</td><td>2009</td><td>Fiction</td></tr><tr><td>The Girl with the Dragon Tattoo (Millennium Series)</td><td>Stieg Larsson</td><td>4.4</td><td>10559</td><td>2</td><td>2010</td><td>Fiction</td></tr><tr><td>The Going-To-Bed Book</td><td>Sandra Boynton</td><td>4.8</td><td>5249</td><td>5</td><td>2016</td><td>Fiction</td></tr><tr><td>The Going-To-Bed Book</td><td>Sandra Boynton</td><td>4.8</td><td>5249</td><td>5</td><td>2017</td><td>Fiction</td></tr><tr><td>The Goldfinch: A Novel (Pulitzer Prize for Fiction)</td><td>Donna Tartt</td><td>3.9</td><td>33844</td><td>20</td><td>2013</td><td>Fiction</td></tr><tr><td>The Goldfinch: A Novel (Pulitzer Prize for Fiction)</td><td>Donna Tartt</td><td>3.9</td><td>33844</td><td>20</td><td>2014</td><td>Fiction</td></tr><tr><td>The Great Gatsby</td><td>F. Scott Fitzgerald</td><td>4.4</td><td>11616</td><td>7</td><td>2012</td><td>Fiction</td></tr><tr><td>The Great Gatsby</td><td>F. Scott Fitzgerald</td><td>4.4</td><td>11616</td><td>7</td><td>2013</td><td>Fiction</td></tr><tr><td>The Great Gatsby</td><td>F. Scott Fitzgerald</td><td>4.4</td><td>11616</td><td>7</td><td>2014</td><td>Fiction</td></tr><tr><td>The Guardians: A Novel</td><td>John Grisham</td><td>4.5</td><td>13609</td><td>14</td><td>2019</td><td>Fiction</td></tr><tr><td>The Guernsey Literary and Potato Peel Pie Society</td><td>Mary Ann Shaffer</td><td>4.7</td><td>8587</td><td>10</td><td>2009</td><td>Fiction</td></tr><tr><td>The Handmaid's Tale</td><td>Margaret Atwood</td><td>4.3</td><td>29442</td><td>7</td><td>2017</td><td>Fiction</td></tr><tr><td>The Harbinger: The Ancient Mystery that Holds the Secret of America's Future</td><td>Jonathan Cahn</td><td>4.6</td><td>11098</td><td>13</td><td>2012</td><td>Fiction</td></tr><tr><td>The Hate U Give</td><td>Angie Thomas</td><td>4.8</td><td>9947</td><td>11</td><td>2018</td><td>Fiction</td></tr><tr><td>The Help</td><td>Kathryn Stockett</td><td>4.8</td><td>13871</td><td>6</td><td>2009</td><td>Fiction</td></tr><tr><td>The Help</td><td>Kathryn Stockett</td><td>4.8</td><td>13871</td><td>6</td><td>2010</td><td>Fiction</td></tr><tr><td>The Help</td><td>Kathryn Stockett</td><td>4.8</td><td>13871</td><td>8</td><td>2011</td><td>Fiction</td></tr><tr><td>The Help</td><td>Kathryn Stockett</td><td>4.8</td><td>13871</td><td>7</td><td>2011</td><td>Fiction</td></tr><tr><td>The House of Hades (Heroes of Olympus, Book 4)</td><td>Rick Riordan</td><td>4.8</td><td>6982</td><td>14</td><td>2013</td><td>Fiction</td></tr><tr><td>The Hunger Games</td><td>Suzanne Collins</td><td>4.7</td><td>32122</td><td>14</td><td>2010</td><td>Fiction</td></tr><tr><td>The Hunger Games (Book 1)</td><td>Suzanne Collins</td><td>4.7</td><td>32122</td><td>8</td><td>2011</td><td>Fiction</td></tr><tr><td>The Hunger Games (Book 1)</td><td>Suzanne Collins</td><td>4.7</td><td>32122</td><td>8</td><td>2012</td><td>Fiction</td></tr><tr><td>The Hunger Games Trilogy Boxed Set (1)</td><td>Suzanne Collins</td><td>4.8</td><td>16949</td><td>30</td><td>2011</td><td>Fiction</td></tr><tr><td>The Hunger Games Trilogy Boxed Set (1)</td><td>Suzanne Collins</td><td>4.8</td><td>16949</td><td>30</td><td>2012</td><td>Fiction</td></tr><tr><td>The Immortal Life of Henrietta Lacks</td><td>Rebecca Skloot</td><td>4.7</td><td>9289</td><td>13</td><td>2010</td><td>Non Fiction</td></tr><tr><td>The Immortal Life of Henrietta Lacks</td><td>Rebecca Skloot</td><td>4.7</td><td>9289</td><td>9</td><td>2011</td><td>Non Fiction</td></tr><tr><td>The Immortal Life of Henrietta Lacks</td><td>Rebecca Skloot</td><td>4.7</td><td>9289</td><td>9</td><td>2012</td><td>Non Fiction</td></tr><tr><td>The Instant Pot Electric Pressure Cooker Cookbook: Easy Recipes for Fast & Healthy Meals</td><td>Laurel Randolph</td><td>4.3</td><td>7368</td><td>7</td><td>2017</td><td>Non Fiction</td></tr><tr><td>The Instant Pot Electric Pressure Cooker Cookbook: Easy Recipes for Fast & Healthy Meals</td><td>Laurel Randolph</td><td>4.3</td><td>7368</td><td>7</td><td>2018</td><td>Non Fiction</td></tr><tr><td>The Last Lecture</td><td>Randy Pausch</td><td>4.7</td><td>4028</td><td>9</td><td>2009</td><td>Non Fiction</td></tr><tr><td>The Last Olympian (Percy Jackson and the Olympians, Book 5)</td><td>Rick Riordan</td><td>4.8</td><td>4628</td><td>7</td><td>2009</td><td>Fiction</td></tr><tr><td>The Last Olympian (Percy Jackson and the Olympians, Book 5)</td><td>Rick Riordan</td><td>4.8</td><td>4628</td><td>7</td><td>2010</td><td>Fiction</td></tr><tr><td>The Legend of Zelda: Hyrule Historia</td><td>Patrick Thorpe</td><td>4.9</td><td>5396</td><td>20</td><td>2013</td><td>Fiction</td></tr><tr><td>The Lego Ideas Book: Unlock Your Imagination</td><td>Daniel Lipkowitz</td><td>4.4</td><td>4247</td><td>13</td><td>2011</td><td>Non Fiction</td></tr><tr><td>The Lego Ideas Book: Unlock Your Imagination</td><td>Daniel Lipkowitz</td><td>4.4</td><td>4247</td><td>13</td><td>2012</td><td>Non Fiction</td></tr><tr><td>The Life-Changing Magic of Tidying Up: The Japanese Art of Decluttering and Organizing</td><td>Marie Kondō</td><td>4.5</td><td>22641</td><td>11</td><td>2015</td><td>Non Fiction</td></tr><tr><td>The Life-Changing Magic of Tidying Up: The Japanese Art of Decluttering and Organizing</td><td>Marie Kondō</td><td>4.5</td><td>22641</td><td>11</td><td>2016</td><td>Non Fiction</td></tr><tr><td>The Life-Changing Magic of Tidying Up: The Japanese Art of Decluttering and Organizing</td><td>Marie Kondō</td><td>4.5</td><td>22641</td><td>11</td><td>2017</td><td>Non Fiction</td></tr><tr><td>The Life-Changing Magic of Tidying Up: The Japanese Art of Decluttering and Organizing</td><td>Marie Kondō</td><td>4.5</td><td>22641</td><td>11</td><td>2019</td><td>Non Fiction</td></tr><tr><td>The Litigators</td><td>John Grisham</td><td>4.4</td><td>6222</td><td>18</td><td>2011</td><td>Fiction</td></tr><tr><td>The Lost Hero (Heroes of Olympus, Book 1)</td><td>Rick Riordan</td><td>4.8</td><td>4506</td><td>14</td><td>2010</td><td>Fiction</td></tr><tr><td>The Lost Symbol</td><td>Dan Brown</td><td>4.2</td><td>8747</td><td>19</td><td>2009</td><td>Fiction</td></tr><tr><td>The Love Dare</td><td>Stephen Kendrick</td><td>4.8</td><td>1655</td><td>13</td><td>2009</td><td>Non Fiction</td></tr><tr><td>The Magnolia Story</td><td>Chip Gaines</td><td>4.9</td><td>7861</td><td>5</td><td>2016</td><td>Non Fiction</td></tr><tr><td>The Mark of Athena (Heroes of Olympus, Book 3)</td><td>Rick Riordan</td><td>4.8</td><td>6247</td><td>10</td><td>2012</td><td>Fiction</td></tr><tr><td>The Martian</td><td>Andy Weir</td><td>4.7</td><td>39459</td><td>9</td><td>2015</td><td>Fiction</td></tr><tr><td>The Maze Runner (Book 1)</td><td>James Dashner</td><td>4.5</td><td>10101</td><td>8</td><td>2014</td><td>Fiction</td></tr><tr><td>The Meltdown (Diary of a Wimpy Kid Book 13)</td><td>Jeff Kinney</td><td>4.8</td><td>5898</td><td>8</td><td>2018</td><td>Fiction</td></tr><tr><td>The Mueller Report</td><td>The Washington Post</td><td>4.6</td><td>2744</td><td>12</td><td>2019</td><td>Non Fiction</td></tr><tr><td>The Nightingale: A Novel</td><td>Kristin Hannah</td><td>4.8</td><td>49288</td><td>11</td><td>2015</td><td>Fiction</td></tr><tr><td>The Nightingale: A Novel</td><td>Kristin Hannah</td><td>4.8</td><td>49288</td><td>11</td><td>2016</td><td>Fiction</td></tr><tr><td>The Official SAT Study Guide</td><td>The College Board</td><td>4.4</td><td>1201</td><td>40</td><td>2010</td><td>Non Fiction</td></tr><tr><td>The Official SAT Study Guide</td><td>The College Board</td><td>4.4</td><td>1201</td><td>40</td><td>2011</td><td>Non Fiction</td></tr><tr><td>The Official SAT Study Guide</td><td>The College Board</td><td>4.4</td><td>1201</td><td>40</td><td>2012</td><td>Non Fiction</td></tr><tr><td>The Official SAT Study Guide</td><td>The College Board</td><td>4.4</td><td>1201</td><td>40</td><td>2013</td><td>Non Fiction</td></tr><tr><td>The Official SAT Study Guide</td><td>The College Board</td><td>4.4</td><td>1201</td><td>40</td><td>2014</td><td>Non Fiction</td></tr><tr><td>The Official SAT Study Guide, 2016 Edition (Official Study Guide for the New Sat)</td><td>The College Board</td><td>4.3</td><td>807</td><td>36</td><td>2016</td><td>Non Fiction</td></tr><tr><td>The Paris Wife: A Novel</td><td>Paula McLain</td><td>4.3</td><td>3759</td><td>16</td><td>2011</td><td>Fiction</td></tr><tr><td>The Pioneer Woman Cooks: A Year of Holidays: 140 Step-by-Step Recipes for Simple, Scrumptious Celebrations</td><td>Ree Drummond</td><td>4.8</td><td>2663</td><td>17</td><td>2013</td><td>Non Fiction</td></tr><tr><td>The Pioneer Woman Cooks: Dinnertime - Comfort Classics, Freezer Food, 16-minute Meals, and Other Delicious Ways to Solve…</td><td>Ree Drummond</td><td>4.8</td><td>3428</td><td>14</td><td>2015</td><td>Non Fiction</td></tr><tr><td>The Pioneer Woman Cooks: Food from My Frontier</td><td>Ree Drummond</td><td>4.8</td><td>2876</td><td>21</td><td>2012</td><td>Non Fiction</td></tr><tr><td>The Plant Paradox Cookbook: 100 Delicious Recipes to Help You Lose Weight, Heal Your Gut, and Live Lectin-Free</td><td>Dr. Steven R Gundry MD</td><td>4.5</td><td>3601</td><td>18</td><td>2018</td><td>Non Fiction</td></tr><tr><td>The Plant Paradox: The Hidden Dangers in \"Healthy\" Foods That Cause Disease and Weight Gain</td><td>Dr. Steven R Gundry MD</td><td>4.4</td><td>7058</td><td>17</td><td>2018</td><td>Non Fiction</td></tr><tr><td>The Pout-Pout Fish</td><td>Deborah Diesen</td><td>4.8</td><td>9784</td><td>5</td><td>2017</td><td>Fiction</td></tr><tr><td>The Pout-Pout Fish</td><td>Deborah Diesen</td><td>4.8</td><td>9784</td><td>5</td><td>2018</td><td>Fiction</td></tr><tr><td>The Power of Habit: Why We Do What We Do in Life and Business</td><td>Charles Duhigg</td><td>4.6</td><td>10795</td><td>21</td><td>2012</td><td>Non Fiction</td></tr><tr><td>The President Is Missing: A Novel</td><td>James Patterson</td><td>4.3</td><td>10191</td><td>18</td><td>2018</td><td>Fiction</td></tr><tr><td>The Racketeer</td><td>John Grisham</td><td>4.3</td><td>14493</td><td>18</td><td>2012</td><td>Fiction</td></tr><tr><td>The Red Pyramid (The Kane Chronicles, Book 1)</td><td>Rick Riordan</td><td>4.6</td><td>2186</td><td>12</td><td>2010</td><td>Fiction</td></tr><tr><td>The Road to Serfdom: Text and Documents--The Definitive Edition (The Collected Works of F. A. Hayek, Volume 2)</td><td>F. A. Hayek</td><td>4.6</td><td>1204</td><td>14</td><td>2010</td><td>Non Fiction</td></tr><tr><td>The Serpent's Shadow (The Kane Chronicles, Book 3)</td><td>Rick Riordan</td><td>4.8</td><td>2091</td><td>12</td><td>2012</td><td>Fiction</td></tr><tr><td>The Shack: Where Tragedy Confronts Eternity</td><td>William P. Young</td><td>4.6</td><td>19720</td><td>8</td><td>2009</td><td>Fiction</td></tr><tr><td>The Shack: Where Tragedy Confronts Eternity</td><td>William P. Young</td><td>4.6</td><td>19720</td><td>8</td><td>2017</td><td>Fiction</td></tr><tr><td>The Short Second Life of Bree Tanner: An Eclipse Novella (The Twilight Saga)</td><td>Stephenie Meyer</td><td>4.6</td><td>2122</td><td>0</td><td>2010</td><td>Fiction</td></tr><tr><td>The Silent Patient</td><td>Alex Michaelides</td><td>4.5</td><td>27536</td><td>14</td><td>2019</td><td>Fiction</td></tr><tr><td>The Son of Neptune (Heroes of Olympus, Book 2)</td><td>Rick Riordan</td><td>4.8</td><td>4290</td><td>10</td><td>2011</td><td>Fiction</td></tr><tr><td>The Subtle Art of Not Giving a F*ck: A Counterintuitive Approach to Living a Good Life</td><td>Mark Manson</td><td>4.6</td><td>26490</td><td>15</td><td>2017</td><td>Non Fiction</td></tr><tr><td>The Subtle Art of Not Giving a F*ck: A Counterintuitive Approach to Living a Good Life</td><td>Mark Manson</td><td>4.6</td><td>26490</td><td>15</td><td>2018</td><td>Non Fiction</td></tr><tr><td>The Subtle Art of Not Giving a F*ck: A Counterintuitive Approach to Living a Good Life</td><td>Mark Manson</td><td>4.6</td><td>26490</td><td>15</td><td>2019</td><td>Non Fiction</td></tr><tr><td>The Sun and Her Flowers</td><td>Rupi Kaur</td><td>4.7</td><td>5487</td><td>9</td><td>2017</td><td>Non Fiction</td></tr><tr><td>The Third Wheel (Diary of a Wimpy Kid, Book 7)</td><td>Jeff Kinney</td><td>4.7</td><td>6377</td><td>7</td><td>2012</td><td>Fiction</td></tr><tr><td>The Throne of Fire (The Kane Chronicles, Book 2)</td><td>Rick Riordan</td><td>4.7</td><td>1463</td><td>10</td><td>2011</td><td>Fiction</td></tr><tr><td>The Time Traveler's Wife</td><td>Audrey Niffenegger</td><td>4.4</td><td>3759</td><td>6</td><td>2009</td><td>Fiction</td></tr><tr><td>The Tipping Point: How Little Things Can Make a Big Difference</td><td>Malcolm Gladwell</td><td>4.4</td><td>3503</td><td>9</td><td>2009</td><td>Non Fiction</td></tr><tr><td>The Total Money Makeover: Classic Edition: A Proven Plan for Financial Fitness</td><td>Dave Ramsey</td><td>4.7</td><td>11550</td><td>10</td><td>2019</td><td>Non Fiction</td></tr><tr><td>The Twilight Saga Collection</td><td>Stephenie Meyer</td><td>4.7</td><td>3801</td><td>82</td><td>2009</td><td>Fiction</td></tr><tr><td>The Ugly Truth (Diary of a Wimpy Kid, Book 5)</td><td>Jeff Kinney</td><td>4.8</td><td>3796</td><td>12</td><td>2010</td><td>Fiction</td></tr><tr><td>The Unofficial Harry Potter Cookbook: From Cauldron Cakes to Knickerbocker Glory--More Than 150 Magical Recipes for…</td><td>Dinah Bucholz</td><td>4.7</td><td>9030</td><td>10</td><td>2019</td><td>Non Fiction</td></tr><tr><td>The Very Hungry Caterpillar</td><td>Eric Carle</td><td>4.9</td><td>19546</td><td>5</td><td>2013</td><td>Fiction</td></tr><tr><td>The Very Hungry Caterpillar</td><td>Eric Carle</td><td>4.9</td><td>19546</td><td>5</td><td>2014</td><td>Fiction</td></tr><tr><td>The Very Hungry Caterpillar</td><td>Eric Carle</td><td>4.9</td><td>19546</td><td>5</td><td>2015</td><td>Fiction</td></tr><tr><td>The Very Hungry Caterpillar</td><td>Eric Carle</td><td>4.9</td><td>19546</td><td>5</td><td>2016</td><td>Fiction</td></tr><tr><td>The Very Hungry Caterpillar</td><td>Eric Carle</td><td>4.9</td><td>19546</td><td>5</td><td>2017</td><td>Fiction</td></tr><tr><td>The Very Hungry Caterpillar</td><td>Eric Carle</td><td>4.9</td><td>19546</td><td>5</td><td>2018</td><td>Fiction</td></tr><tr><td>The Very Hungry Caterpillar</td><td>Eric Carle</td><td>4.9</td><td>19546</td><td>5</td><td>2019</td><td>Fiction</td></tr><tr><td>The Whole30: The 30-Day Guide to Total Health and Food Freedom</td><td>Melissa Hartwig Urban</td><td>4.6</td><td>7508</td><td>16</td><td>2015</td><td>Non Fiction</td></tr><tr><td>The Whole30: The 30-Day Guide to Total Health and Food Freedom</td><td>Melissa Hartwig Urban</td><td>4.6</td><td>7508</td><td>16</td><td>2016</td><td>Non Fiction</td></tr><tr><td>The Whole30: The 30-Day Guide to Total Health and Food Freedom</td><td>Melissa Hartwig Urban</td><td>4.6</td><td>7508</td><td>16</td><td>2017</td><td>Non Fiction</td></tr><tr><td>The Wonderful Things You Will Be</td><td>Emily Winfield Martin</td><td>4.9</td><td>8842</td><td>10</td><td>2016</td><td>Fiction</td></tr><tr><td>The Wonderful Things You Will Be</td><td>Emily Winfield Martin</td><td>4.9</td><td>8842</td><td>10</td><td>2017</td><td>Fiction</td></tr><tr><td>The Wonderful Things You Will Be</td><td>Emily Winfield Martin</td><td>4.9</td><td>8842</td><td>10</td><td>2018</td><td>Fiction</td></tr><tr><td>The Wonderful Things You Will Be</td><td>Emily Winfield Martin</td><td>4.9</td><td>8842</td><td>10</td><td>2019</td><td>Fiction</td></tr><tr><td>The Wonky Donkey</td><td>Craig Smith</td><td>4.8</td><td>30183</td><td>4</td><td>2018</td><td>Fiction</td></tr><tr><td>The Wonky Donkey</td><td>Craig Smith</td><td>4.8</td><td>30183</td><td>4</td><td>2019</td><td>Fiction</td></tr><tr><td>The Wright Brothers</td><td>David McCullough</td><td>4.7</td><td>6169</td><td>16</td><td>2015</td><td>Non Fiction</td></tr><tr><td>Things That Matter: Three Decades of Passions, Pastimes and Politics [Deckled Edge]</td><td>Charles Krauthammer</td><td>4.7</td><td>7034</td><td>15</td><td>2013</td><td>Non Fiction</td></tr><tr><td>Thinking, Fast and Slow</td><td>Daniel Kahneman</td><td>4.6</td><td>11034</td><td>19</td><td>2011</td><td>Non Fiction</td></tr><tr><td>Thinking, Fast and Slow</td><td>Daniel Kahneman</td><td>4.6</td><td>11034</td><td>19</td><td>2012</td><td>Non Fiction</td></tr><tr><td>Thirteen Reasons Why</td><td>Jay Asher</td><td>4.5</td><td>7932</td><td>9</td><td>2017</td><td>Fiction</td></tr><tr><td>Thomas Jefferson: The Art of Power</td><td>Jon Meacham</td><td>4.5</td><td>1904</td><td>23</td><td>2012</td><td>Non Fiction</td></tr><tr><td>Three Cups of Tea: One Man's Mission to Promote Peace - One School at a Time</td><td>Greg Mortenson</td><td>4.3</td><td>3319</td><td>11</td><td>2009</td><td>Non Fiction</td></tr><tr><td>Three Cups of Tea: One Man's Mission to Promote Peace - One School at a Time</td><td>Greg Mortenson</td><td>4.3</td><td>3319</td><td>11</td><td>2010</td><td>Non Fiction</td></tr><tr><td>Thug Kitchen: The Official Cookbook: Eat Like You Give a F*ck (Thug Kitchen Cookbooks)</td><td>Thug Kitchen</td><td>4.6</td><td>11128</td><td>23</td><td>2014</td><td>Non Fiction</td></tr><tr><td>Thug Kitchen: The Official Cookbook: Eat Like You Give a F*ck (Thug Kitchen Cookbooks)</td><td>Thug Kitchen</td><td>4.6</td><td>11128</td><td>23</td><td>2015</td><td>Non Fiction</td></tr><tr><td>Thug Kitchen: The Official Cookbook: Eat Like You Give a F*ck (Thug Kitchen Cookbooks)</td><td>Thug Kitchen</td><td>4.6</td><td>11128</td><td>23</td><td>2016</td><td>Non Fiction</td></tr><tr><td>Thug Kitchen: The Official Cookbook: Eat Like You Give a F*ck (Thug Kitchen Cookbooks)</td><td>Thug Kitchen</td><td>4.6</td><td>11128</td><td>23</td><td>2017</td><td>Non Fiction</td></tr><tr><td>Tina Fey: Bossypants</td><td>Tina Fey</td><td>4.3</td><td>5977</td><td>12</td><td>2011</td><td>Non Fiction</td></tr><tr><td>To Kill a Mockingbird</td><td>Harper Lee</td><td>4.8</td><td>26234</td><td>0</td><td>2013</td><td>Fiction</td></tr><tr><td>To Kill a Mockingbird</td><td>Harper Lee</td><td>4.8</td><td>26234</td><td>0</td><td>2014</td><td>Fiction</td></tr><tr><td>To Kill a Mockingbird</td><td>Harper Lee</td><td>4.8</td><td>26234</td><td>0</td><td>2015</td><td>Fiction</td></tr><tr><td>To Kill a Mockingbird</td><td>Harper Lee</td><td>4.8</td><td>26234</td><td>0</td><td>2016</td><td>Fiction</td></tr><tr><td>To Kill a Mockingbird</td><td>Harper Lee</td><td>4.8</td><td>26234</td><td>7</td><td>2019</td><td>Fiction</td></tr><tr><td>Tools of Titans: The Tactics, Routines, and Habits of Billionaires, Icons, and World-Class Performers</td><td>Timothy Ferriss</td><td>4.6</td><td>4360</td><td>21</td><td>2017</td><td>Non Fiction</td></tr><tr><td>Towers of Midnight (Wheel of Time, Book Thirteen)</td><td>Robert Jordan</td><td>4.8</td><td>2282</td><td>21</td><td>2010</td><td>Fiction</td></tr><tr><td>True Compass: A Memoir</td><td>Edward M. Kennedy</td><td>4.5</td><td>438</td><td>15</td><td>2009</td><td>Non Fiction</td></tr><tr><td>Twilight (The Twilight Saga, Book 1)</td><td>Stephenie Meyer</td><td>4.7</td><td>11676</td><td>9</td><td>2009</td><td>Fiction</td></tr><tr><td>Ultimate Sticker Book: Frozen: More Than 60 Reusable Full-Color Stickers</td><td>DK</td><td>4.5</td><td>2586</td><td>5</td><td>2014</td><td>Fiction</td></tr><tr><td>Unbroken: A World War II Story of Survival, Resilience, and Redemption</td><td>Laura Hillenbrand</td><td>4.8</td><td>29673</td><td>16</td><td>2010</td><td>Non Fiction</td></tr><tr><td>Unbroken: A World War II Story of Survival, Resilience, and Redemption</td><td>Laura Hillenbrand</td><td>4.8</td><td>29673</td><td>16</td><td>2011</td><td>Non Fiction</td></tr><tr><td>Unbroken: A World War II Story of Survival, Resilience, and Redemption</td><td>Laura Hillenbrand</td><td>4.8</td><td>29673</td><td>16</td><td>2012</td><td>Non Fiction</td></tr><tr><td>Unbroken: A World War II Story of Survival, Resilience, and Redemption</td><td>Laura Hillenbrand</td><td>4.8</td><td>29673</td><td>13</td><td>2014</td><td>Non Fiction</td></tr><tr><td>Unbroken: A World War II Story of Survival, Resilience, and Redemption</td><td>Laura Hillenbrand</td><td>4.8</td><td>29673</td><td>16</td><td>2014</td><td>Non Fiction</td></tr><tr><td>Under the Dome: A Novel</td><td>Stephen King</td><td>4.3</td><td>6740</td><td>20</td><td>2009</td><td>Fiction</td></tr><tr><td>Unfreedom of the Press</td><td>Mark R. Levin</td><td>4.9</td><td>5956</td><td>11</td><td>2019</td><td>Non Fiction</td></tr><tr><td>Unicorn Coloring Book: For Kids Ages 4-8 (US Edition) (Silly Bear Coloring Books)</td><td>Silly Bear</td><td>4.8</td><td>6108</td><td>4</td><td>2019</td><td>Non Fiction</td></tr><tr><td>Uninvited: Living Loved When You Feel Less Than, Left Out, and Lonely</td><td>Lysa TerKeurst</td><td>4.7</td><td>4585</td><td>9</td><td>2016</td><td>Non Fiction</td></tr><tr><td>Watchmen</td><td>Alan Moore</td><td>4.8</td><td>3829</td><td>42</td><td>2009</td><td>Fiction</td></tr><tr><td>Water for Elephants: A Novel</td><td>Sara Gruen</td><td>4.5</td><td>8958</td><td>12</td><td>2011</td><td>Fiction</td></tr><tr><td>What Happened</td><td>Hillary Rodham Clinton</td><td>4.6</td><td>5492</td><td>18</td><td>2017</td><td>Non Fiction</td></tr><tr><td>What If?: Serious Scientific Answers to Absurd Hypothetical Questions</td><td>Randall Munroe</td><td>4.7</td><td>9292</td><td>17</td><td>2014</td><td>Non Fiction</td></tr><tr><td>What Pet Should I Get? (Classic Seuss)</td><td>Dr. Seuss</td><td>4.7</td><td>1873</td><td>14</td><td>2015</td><td>Fiction</td></tr><tr><td>What Should Danny Do? (The Power to Choose Series)</td><td>Adir Levy</td><td>4.8</td><td>8170</td><td>13</td><td>2019</td><td>Fiction</td></tr><tr><td>What to Expect When You're Expecting</td><td>Heidi Murkoff</td><td>4.4</td><td>3341</td><td>9</td><td>2011</td><td>Non Fiction</td></tr><tr><td>Wheat Belly: Lose the Wheat, Lose the Weight, and Find Your Path Back to Health</td><td>William Davis</td><td>4.4</td><td>7497</td><td>6</td><td>2012</td><td>Non Fiction</td></tr><tr><td>Wheat Belly: Lose the Wheat, Lose the Weight, and Find Your Path Back to Health</td><td>William Davis</td><td>4.4</td><td>7497</td><td>6</td><td>2013</td><td>Non Fiction</td></tr><tr><td>When Breath Becomes Air</td><td>Paul Kalanithi</td><td>4.8</td><td>13779</td><td>14</td><td>2016</td><td>Non Fiction</td></tr><tr><td>Where the Crawdads Sing</td><td>Delia Owens</td><td>4.8</td><td>87841</td><td>15</td><td>2019</td><td>Fiction</td></tr><tr><td>Where the Wild Things Are</td><td>Maurice Sendak</td><td>4.8</td><td>9967</td><td>13</td><td>2009</td><td>Fiction</td></tr><tr><td>Whose Boat Is This Boat?: Comments That Don't Help in the Aftermath of a Hurricane</td><td>The Staff of The Late Show with</td><td>4.6</td><td>6669</td><td>12</td><td>2018</td><td>Non Fiction</td></tr><tr><td>Wild: From Lost to Found on the Pacific Crest Trail</td><td>Cheryl Strayed</td><td>4.4</td><td>17044</td><td>18</td><td>2012</td><td>Non Fiction</td></tr><tr><td>Winter of the World: Book Two of the Century Trilogy</td><td>Ken Follett</td><td>4.5</td><td>10760</td><td>15</td><td>2012</td><td>Fiction</td></tr><tr><td>Women Food and God: An Unexpected Path to Almost Everything</td><td>Geneen Roth</td><td>4.2</td><td>1302</td><td>11</td><td>2010</td><td>Non Fiction</td></tr><tr><td>Wonder</td><td>R. J. Palacio</td><td>4.8</td><td>21625</td><td>9</td><td>2013</td><td>Fiction</td></tr><tr><td>Wonder</td><td>R. J. Palacio</td><td>4.8</td><td>21625</td><td>9</td><td>2014</td><td>Fiction</td></tr><tr><td>Wonder</td><td>R. J. Palacio</td><td>4.8</td><td>21625</td><td>9</td><td>2015</td><td>Fiction</td></tr><tr><td>Wonder</td><td>R. J. Palacio</td><td>4.8</td><td>21625</td><td>9</td><td>2016</td><td>Fiction</td></tr><tr><td>Wonder</td><td>R. J. Palacio</td><td>4.8</td><td>21625</td><td>9</td><td>2017</td><td>Fiction</td></tr><tr><td>Wrecking Ball (Diary of a Wimpy Kid Book 14)</td><td>Jeff Kinney</td><td>4.9</td><td>9413</td><td>8</td><td>2019</td><td>Fiction</td></tr><tr><td>You Are a Badass: How to Stop Doubting Your Greatness and Start Living an Awesome Life</td><td>Jen Sincero</td><td>4.7</td><td>14331</td><td>8</td><td>2016</td><td>Non Fiction</td></tr><tr><td>You Are a Badass: How to Stop Doubting Your Greatness and Start Living an Awesome Life</td><td>Jen Sincero</td><td>4.7</td><td>14331</td><td>8</td><td>2017</td><td>Non Fiction</td></tr><tr><td>You Are a Badass: How to Stop Doubting Your Greatness and Start Living an Awesome Life</td><td>Jen Sincero</td><td>4.7</td><td>14331</td><td>8</td><td>2018</td><td>Non Fiction</td></tr><tr><td>You Are a Badass: How to Stop Doubting Your Greatness and Start Living an Awesome Life</td><td>Jen Sincero</td><td>4.7</td><td>14331</td><td>8</td><td>2019</td><td>Non Fiction</td></tr></tbody></table></div>"
      ]
     },
     "metadata": {
      "application/vnd.databricks.v1+output": {
       "addedWidgets": {},
       "aggData": [],
       "aggError": "",
       "aggOverflow": false,
       "aggSchema": [],
       "aggSeriesLimitReached": false,
       "aggType": "",
       "arguments": {},
       "columnCustomDisplayInfos": {},
       "data": [
        [
         "10-Day Green Smoothie Cleanse",
         "JJ Smith",
         4.7,
         17350,
         8,
         2016,
         "Non Fiction"
        ],
        [
         "11/22/63: A Novel",
         "Stephen King",
         4.6,
         2052,
         22,
         2011,
         "Fiction"
        ],
        [
         "12 Rules for Life: An Antidote to Chaos",
         "Jordan B. Peterson",
         4.7,
         18979,
         15,
         2018,
         "Non Fiction"
        ],
        [
         "1984 (Signet Classics)",
         "George Orwell",
         4.7,
         21424,
         6,
         2017,
         "Fiction"
        ],
        [
         "5,000 Awesome Facts (About Everything!) (National Geographic Kids)",
         "National Geographic Kids",
         4.8,
         7665,
         12,
         2019,
         "Non Fiction"
        ],
        [
         "A Dance with Dragons (A Song of Ice and Fire)",
         "George R. R. Martin",
         4.4,
         12643,
         11,
         2011,
         "Fiction"
        ],
        [
         "A Game of Thrones / A Clash of Kings / A Storm of Swords / A Feast of Crows / A Dance with Dragons",
         "George R. R. Martin",
         4.7,
         19735,
         30,
         2014,
         "Fiction"
        ],
        [
         "A Gentleman in Moscow: A Novel",
         "Amor Towles",
         4.7,
         19699,
         15,
         2017,
         "Fiction"
        ],
        [
         "A Higher Loyalty: Truth, Lies, and Leadership",
         "James Comey",
         4.7,
         5983,
         3,
         2018,
         "Non Fiction"
        ],
        [
         "A Man Called Ove: A Novel",
         "Fredrik Backman",
         4.6,
         23848,
         8,
         2016,
         "Fiction"
        ],
        [
         "A Man Called Ove: A Novel",
         "Fredrik Backman",
         4.6,
         23848,
         8,
         2017,
         "Fiction"
        ],
        [
         "A Patriot's History of the United States: From Columbus's Great Discovery to the War on Terror",
         "Larry Schweikart",
         4.6,
         460,
         2,
         2010,
         "Non Fiction"
        ],
        [
         "A Stolen Life: A Memoir",
         "Jaycee Dugard",
         4.6,
         4149,
         32,
         2011,
         "Non Fiction"
        ],
        [
         "A Wrinkle in Time (Time Quintet)",
         "Madeleine L'Engle",
         4.5,
         5153,
         5,
         2018,
         "Fiction"
        ],
        [
         "Act Like a Lady, Think Like a Man: What Men Really Think About Love, Relationships, Intimacy, and Commitment",
         "Steve Harvey",
         4.6,
         5013,
         17,
         2009,
         "Non Fiction"
        ],
        [
         "Adult Coloring Book Designs: Stress Relief Coloring Book: Garden Designs, Mandalas, Animals, and Paisley Patterns",
         "Adult Coloring Book Designs",
         4.5,
         2313,
         4,
         2016,
         "Non Fiction"
        ],
        [
         "Adult Coloring Book: Stress Relieving Animal Designs",
         "Blue Star Coloring",
         4.6,
         2925,
         6,
         2015,
         "Non Fiction"
        ],
        [
         "Adult Coloring Book: Stress Relieving Patterns",
         "Blue Star Coloring",
         4.4,
         2951,
         6,
         2015,
         "Non Fiction"
        ],
        [
         "Adult Coloring Books: A Coloring Book for Adults Featuring Mandalas and Henna Inspired Flowers, Animals, and Paisley…",
         "Coloring Books for Adults",
         4.5,
         2426,
         8,
         2015,
         "Non Fiction"
        ],
        [
         "Alexander Hamilton",
         "Ron Chernow",
         4.8,
         9198,
         13,
         2016,
         "Non Fiction"
        ],
        [
         "All the Light We Cannot See",
         "Anthony Doerr",
         4.6,
         36348,
         14,
         2014,
         "Fiction"
        ],
        [
         "All the Light We Cannot See",
         "Anthony Doerr",
         4.6,
         36348,
         14,
         2015,
         "Fiction"
        ],
        [
         "Allegiant",
         "Veronica Roth",
         3.9,
         6310,
         13,
         2013,
         "Fiction"
        ],
        [
         "American Sniper: The Autobiography of the Most Lethal Sniper in U.S. Military History",
         "Chris Kyle",
         4.6,
         15921,
         9,
         2015,
         "Non Fiction"
        ],
        [
         "And the Mountains Echoed",
         "Khaled Hosseini",
         4.3,
         12159,
         13,
         2013,
         "Fiction"
        ],
        [
         "Arguing with Idiots: How to Stop Small Minds and Big Government",
         "Glenn Beck",
         4.6,
         798,
         5,
         2009,
         "Non Fiction"
        ],
        [
         "Astrophysics for People in a Hurry",
         "Neil deGrasse Tyson",
         4.7,
         9374,
         9,
         2017,
         "Non Fiction"
        ],
        [
         "Autobiography of Mark Twain, Vol. 1",
         "Mark Twain",
         4.2,
         491,
         14,
         2010,
         "Non Fiction"
        ],
        [
         "Baby Touch and Feel: Animals",
         "DK",
         4.6,
         5360,
         5,
         2015,
         "Non Fiction"
        ],
        [
         "Balance (Angie's Extreme Stress Menders)",
         "Angie Grace",
         4.6,
         1909,
         11,
         2015,
         "Non Fiction"
        ],
        [
         "Barefoot Contessa Foolproof: Recipes You Can Trust: A Cookbook",
         "Ina Garten",
         4.8,
         1296,
         24,
         2012,
         "Non Fiction"
        ],
        [
         "Barefoot Contessa, How Easy Is That?: Fabulous Recipes & Easy Tips",
         "Ina Garten",
         4.7,
         615,
         21,
         2010,
         "Non Fiction"
        ],
        [
         "Becoming",
         "Michelle Obama",
         4.8,
         61133,
         11,
         2018,
         "Non Fiction"
        ],
        [
         "Becoming",
         "Michelle Obama",
         4.8,
         61133,
         11,
         2019,
         "Non Fiction"
        ],
        [
         "Being Mortal: Medicine and What Matters in the End",
         "Atul Gawande",
         4.8,
         11113,
         15,
         2015,
         "Non Fiction"
        ],
        [
         "Between the World and Me",
         "Ta-Nehisi Coates",
         4.7,
         10070,
         13,
         2015,
         "Non Fiction"
        ],
        [
         "Between the World and Me",
         "Ta-Nehisi Coates",
         4.7,
         10070,
         13,
         2016,
         "Non Fiction"
        ],
        [
         "Born to Run",
         "Bruce Springsteen",
         4.7,
         3729,
         18,
         2016,
         "Non Fiction"
        ],
        [
         "Breaking Dawn (The Twilight Saga, Book 4)",
         "Stephenie Meyer",
         4.6,
         9769,
         13,
         2009,
         "Fiction"
        ],
        [
         "Broke: The Plan to Restore Our Trust, Truth and Treasure",
         "Glenn Beck",
         4.5,
         471,
         8,
         2010,
         "Non Fiction"
        ],
        [
         "Brown Bear, Brown Bear, What Do You See?",
         "Bill Martin Jr.",
         4.9,
         14344,
         5,
         2017,
         "Fiction"
        ],
        [
         "Brown Bear, Brown Bear, What Do You See?",
         "Bill Martin Jr.",
         4.9,
         14344,
         5,
         2019,
         "Fiction"
        ],
        [
         "Cabin Fever (Diary of a Wimpy Kid, Book 6)",
         "Jeff Kinney",
         4.8,
         4505,
         0,
         2011,
         "Fiction"
        ],
        [
         "Calm the F*ck Down: An Irreverent Adult Coloring Book (Irreverent Book Series)",
         "Sasha O'Hara",
         4.6,
         10369,
         4,
         2016,
         "Non Fiction"
        ],
        [
         "Can't Hurt Me: Master Your Mind and Defy the Odds",
         "David Goggins",
         4.8,
         16244,
         18,
         2019,
         "Non Fiction"
        ],
        [
         "Capital in the Twenty First Century",
         "Thomas Piketty",
         4.5,
         2884,
         28,
         2014,
         "Non Fiction"
        ],
        [
         "Catching Fire (The Hunger Games)",
         "Suzanne Collins",
         4.7,
         22614,
         11,
         2010,
         "Fiction"
        ],
        [
         "Catching Fire (The Hunger Games)",
         "Suzanne Collins",
         4.7,
         22614,
         11,
         2011,
         "Fiction"
        ],
        [
         "Catching Fire (The Hunger Games)",
         "Suzanne Collins",
         4.7,
         22614,
         11,
         2012,
         "Fiction"
        ],
        [
         "Cravings: Recipes for All the Food You Want to Eat: A Cookbook",
         "Chrissy Teigen",
         4.7,
         4761,
         16,
         2016,
         "Non Fiction"
        ],
        [
         "Crazy Love: Overwhelmed by a Relentless God",
         "Francis Chan",
         4.7,
         1542,
         14,
         2009,
         "Non Fiction"
        ],
        [
         "Crazy Love: Overwhelmed by a Relentless God",
         "Francis Chan",
         4.7,
         1542,
         14,
         2010,
         "Non Fiction"
        ],
        [
         "Crazy Love: Overwhelmed by a Relentless God",
         "Francis Chan",
         4.7,
         1542,
         14,
         2011,
         "Non Fiction"
        ],
        [
         "Crazy Rich Asians (Crazy Rich Asians Trilogy)",
         "Kevin Kwan",
         4.3,
         6143,
         8,
         2018,
         "Fiction"
        ],
        [
         "Creative Haven Creative Cats Coloring Book (Adult Coloring)",
         "Marjorie Sarnat",
         4.8,
         4022,
         4,
         2015,
         "Non Fiction"
        ],
        [
         "Creative Haven Owls Coloring Book (Adult Coloring)",
         "Marjorie Sarnat",
         4.8,
         3871,
         5,
         2015,
         "Non Fiction"
        ],
        [
         "Cutting for Stone",
         "Abraham Verghese",
         4.6,
         4866,
         11,
         2010,
         "Fiction"
        ],
        [
         "Cutting for Stone",
         "Abraham Verghese",
         4.6,
         4866,
         11,
         2011,
         "Fiction"
        ],
        [
         "Daring Greatly: How the Courage to Be Vulnerable Transforms the Way We Live, Love, Parent, and Lead",
         "Brené Brown",
         4.8,
         1329,
         10,
         2013,
         "Non Fiction"
        ],
        [
         "David and Goliath: Underdogs, Misfits, and the Art of Battling Giants",
         "Malcolm Gladwell",
         4.4,
         4642,
         13,
         2013,
         "Non Fiction"
        ],
        [
         "Dead And Gone: A Sookie Stackhouse Novel (Sookie Stackhouse/True Blood)",
         "Charlaine Harris",
         4.6,
         1541,
         4,
         2009,
         "Fiction"
        ],
        [
         "Dead in the Family (Sookie Stackhouse/True Blood, Book 10)",
         "Charlaine Harris",
         4.3,
         1924,
         8,
         2010,
         "Fiction"
        ],
        [
         "Dead Reckoning (Sookie Stackhouse/True Blood, Book 11)",
         "Charlaine Harris",
         4.2,
         2094,
         4,
         2011,
         "Fiction"
        ],
        [
         "Dear Zoo: A Lift-the-Flap Book",
         "Rod Campbell",
         4.8,
         10922,
         5,
         2015,
         "Fiction"
        ],
        [
         "Dear Zoo: A Lift-the-Flap Book",
         "Rod Campbell",
         4.8,
         10922,
         5,
         2016,
         "Fiction"
        ],
        [
         "Dear Zoo: A Lift-the-Flap Book",
         "Rod Campbell",
         4.8,
         10922,
         5,
         2017,
         "Fiction"
        ],
        [
         "Dear Zoo: A Lift-the-Flap Book",
         "Rod Campbell",
         4.8,
         10922,
         5,
         2018,
         "Fiction"
        ],
        [
         "Decision Points",
         "George W. Bush",
         4.6,
         2137,
         17,
         2010,
         "Non Fiction"
        ],
        [
         "Delivering Happiness: A Path to Profits, Passion, and Purpose",
         "Tony Hsieh",
         4.6,
         1651,
         15,
         2010,
         "Non Fiction"
        ],
        [
         "Diagnostic and Statistical Manual of Mental Disorders, 5th Edition: DSM-5",
         "American Psychiatric Association",
         4.5,
         6679,
         105,
         2013,
         "Non Fiction"
        ],
        [
         "Diagnostic and Statistical Manual of Mental Disorders, 5th Edition: DSM-5",
         "American Psychiatric Association",
         4.5,
         6679,
         105,
         2014,
         "Non Fiction"
        ],
        [
         "Diary of a Wimpy Kid: Hard Luck, Book 8",
         "Jeff Kinney",
         4.8,
         6812,
         0,
         2013,
         "Fiction"
        ],
        [
         "Diary of a Wimpy Kid: The Last Straw (Book 3)",
         "Jeff Kinney",
         4.8,
         3837,
         15,
         2009,
         "Fiction"
        ],
        [
         "Diary of a Wimpy Kid: The Long Haul",
         "Jeff Kinney",
         4.8,
         6540,
         22,
         2014,
         "Fiction"
        ],
        [
         "Difficult Riddles For Smart Kids: 300 Difficult Riddles And Brain Teasers Families Will Love (Books for Smart Kids)",
         "M Prefontaine",
         4.6,
         7955,
         5,
         2019,
         "Non Fiction"
        ],
        [
         "Divergent",
         "Veronica Roth",
         4.6,
         27098,
         15,
         2013,
         "Fiction"
        ],
        [
         "Divergent",
         "Veronica Roth",
         4.6,
         27098,
         15,
         2014,
         "Fiction"
        ],
        [
         "Divergent / Insurgent",
         "Veronica Roth",
         4.5,
         17684,
         6,
         2014,
         "Fiction"
        ],
        [
         "Divine Soul Mind Body Healing and Transmission System: The Divine Way to Heal You, Humanity, Mother Earth, and All…",
         "Zhi Gang Sha",
         4.6,
         37,
         6,
         2009,
         "Non Fiction"
        ],
        [
         "Doctor Sleep: A Novel",
         "Stephen King",
         4.7,
         15845,
         13,
         2013,
         "Fiction"
        ],
        [
         "Dog Days (Diary of a Wimpy Kid, Book 4) (Volume 4)",
         "Jeff Kinney",
         4.8,
         3181,
         12,
         2009,
         "Fiction"
        ],
        [
         "Dog Man and Cat Kid: From the Creator of Captain Underpants (Dog Man #4)",
         "Dav Pilkey",
         4.9,
         5062,
         6,
         2018,
         "Fiction"
        ],
        [
         "Dog Man: A Tale of Two Kitties: From the Creator of Captain Underpants (Dog Man #3)",
         "Dav Pilkey",
         4.9,
         4786,
         8,
         2017,
         "Fiction"
        ],
        [
         "Dog Man: Brawl of the Wild: From the Creator of Captain Underpants (Dog Man #6)",
         "Dav Pilkey",
         4.9,
         7235,
         4,
         2018,
         "Fiction"
        ],
        [
         "Dog Man: Brawl of the Wild: From the Creator of Captain Underpants (Dog Man #6)",
         "Dav Pilkey",
         4.9,
         7235,
         4,
         2019,
         "Fiction"
        ],
        [
         "Dog Man: Fetch-22: From the Creator of Captain Underpants (Dog Man #8)",
         "Dav Pilkey",
         4.9,
         12619,
         8,
         2019,
         "Fiction"
        ],
        [
         "Dog Man: For Whom the Ball Rolls: From the Creator of Captain Underpants (Dog Man #7)",
         "Dav Pilkey",
         4.9,
         9089,
         8,
         2019,
         "Fiction"
        ],
        [
         "Dog Man: Lord of the Fleas: From the Creator of Captain Underpants (Dog Man #5)",
         "Dav Pilkey",
         4.9,
         5470,
         6,
         2018,
         "Fiction"
        ],
        [
         "Double Down (Diary of a Wimpy Kid #11)",
         "Jeff Kinney",
         4.8,
         5118,
         20,
         2016,
         "Fiction"
        ],
        [
         "Dover Creative Haven Art Nouveau Animal Designs Coloring Book (Creative Haven Coloring Books)",
         "Marty Noble",
         4.6,
         2134,
         5,
         2015,
         "Non Fiction"
        ],
        [
         "Drive: The Surprising Truth About What Motivates Us",
         "Daniel H. Pink",
         4.5,
         2525,
         16,
         2010,
         "Non Fiction"
        ],
        [
         "Eat This Not That! Supermarket Survival Guide: The No-Diet Weight Loss Solution",
         "David Zinczenko",
         4.5,
         720,
         1,
         2009,
         "Non Fiction"
        ],
        [
         "Eat This, Not That! Thousands of Simple Food Swaps that Can Save You 10, 20, 30 Pounds--or More!",
         "David Zinczenko",
         4.3,
         956,
         14,
         2009,
         "Non Fiction"
        ],
        [
         "Eat to Live: The Amazing Nutrient-Rich Program for Fast and Sustained Weight Loss, Revised Edition",
         "Joel Fuhrman MD",
         4.5,
         6346,
         9,
         2011,
         "Non Fiction"
        ],
        [
         "Eat to Live: The Amazing Nutrient-Rich Program for Fast and Sustained Weight Loss, Revised Edition",
         "Joel Fuhrman MD",
         4.5,
         6346,
         9,
         2012,
         "Non Fiction"
        ],
        [
         "Eclipse (Twilight Sagas)",
         "Stephenie Meyer",
         4.7,
         5505,
         7,
         2009,
         "Fiction"
        ],
        [
         "Eclipse (Twilight)",
         "Stephenie Meyer",
         4.7,
         5505,
         18,
         2009,
         "Fiction"
        ],
        [
         "Educated: A Memoir",
         "Tara Westover",
         4.7,
         28729,
         15,
         2018,
         "Non Fiction"
        ],
        [
         "Educated: A Memoir",
         "Tara Westover",
         4.7,
         28729,
         15,
         2019,
         "Non Fiction"
        ],
        [
         "Enchanted Forest: An Inky Quest and Coloring book (Activity Books, Mindfulness and Meditation, Illustrated Floral Prints…",
         "Johanna Basford",
         4.7,
         5413,
         9,
         2015,
         "Non Fiction"
        ],
        [
         "Fahrenheit 451",
         "Ray Bradbury",
         4.6,
         10721,
         8,
         2016,
         "Fiction"
        ],
        [
         "Fahrenheit 451",
         "Ray Bradbury",
         4.6,
         10721,
         8,
         2018,
         "Fiction"
        ],
        [
         "Fantastic Beasts and Where to Find Them: The Original Screenplay (Harry Potter)",
         "J.K. Rowling",
         4.7,
         4370,
         15,
         2016,
         "Fiction"
        ],
        [
         "Fear: Trump in the White House",
         "Bob Woodward",
         4.4,
         6042,
         2,
         2018,
         "Non Fiction"
        ],
        [
         "Fifty Shades Darker",
         "E L James",
         4.4,
         23631,
         7,
         2012,
         "Fiction"
        ],
        [
         "Fifty Shades Freed: Book Three of the Fifty Shades Trilogy (Fifty Shades of Grey Series) (English Edition)",
         "E L James",
         4.5,
         20262,
         11,
         2012,
         "Fiction"
        ],
        [
         "Fifty Shades of Grey: Book One of the Fifty Shades Trilogy (Fifty Shades of Grey Series)",
         "E L James",
         3.8,
         47265,
         14,
         2012,
         "Fiction"
        ],
        [
         "Fifty Shades of Grey: Book One of the Fifty Shades Trilogy (Fifty Shades of Grey Series)",
         "E L James",
         3.8,
         47265,
         14,
         2013,
         "Fiction"
        ],
        [
         "Fifty Shades Trilogy (Fifty Shades of Grey / Fifty Shades Darker / Fifty Shades Freed)",
         "E L James",
         4.5,
         13964,
         32,
         2012,
         "Fiction"
        ],
        [
         "Fire and Fury: Inside the Trump White House",
         "Michael Wolff",
         4.2,
         13677,
         6,
         2018,
         "Non Fiction"
        ],
        [
         "First 100 Words",
         "Roger Priddy",
         4.7,
         17323,
         4,
         2014,
         "Non Fiction"
        ],
        [
         "First 100 Words",
         "Roger Priddy",
         4.7,
         17323,
         4,
         2015,
         "Non Fiction"
        ],
        [
         "First 100 Words",
         "Roger Priddy",
         4.7,
         17323,
         4,
         2016,
         "Non Fiction"
        ],
        [
         "First 100 Words",
         "Roger Priddy",
         4.7,
         17323,
         4,
         2017,
         "Non Fiction"
        ],
        [
         "First 100 Words",
         "Roger Priddy",
         4.7,
         17323,
         4,
         2018,
         "Non Fiction"
        ],
        [
         "Food Rules: An Eater's Manual",
         "Michael Pollan",
         4.4,
         1555,
         9,
         2010,
         "Non Fiction"
        ],
        [
         "Frozen (Little Golden Book)",
         "RH Disney",
         4.7,
         3642,
         0,
         2014,
         "Fiction"
        ],
        [
         "Game Change: Obama and the Clintons, McCain and Palin, and the Race of a Lifetime",
         "John Heilemann",
         4.4,
         1215,
         9,
         2010,
         "Non Fiction"
        ],
        [
         "Game of Thrones Boxed Set: A Game of Thrones/A Clash of Kings/A Storm of Swords/A Feast for Crows",
         "George R.R. Martin",
         4.6,
         5594,
         5,
         2011,
         "Fiction"
        ],
        [
         "Game of Thrones Boxed Set: A Game of Thrones/A Clash of Kings/A Storm of Swords/A Feast for Crows",
         "George R.R. Martin",
         4.6,
         5594,
         5,
         2012,
         "Fiction"
        ],
        [
         "Game of Thrones Boxed Set: A Game of Thrones/A Clash of Kings/A Storm of Swords/A Feast for Crows",
         "George R.R. Martin",
         4.6,
         5594,
         5,
         2013,
         "Fiction"
        ],
        [
         "George Washington's Sacred Fire",
         "Peter A. Lillback",
         4.5,
         408,
         20,
         2010,
         "Non Fiction"
        ],
        [
         "George Washington's Secret Six: The Spy Ring That Saved the American Revolution",
         "Brian Kilmeade",
         4.6,
         4799,
         16,
         2013,
         "Non Fiction"
        ],
        [
         "Giraffes Can't Dance",
         "Giles Andreae",
         4.8,
         14038,
         4,
         2015,
         "Fiction"
        ],
        [
         "Giraffes Can't Dance",
         "Giles Andreae",
         4.8,
         14038,
         4,
         2016,
         "Fiction"
        ],
        [
         "Giraffes Can't Dance",
         "Giles Andreae",
         4.8,
         14038,
         4,
         2017,
         "Fiction"
        ],
        [
         "Giraffes Can't Dance",
         "Giles Andreae",
         4.8,
         14038,
         4,
         2018,
         "Fiction"
        ],
        [
         "Giraffes Can't Dance",
         "Giles Andreae",
         4.8,
         14038,
         4,
         2019,
         "Fiction"
        ],
        [
         "Girl, Stop Apologizing: A Shame-Free Plan for Embracing and Achieving Your Goals",
         "Rachel Hollis",
         4.6,
         7660,
         12,
         2019,
         "Non Fiction"
        ],
        [
         "Girl, Wash Your Face: Stop Believing the Lies About Who You Are So You Can Become Who You Were Meant to Be",
         "Rachel Hollis",
         4.6,
         22288,
         12,
         2018,
         "Non Fiction"
        ],
        [
         "Girl, Wash Your Face: Stop Believing the Lies About Who You Are So You Can Become Who You Were Meant to Be",
         "Rachel Hollis",
         4.6,
         22288,
         12,
         2019,
         "Non Fiction"
        ],
        [
         "Glenn Beck's Common Sense: The Case Against an Out-of-Control Government, Inspired by Thomas Paine",
         "Glenn Beck",
         4.6,
         1365,
         11,
         2009,
         "Non Fiction"
        ],
        [
         "Go Set a Watchman: A Novel",
         "Harper Lee",
         3.6,
         14982,
         19,
         2015,
         "Fiction"
        ],
        [
         "Go the F**k to Sleep",
         "Adam Mansbach",
         4.8,
         9568,
         9,
         2011,
         "Fiction"
        ],
        [
         "Going Rogue: An American Life",
         "Sarah Palin",
         4.6,
         1636,
         6,
         2009,
         "Non Fiction"
        ],
        [
         "Gone Girl",
         "Gillian Flynn",
         4.0,
         57271,
         10,
         2012,
         "Fiction"
        ],
        [
         "Gone Girl",
         "Gillian Flynn",
         4.0,
         57271,
         10,
         2013,
         "Fiction"
        ],
        [
         "Gone Girl",
         "Gillian Flynn",
         4.0,
         57271,
         9,
         2014,
         "Fiction"
        ],
        [
         "Good Days Start With Gratitude: A 52 Week Guide To Cultivate An Attitude Of Gratitude: Gratitude Journal",
         "Pretty Simple Press",
         4.6,
         10141,
         6,
         2019,
         "Non Fiction"
        ],
        [
         "Good to Great: Why Some Companies Make the Leap and Others Don't",
         "Jim Collins",
         4.5,
         3457,
         14,
         2009,
         "Non Fiction"
        ],
        [
         "Good to Great: Why Some Companies Make the Leap and Others Don't",
         "Jim Collins",
         4.5,
         3457,
         14,
         2010,
         "Non Fiction"
        ],
        [
         "Good to Great: Why Some Companies Make the Leap and Others Don't",
         "Jim Collins",
         4.5,
         3457,
         14,
         2011,
         "Non Fiction"
        ],
        [
         "Good to Great: Why Some Companies Make the Leap and Others Don't",
         "Jim Collins",
         4.5,
         3457,
         14,
         2012,
         "Non Fiction"
        ],
        [
         "Goodnight Moon",
         "Margaret Wise Brown",
         4.8,
         8837,
         5,
         2017,
         "Fiction"
        ],
        [
         "Goodnight Moon",
         "Margaret Wise Brown",
         4.8,
         8837,
         5,
         2018,
         "Fiction"
        ],
        [
         "Goodnight Moon",
         "Margaret Wise Brown",
         4.8,
         8837,
         5,
         2019,
         "Fiction"
        ],
        [
         "Goodnight, Goodnight Construction Site (Hardcover Books for Toddlers, Preschool Books for Kids)",
         "Sherri Duskey Rinker",
         4.9,
         7038,
         7,
         2012,
         "Fiction"
        ],
        [
         "Goodnight, Goodnight Construction Site (Hardcover Books for Toddlers, Preschool Books for Kids)",
         "Sherri Duskey Rinker",
         4.9,
         7038,
         7,
         2013,
         "Fiction"
        ],
        [
         "Grain Brain: The Surprising Truth about Wheat, Carbs, and Sugar--Your Brain's Silent Killers",
         "David Perlmutter MD",
         4.6,
         5972,
         10,
         2014,
         "Non Fiction"
        ],
        [
         "Grey: Fifty Shades of Grey as Told by Christian (Fifty Shades of Grey Series)",
         "E L James",
         4.4,
         25624,
         14,
         2015,
         "Fiction"
        ],
        [
         "Guts",
         "Raina Telgemeier",
         4.8,
         5476,
         7,
         2019,
         "Non Fiction"
        ],
        [
         "Hamilton: The Revolution",
         "Lin-Manuel Miranda",
         4.9,
         5867,
         54,
         2016,
         "Non Fiction"
        ],
        [
         "Happy, Happy, Happy: My Life and Legacy as the Duck Commander",
         "Phil Robertson",
         4.8,
         4148,
         11,
         2013,
         "Non Fiction"
        ],
        [
         "Harry Potter and the Chamber of Secrets: The Illustrated Edition (Harry Potter, Book 2)",
         "J.K. Rowling",
         4.9,
         19622,
         30,
         2016,
         "Fiction"
        ],
        [
         "Harry Potter and the Cursed Child, Parts 1 & 2, Special Rehearsal Edition Script",
         "J.K. Rowling",
         4.0,
         23973,
         12,
         2016,
         "Fiction"
        ],
        [
         "Harry Potter and the Goblet of Fire: The Illustrated Edition (Harry Potter, Book 4) (4)",
         "J. K. Rowling",
         4.9,
         7758,
         18,
         2019,
         "Fiction"
        ],
        [
         "Harry Potter and the Prisoner of Azkaban: The Illustrated Edition (Harry Potter, Book 3)",
         "J.K. Rowling",
         4.9,
         3146,
         30,
         2017,
         "Fiction"
        ],
        [
         "Harry Potter and the Sorcerer's Stone: The Illustrated Edition (Harry Potter, Book 1)",
         "J.K. Rowling",
         4.9,
         10052,
         22,
         2016,
         "Fiction"
        ],
        [
         "Harry Potter Coloring Book",
         "Scholastic",
         4.7,
         3564,
         9,
         2015,
         "Non Fiction"
        ],
        [
         "Harry Potter Paperback Box Set (Books 1-7)",
         "J. K. Rowling",
         4.8,
         13471,
         52,
         2016,
         "Fiction"
        ],
        [
         "Have a Little Faith: A True Story",
         "Mitch Albom",
         4.8,
         1930,
         4,
         2009,
         "Non Fiction"
        ],
        [
         "Heaven is for Real: A Little Boy's Astounding Story of His Trip to Heaven and Back",
         "Todd Burpo",
         4.7,
         15779,
         10,
         2011,
         "Non Fiction"
        ],
        [
         "Heaven is for Real: A Little Boy's Astounding Story of His Trip to Heaven and Back",
         "Todd Burpo",
         4.7,
         15779,
         10,
         2012,
         "Non Fiction"
        ],
        [
         "Hillbilly Elegy: A Memoir of a Family and Culture in Crisis",
         "J. D. Vance",
         4.4,
         15526,
         14,
         2016,
         "Non Fiction"
        ],
        [
         "Hillbilly Elegy: A Memoir of a Family and Culture in Crisis",
         "J. D. Vance",
         4.4,
         15526,
         14,
         2017,
         "Non Fiction"
        ],
        [
         "Homebody: A Guide to Creating Spaces You Never Want to Leave",
         "Joanna Gaines",
         4.8,
         3776,
         22,
         2018,
         "Non Fiction"
        ],
        [
         "How to Win Friends & Influence People",
         "Dale Carnegie",
         4.7,
         25001,
         11,
         2014,
         "Non Fiction"
        ],
        [
         "How to Win Friends & Influence People",
         "Dale Carnegie",
         4.7,
         25001,
         11,
         2015,
         "Non Fiction"
        ],
        [
         "How to Win Friends & Influence People",
         "Dale Carnegie",
         4.7,
         25001,
         11,
         2016,
         "Non Fiction"
        ],
        [
         "How to Win Friends & Influence People",
         "Dale Carnegie",
         4.7,
         25001,
         11,
         2017,
         "Non Fiction"
        ],
        [
         "How to Win Friends & Influence People",
         "Dale Carnegie",
         4.7,
         25001,
         11,
         2018,
         "Non Fiction"
        ],
        [
         "Howard Stern Comes Again",
         "Howard Stern",
         4.3,
         5272,
         16,
         2019,
         "Non Fiction"
        ],
        [
         "Humans of New York",
         "Brandon Stanton",
         4.8,
         3490,
         15,
         2013,
         "Non Fiction"
        ],
        [
         "Humans of New York",
         "Brandon Stanton",
         4.8,
         3490,
         15,
         2014,
         "Non Fiction"
        ],
        [
         "Humans of New York : Stories",
         "Brandon Stanton",
         4.9,
         2812,
         17,
         2015,
         "Non Fiction"
        ],
        [
         "Hyperbole and a Half: Unfortunate Situations, Flawed Coping Mechanisms, Mayhem, and Other Things That Happened",
         "Allie Brosh",
         4.7,
         4896,
         17,
         2013,
         "Non Fiction"
        ],
        [
         "I Am Confident, Brave & Beautiful: A Coloring Book for Girls",
         "Hopscotch Girls",
         4.8,
         9737,
         7,
         2019,
         "Non Fiction"
        ],
        [
         "I, Alex Cross",
         "James Patterson",
         4.6,
         1320,
         7,
         2009,
         "Fiction"
        ],
        [
         "If Animals Kissed Good Night",
         "Ann Whitford Paul",
         4.8,
         16643,
         4,
         2017,
         "Fiction"
        ],
        [
         "If Animals Kissed Good Night",
         "Ann Whitford Paul",
         4.8,
         16643,
         4,
         2019,
         "Fiction"
        ],
        [
         "If I Stay",
         "Gayle Forman",
         4.3,
         7153,
         9,
         2014,
         "Fiction"
        ],
        [
         "In the Garden of Beasts: Love, Terror, and an American Family in Hitler's Berlin",
         "Eric Larson",
         4.4,
         4571,
         21,
         2011,
         "Non Fiction"
        ],
        [
         "Inferno",
         "Dan Brown",
         4.1,
         29651,
         14,
         2013,
         "Fiction"
        ],
        [
         "Inheritance: Book IV (Inheritance Cycle)",
         "Christopher Paolini",
         4.6,
         5299,
         20,
         2011,
         "Fiction"
        ],
        [
         "Instant Pot Pressure Cooker Cookbook: 500 Everyday Recipes for Beginners and Advanced Users. Try Easy and Healthy…",
         "Jennifer Smith",
         4.4,
         7396,
         13,
         2019,
         "Non Fiction"
        ],
        [
         "Instant Pot Pressure Cooker Cookbook: 500 Everyday Recipes for Beginners and Advanced Users. Try Easy and Healthy…",
         "Jennifer Smith",
         4.4,
         7396,
         13,
         2018,
         "Non Fiction"
        ],
        [
         "It's Not Supposed to Be This Way: Finding Unexpected Strength When Disappointments Leave You Shattered",
         "Lysa TerKeurst",
         4.8,
         7062,
         12,
         2019,
         "Non Fiction"
        ],
        [
         "Jesus Calling: Enjoying Peace in His Presence (with Scripture References)",
         "Sarah Young",
         4.9,
         19576,
         8,
         2011,
         "Non Fiction"
        ],
        [
         "Jesus Calling: Enjoying Peace in His Presence (with Scripture References)",
         "Sarah Young",
         4.9,
         19576,
         8,
         2012,
         "Non Fiction"
        ],
        [
         "Jesus Calling: Enjoying Peace in His Presence (with Scripture References)",
         "Sarah Young",
         4.9,
         19576,
         8,
         2013,
         "Non Fiction"
        ],
        [
         "Jesus Calling: Enjoying Peace in His Presence (with Scripture References)",
         "Sarah Young",
         4.9,
         19576,
         8,
         2014,
         "Non Fiction"
        ],
        [
         "Jesus Calling: Enjoying Peace in His Presence (with Scripture References)",
         "Sarah Young",
         4.9,
         19576,
         8,
         2015,
         "Non Fiction"
        ],
        [
         "Jesus Calling: Enjoying Peace in His Presence (with Scripture References)",
         "Sarah Young",
         4.9,
         19576,
         8,
         2016,
         "Non Fiction"
        ],
        [
         "JOURNEY TO THE ICE P",
         "RH Disney",
         4.6,
         978,
         0,
         2014,
         "Fiction"
        ],
        [
         "Joyland (Hard Case Crime)",
         "Stephen King",
         4.5,
         4748,
         12,
         2013,
         "Fiction"
        ],
        [
         "Killers of the Flower Moon: The Osage Murders and the Birth of the FBI",
         "David Grann",
         4.6,
         8393,
         17,
         2017,
         "Non Fiction"
        ],
        [
         "Killing Jesus (Bill O'Reilly's Killing Series)",
         "Bill O'Reilly",
         4.5,
         11391,
         12,
         2013,
         "Non Fiction"
        ],
        [
         "Killing Kennedy: The End of Camelot",
         "Bill O'Reilly",
         4.6,
         8634,
         25,
         2012,
         "Non Fiction"
        ],
        [
         "Killing Lincoln: The Shocking Assassination that Changed America Forever (Bill O'Reilly's Killing Series)",
         "Bill O'Reilly",
         4.7,
         9342,
         10,
         2011,
         "Non Fiction"
        ],
        [
         "Killing Lincoln: The Shocking Assassination that Changed America Forever (Bill O'Reilly's Killing Series)",
         "Bill O'Reilly",
         4.7,
         9342,
         10,
         2012,
         "Non Fiction"
        ],
        [
         "Killing Patton: The Strange Death of World War II's Most Audacious General (Bill O'Reilly's Killing Series)",
         "Bill O'Reilly",
         4.6,
         10927,
         6,
         2014,
         "Non Fiction"
        ],
        [
         "Killing Reagan: The Violent Assault That Changed a Presidency (Bill O'Reilly's Killing Series)",
         "Bill O'Reilly",
         4.6,
         5235,
         5,
         2015,
         "Non Fiction"
        ],
        [
         "Killing the Rising Sun: How America Vanquished World War II Japan (Bill O'Reilly's Killing Series)",
         "Bill O'Reilly",
         4.8,
         8916,
         6,
         2016,
         "Non Fiction"
        ],
        [
         "Kitchen Confidential Updated Edition: Adventures in the Culinary Underbelly (P.S.)",
         "Anthony Bourdain",
         4.8,
         2507,
         8,
         2018,
         "Non Fiction"
        ],
        [
         "Knock-Knock Jokes for Kids",
         "Rob Elliott",
         4.5,
         3673,
         4,
         2013,
         "Non Fiction"
        ],
        [
         "Knock-Knock Jokes for Kids",
         "Rob Elliott",
         4.5,
         3673,
         4,
         2014,
         "Non Fiction"
        ],
        [
         "Knock-Knock Jokes for Kids",
         "Rob Elliott",
         4.5,
         3673,
         4,
         2015,
         "Non Fiction"
        ],
        [
         "Last Week Tonight with John Oliver Presents A Day in the Life of Marlon Bundo (Better Bundo Book, LGBT Childrens Book)",
         "Jill Twiss",
         4.9,
         11881,
         13,
         2018,
         "Fiction"
        ],
        [
         "Laugh-Out-Loud Jokes for Kids",
         "Rob Elliott",
         4.6,
         6990,
         4,
         2013,
         "Non Fiction"
        ],
        [
         "Laugh-Out-Loud Jokes for Kids",
         "Rob Elliott",
         4.6,
         6990,
         4,
         2014,
         "Non Fiction"
        ],
        [
         "Laugh-Out-Loud Jokes for Kids",
         "Rob Elliott",
         4.6,
         6990,
         4,
         2015,
         "Non Fiction"
        ],
        [
         "Laugh-Out-Loud Jokes for Kids",
         "Rob Elliott",
         4.6,
         6990,
         4,
         2016,
         "Non Fiction"
        ],
        [
         "Laugh-Out-Loud Jokes for Kids",
         "Rob Elliott",
         4.6,
         6990,
         4,
         2017,
         "Non Fiction"
        ],
        [
         "Lean In: Women, Work, and the Will to Lead",
         "Sheryl Sandberg",
         4.5,
         6132,
         13,
         2013,
         "Non Fiction"
        ],
        [
         "Leonardo da Vinci",
         "Walter Isaacson",
         4.5,
         3014,
         21,
         2017,
         "Non Fiction"
        ],
        [
         "Lettering and Modern Calligraphy: A Beginner's Guide: Learn Hand Lettering and Brush Lettering",
         "Paper Peony Press",
         4.4,
         7550,
         6,
         2018,
         "Non Fiction"
        ],
        [
         "Liberty and Tyranny: A Conservative Manifesto",
         "Mark R. Levin",
         4.8,
         3828,
         15,
         2009,
         "Non Fiction"
        ],
        [
         "Life",
         "Keith Richards",
         4.5,
         2752,
         18,
         2010,
         "Non Fiction"
        ],
        [
         "Little Bee: A Novel",
         "Chris Cleave",
         4.1,
         1467,
         10,
         2010,
         "Fiction"
        ],
        [
         "Little Blue Truck",
         "Alice Schertle",
         4.9,
         1884,
         0,
         2014,
         "Fiction"
        ],
        [
         "Little Fires Everywhere",
         "Celeste Ng",
         4.5,
         25706,
         12,
         2018,
         "Fiction"
        ],
        [
         "Looking for Alaska",
         "John Green",
         4.5,
         8491,
         7,
         2014,
         "Fiction"
        ],
        [
         "Love Wins: A Book About Heaven, Hell, and the Fate of Every Person Who Ever Lived",
         "Rob Bell",
         4.2,
         1649,
         13,
         2011,
         "Non Fiction"
        ],
        [
         "Love You Forever",
         "Robert Munsch",
         4.8,
         18613,
         5,
         2014,
         "Fiction"
        ],
        [
         "Love You Forever",
         "Robert Munsch",
         4.8,
         18613,
         5,
         2015,
         "Fiction"
        ],
        [
         "Magnolia Table: A Collection of Recipes for Gathering",
         "Joanna Gaines",
         4.8,
         9867,
         16,
         2018,
         "Non Fiction"
        ],
        [
         "Make It Ahead: A Barefoot Contessa Cookbook",
         "Ina Garten",
         4.5,
         1386,
         20,
         2014,
         "Non Fiction"
        ],
        [
         "Make Your Bed: Little Things That Can Change Your Life...And Maybe the World",
         "Admiral William H. McRaven",
         4.7,
         10199,
         11,
         2017,
         "Non Fiction"
        ],
        [
         "Mastering the Art of French Cooking, Vol. 2",
         "Julia Child",
         4.8,
         2926,
         27,
         2009,
         "Non Fiction"
        ],
        [
         "Milk and Honey",
         "Rupi Kaur",
         4.7,
         17739,
         8,
         2016,
         "Non Fiction"
        ],
        [
         "Milk and Honey",
         "Rupi Kaur",
         4.7,
         17739,
         8,
         2017,
         "Non Fiction"
        ],
        [
         "Milk and Honey",
         "Rupi Kaur",
         4.7,
         17739,
         8,
         2018,
         "Non Fiction"
        ],
        [
         "Milk and Vine: Inspirational Quotes From Classic Vines",
         "Adam Gasiewski",
         4.4,
         3113,
         6,
         2017,
         "Non Fiction"
        ],
        [
         "Mindset: The New Psychology of Success",
         "Carol S. Dweck",
         4.6,
         5542,
         10,
         2014,
         "Non Fiction"
        ],
        [
         "Mindset: The New Psychology of Success",
         "Carol S. Dweck",
         4.6,
         5542,
         10,
         2015,
         "Non Fiction"
        ],
        [
         "Mindset: The New Psychology of Success",
         "Carol S. Dweck",
         4.6,
         5542,
         10,
         2016,
         "Non Fiction"
        ],
        [
         "Mockingjay (The Hunger Games)",
         "Suzanne Collins",
         4.5,
         26741,
         8,
         2010,
         "Fiction"
        ],
        [
         "Mockingjay (The Hunger Games)",
         "Suzanne Collins",
         4.5,
         26741,
         8,
         2011,
         "Fiction"
        ],
        [
         "Mockingjay (The Hunger Games)",
         "Suzanne Collins",
         4.5,
         26741,
         8,
         2012,
         "Fiction"
        ],
        [
         "National Geographic Kids Why?: Over 1,111 Answers to Everything",
         "Crispin Boyer",
         4.8,
         5347,
         16,
         2019,
         "Non Fiction"
        ],
        [
         "National Geographic Little Kids First Big Book of Why (National Geographic Little Kids First Big Books)",
         "Amy Shields",
         4.8,
         7866,
         11,
         2019,
         "Non Fiction"
        ],
        [
         "New Moon (The Twilight Saga)",
         "Stephenie Meyer",
         4.6,
         5680,
         10,
         2009,
         "Fiction"
        ],
        [
         "Night (Night)",
         "Elie Wiesel",
         4.7,
         5178,
         9,
         2016,
         "Non Fiction"
        ],
        [
         "No Easy Day: The Autobiography of a Navy Seal: The Firsthand Account of the Mission That Killed Osama Bin Laden",
         "Mark Owen",
         4.6,
         8093,
         14,
         2012,
         "Non Fiction"
        ],
        [
         "Obama: An Intimate Portrait",
         "Pete Souza",
         4.9,
         3192,
         22,
         2017,
         "Non Fiction"
        ],
        [
         "Oh, the Places You'll Go!",
         "Dr. Seuss",
         4.9,
         21834,
         8,
         2012,
         "Fiction"
        ],
        [
         "Oh, the Places You'll Go!",
         "Dr. Seuss",
         4.9,
         21834,
         8,
         2013,
         "Fiction"
        ],
        [
         "Oh, the Places You'll Go!",
         "Dr. Seuss",
         4.9,
         21834,
         8,
         2014,
         "Fiction"
        ],
        [
         "Oh, the Places You'll Go!",
         "Dr. Seuss",
         4.9,
         21834,
         8,
         2015,
         "Fiction"
        ],
        [
         "Oh, the Places You'll Go!",
         "Dr. Seuss",
         4.9,
         21834,
         8,
         2016,
         "Fiction"
        ],
        [
         "Oh, the Places You'll Go!",
         "Dr. Seuss",
         4.9,
         21834,
         8,
         2017,
         "Fiction"
        ],
        [
         "Oh, the Places You'll Go!",
         "Dr. Seuss",
         4.9,
         21834,
         8,
         2018,
         "Fiction"
        ],
        [
         "Oh, the Places You'll Go!",
         "Dr. Seuss",
         4.9,
         21834,
         8,
         2019,
         "Fiction"
        ],
        [
         "Old School (Diary of a Wimpy Kid #10)",
         "Jeff Kinney",
         4.8,
         6169,
         7,
         2015,
         "Fiction"
        ],
        [
         "Olive Kitteridge",
         "Elizabeth Strout",
         4.2,
         4519,
         12,
         2009,
         "Fiction"
        ],
        [
         "One Thousand Gifts: A Dare to Live Fully Right Where You Are",
         "Ann Voskamp",
         4.6,
         3163,
         13,
         2011,
         "Non Fiction"
        ],
        [
         "One Thousand Gifts: A Dare to Live Fully Right Where You Are",
         "Ann Voskamp",
         4.6,
         3163,
         13,
         2012,
         "Non Fiction"
        ],
        [
         "Option B: Facing Adversity, Building Resilience, and Finding Joy",
         "Sheryl Sandberg",
         4.5,
         1831,
         9,
         2017,
         "Non Fiction"
        ],
        [
         "Origin: A Novel (Robert Langdon)",
         "Dan Brown",
         4.3,
         18904,
         13,
         2017,
         "Fiction"
        ],
        [
         "Orphan Train",
         "Christina Baker Kline",
         4.6,
         21930,
         11,
         2014,
         "Fiction"
        ],
        [
         "Outliers: The Story of Success",
         "Malcolm Gladwell",
         4.6,
         10426,
         20,
         2009,
         "Non Fiction"
        ],
        [
         "Outliers: The Story of Success",
         "Malcolm Gladwell",
         4.6,
         10426,
         20,
         2010,
         "Non Fiction"
        ],
        [
         "P is for Potty! (Sesame Street) (Lift-the-Flap)",
         "Naomi Kleinberg",
         4.7,
         10820,
         5,
         2018,
         "Non Fiction"
        ],
        [
         "P is for Potty! (Sesame Street) (Lift-the-Flap)",
         "Naomi Kleinberg",
         4.7,
         10820,
         5,
         2019,
         "Non Fiction"
        ],
        [
         "Percy Jackson and the Olympians Paperback Boxed Set (Books 1-3)",
         "Rick Riordan",
         4.8,
         548,
         2,
         2010,
         "Fiction"
        ],
        [
         "Player's Handbook (Dungeons & Dragons)",
         "Wizards RPG Team",
         4.8,
         16990,
         27,
         2017,
         "Fiction"
        ],
        [
         "Player's Handbook (Dungeons & Dragons)",
         "Wizards RPG Team",
         4.8,
         16990,
         27,
         2018,
         "Fiction"
        ],
        [
         "Player's Handbook (Dungeons & Dragons)",
         "Wizards RPG Team",
         4.8,
         16990,
         27,
         2019,
         "Fiction"
        ],
        [
         "Pokémon Deluxe Essential Handbook: The Need-to-Know Stats and Facts on Over 700 Pokémon",
         "Scholastic",
         4.7,
         3503,
         9,
         2016,
         "Fiction"
        ],
        [
         "Proof of Heaven: A Neurosurgeon's Journey into the Afterlife",
         "Eben Alexander",
         4.3,
         13616,
         10,
         2012,
         "Non Fiction"
        ],
        [
         "Proof of Heaven: A Neurosurgeon's Journey into the Afterlife",
         "Eben Alexander",
         4.3,
         13616,
         10,
         2013,
         "Non Fiction"
        ],
        [
         "Publication Manual of the American Psychological Association, 6th Edition",
         "American Psychological Association",
         4.5,
         8580,
         46,
         2009,
         "Non Fiction"
        ],
        [
         "Publication Manual of the American Psychological Association, 6th Edition",
         "American Psychological Association",
         4.5,
         8580,
         46,
         2010,
         "Non Fiction"
        ],
        [
         "Publication Manual of the American Psychological Association, 6th Edition",
         "American Psychological Association",
         4.5,
         8580,
         46,
         2011,
         "Non Fiction"
        ],
        [
         "Publication Manual of the American Psychological Association, 6th Edition",
         "American Psychological Association",
         4.5,
         8580,
         46,
         2012,
         "Non Fiction"
        ],
        [
         "Publication Manual of the American Psychological Association, 6th Edition",
         "American Psychological Association",
         4.5,
         8580,
         46,
         2013,
         "Non Fiction"
        ],
        [
         "Publication Manual of the American Psychological Association, 6th Edition",
         "American Psychological Association",
         4.5,
         8580,
         46,
         2014,
         "Non Fiction"
        ],
        [
         "Publication Manual of the American Psychological Association, 6th Edition",
         "American Psychological Association",
         4.5,
         8580,
         46,
         2015,
         "Non Fiction"
        ],
        [
         "Publication Manual of the American Psychological Association, 6th Edition",
         "American Psychological Association",
         4.5,
         8580,
         46,
         2016,
         "Non Fiction"
        ],
        [
         "Publication Manual of the American Psychological Association, 6th Edition",
         "American Psychological Association",
         4.5,
         8580,
         46,
         2017,
         "Non Fiction"
        ],
        [
         "Publication Manual of the American Psychological Association, 6th Edition",
         "American Psychological Association",
         4.5,
         8580,
         46,
         2018,
         "Non Fiction"
        ],
        [
         "Puppy Birthday to You! (Paw Patrol) (Little Golden Book)",
         "Golden Books",
         4.8,
         4757,
         4,
         2017,
         "Fiction"
        ],
        [
         "Quiet: The Power of Introverts in a World That Can't Stop Talking",
         "Susan Cain",
         4.6,
         10009,
         20,
         2012,
         "Non Fiction"
        ],
        [
         "Quiet: The Power of Introverts in a World That Can't Stop Talking",
         "Susan Cain",
         4.6,
         10009,
         7,
         2013,
         "Non Fiction"
        ],
        [
         "Radical: Taking Back Your Faith from the American Dream",
         "David Platt",
         4.7,
         1985,
         9,
         2010,
         "Non Fiction"
        ],
        [
         "Radical: Taking Back Your Faith from the American Dream",
         "David Platt",
         4.7,
         1985,
         9,
         2011,
         "Non Fiction"
        ],
        [
         "Ready Player One: A Novel",
         "Ernest Cline",
         4.6,
         22536,
         12,
         2017,
         "Fiction"
        ],
        [
         "Ready Player One: A Novel",
         "Ernest Cline",
         4.6,
         22536,
         12,
         2018,
         "Fiction"
        ],
        [
         "Rush Revere and the Brave Pilgrims: Time-Travel Adventures with Exceptional Americans (1)",
         "Rush Limbaugh",
         4.9,
         7150,
         12,
         2013,
         "Fiction"
        ],
        [
         "Rush Revere and the First Patriots: Time-Travel Adventures With Exceptional Americans (2)",
         "Rush Limbaugh",
         4.9,
         3836,
         12,
         2014,
         "Fiction"
        ],
        [
         "Salt, Fat, Acid, Heat: Mastering the Elements of Good Cooking",
         "Samin Nosrat",
         4.8,
         7802,
         20,
         2018,
         "Non Fiction"
        ],
        [
         "Salt, Fat, Acid, Heat: Mastering the Elements of Good Cooking",
         "Samin Nosrat",
         4.8,
         7802,
         20,
         2019,
         "Non Fiction"
        ],
        [
         "Sarah's Key",
         "Tatiana de Rosnay",
         4.6,
         3619,
         10,
         2010,
         "Fiction"
        ],
        [
         "School Zone - Big Preschool Workbook - Ages 4 and Up, Colors, Shapes, Numbers 1-10, Alphabet, Pre-Writing, Pre-Reading…",
         "School Zone",
         4.8,
         23047,
         6,
         2018,
         "Non Fiction"
        ],
        [
         "School Zone - Big Preschool Workbook - Ages 4 and Up, Colors, Shapes, Numbers 1-10, Alphabet, Pre-Writing, Pre-Reading…",
         "School Zone",
         4.8,
         23047,
         6,
         2019,
         "Non Fiction"
        ],
        [
         "Secret Garden: An Inky Treasure Hunt and Coloring Book (For Adults, mindfulness coloring)",
         "Johanna Basford",
         4.7,
         9366,
         9,
         2015,
         "Non Fiction"
        ],
        [
         "Sh*t My Dad Says",
         "Justin Halpern",
         4.7,
         1265,
         11,
         2010,
         "Non Fiction"
        ],
        [
         "Ship of Fools: How a Selfish Ruling Class Is Bringing America to the Brink of Revolution",
         "Tucker Carlson",
         4.8,
         3923,
         16,
         2018,
         "Non Fiction"
        ],
        [
         "Shred: The Revolutionary Diet: 6 Weeks 4 Inches 2 Sizes",
         "Ian K. Smith M.D.",
         4.1,
         2272,
         6,
         2013,
         "Non Fiction"
        ],
        [
         "Sookie Stackhouse",
         "Charlaine Harris",
         4.7,
         973,
         25,
         2009,
         "Fiction"
        ],
        [
         "Soul Healing Miracles: Ancient and New Sacred Wisdom, Knowledge, and Practical Techniques for Healing the Spiritual…",
         "Zhi Gang Sha",
         4.6,
         220,
         17,
         2013,
         "Non Fiction"
        ],
        [
         "Steve Jobs",
         "Walter Isaacson",
         4.6,
         7827,
         20,
         2011,
         "Non Fiction"
        ],
        [
         "Steve Jobs",
         "Walter Isaacson",
         4.6,
         7827,
         20,
         2012,
         "Non Fiction"
        ],
        [
         "Strange Planet (Strange Planet Series)",
         "Nathan W. Pyle",
         4.9,
         9382,
         6,
         2019,
         "Fiction"
        ],
        [
         "StrengthsFinder 2.0",
         "Gallup",
         4.0,
         5069,
         17,
         2009,
         "Non Fiction"
        ],
        [
         "StrengthsFinder 2.0",
         "Gallup",
         4.0,
         5069,
         17,
         2010,
         "Non Fiction"
        ],
        [
         "StrengthsFinder 2.0",
         "Gallup",
         4.0,
         5069,
         17,
         2011,
         "Non Fiction"
        ],
        [
         "StrengthsFinder 2.0",
         "Gallup",
         4.0,
         5069,
         17,
         2012,
         "Non Fiction"
        ],
        [
         "StrengthsFinder 2.0",
         "Gallup",
         4.0,
         5069,
         17,
         2013,
         "Non Fiction"
        ],
        [
         "StrengthsFinder 2.0",
         "Gallup",
         4.0,
         5069,
         17,
         2014,
         "Non Fiction"
        ],
        [
         "StrengthsFinder 2.0",
         "Gallup",
         4.0,
         5069,
         17,
         2015,
         "Non Fiction"
        ],
        [
         "StrengthsFinder 2.0",
         "Gallup",
         4.0,
         5069,
         17,
         2016,
         "Non Fiction"
        ],
        [
         "StrengthsFinder 2.0",
         "Gallup",
         4.0,
         5069,
         17,
         2017,
         "Non Fiction"
        ],
        [
         "Super Freakonomics: Global Cooling, Patriotic Prostitutes, and Why Suicide Bombers Should Buy Life Insurance",
         "Steven D. Levitt",
         4.5,
         1583,
         18,
         2009,
         "Non Fiction"
        ],
        [
         "Switch: How to Change Things When Change Is Hard",
         "Chip Heath",
         4.6,
         1907,
         13,
         2010,
         "Non Fiction"
        ],
        [
         "Sycamore Row (Jake Brigance)",
         "John Grisham",
         4.5,
         23114,
         18,
         2013,
         "Fiction"
        ],
        [
         "Teach Like a Champion: 49 Techniques that Put Students on the Path to College",
         "Doug Lemov",
         4.4,
         637,
         20,
         2010,
         "Non Fiction"
        ],
        [
         "Teach Like a Champion: 49 Techniques that Put Students on the Path to College",
         "Doug Lemov",
         4.4,
         637,
         20,
         2011,
         "Non Fiction"
        ],
        [
         "The 17 Day Diet: A Doctor's Plan Designed for Rapid Results",
         "Mike Moreno",
         4.3,
         2314,
         22,
         2011,
         "Non Fiction"
        ],
        [
         "The 4 Hour Body: An Uncommon Guide to Rapid Fat Loss, Incredible Sex and Becoming Superhuman",
         "Timothy Ferriss",
         4.3,
         4587,
         21,
         2011,
         "Non Fiction"
        ],
        [
         "The 5 Love Languages: The Secret to Love That Lasts",
         "Gary Chapman",
         4.7,
         3477,
         28,
         2010,
         "Non Fiction"
        ],
        [
         "The 5 Love Languages: The Secret to Love That Lasts",
         "Gary Chapman",
         4.7,
         3477,
         28,
         2011,
         "Non Fiction"
        ],
        [
         "The 5 Love Languages: The Secret to Love That Lasts",
         "Gary Chapman",
         4.7,
         3477,
         28,
         2012,
         "Non Fiction"
        ],
        [
         "The 5 Love Languages: The Secret to Love That Lasts",
         "Gary Chapman",
         4.7,
         3477,
         28,
         2013,
         "Non Fiction"
        ],
        [
         "The 5 Love Languages: The Secret to Love That Lasts",
         "Gary Chapman",
         4.7,
         3477,
         28,
         2014,
         "Non Fiction"
        ],
        [
         "The 5 Love Languages: The Secret to Love that Lasts",
         "Gary Chapman",
         4.8,
         25554,
         8,
         2015,
         "Non Fiction"
        ],
        [
         "The 5 Love Languages: The Secret to Love that Lasts",
         "Gary Chapman",
         4.8,
         25554,
         8,
         2016,
         "Non Fiction"
        ],
        [
         "The 5 Love Languages: The Secret to Love that Lasts",
         "Gary Chapman",
         4.8,
         25554,
         8,
         2017,
         "Non Fiction"
        ],
        [
         "The 5 Love Languages: The Secret to Love that Lasts",
         "Gary Chapman",
         4.8,
         25554,
         8,
         2018,
         "Non Fiction"
        ],
        [
         "The 5 Love Languages: The Secret to Love that Lasts",
         "Gary Chapman",
         4.8,
         25554,
         8,
         2019,
         "Non Fiction"
        ],
        [
         "The 5000 Year Leap",
         "W. Cleon Skousen",
         4.8,
         1680,
         12,
         2009,
         "Non Fiction"
        ],
        [
         "The 7 Habits of Highly Effective People: Powerful Lessons in Personal Change",
         "Stephen R. Covey",
         4.6,
         9325,
         24,
         2009,
         "Non Fiction"
        ],
        [
         "The 7 Habits of Highly Effective People: Powerful Lessons in Personal Change",
         "Stephen R. Covey",
         4.6,
         9325,
         24,
         2011,
         "Non Fiction"
        ],
        [
         "The 7 Habits of Highly Effective People: Powerful Lessons in Personal Change",
         "Stephen R. Covey",
         4.6,
         9325,
         24,
         2012,
         "Non Fiction"
        ],
        [
         "The 7 Habits of Highly Effective People: Powerful Lessons in Personal Change",
         "Stephen R. Covey",
         4.6,
         9325,
         24,
         2013,
         "Non Fiction"
        ],
        [
         "The 7 Habits of Highly Effective People: Powerful Lessons in Personal Change",
         "Stephen R. Covey",
         4.7,
         4725,
         16,
         2015,
         "Non Fiction"
        ],
        [
         "The 7 Habits of Highly Effective People: Powerful Lessons in Personal Change",
         "Stephen R. Covey",
         4.7,
         4725,
         16,
         2016,
         "Non Fiction"
        ],
        [
         "The 7 Habits of Highly Effective People: Powerful Lessons in Personal Change",
         "Stephen R. Covey",
         4.7,
         4725,
         16,
         2017,
         "Non Fiction"
        ],
        [
         "The Alchemist",
         "Paulo Coelho",
         4.7,
         35799,
         39,
         2014,
         "Fiction"
        ],
        [
         "The Amateur",
         "Edward Klein",
         4.6,
         2580,
         9,
         2012,
         "Non Fiction"
        ],
        [
         "The Art of Racing in the Rain: A Novel",
         "Garth Stein",
         4.7,
         11813,
         10,
         2010,
         "Fiction"
        ],
        [
         "The Art of Racing in the Rain: A Novel",
         "Garth Stein",
         4.7,
         11813,
         10,
         2011,
         "Fiction"
        ],
        [
         "The Big Short: Inside the Doomsday Machine",
         "Michael Lewis",
         4.7,
         3536,
         17,
         2010,
         "Non Fiction"
        ],
        [
         "The Blood of Olympus (The Heroes of Olympus (5))",
         "Rick Riordan",
         4.8,
         6600,
         11,
         2014,
         "Fiction"
        ],
        [
         "The Blood Sugar Solution: The UltraHealthy Program for Losing Weight, Preventing Disease, and Feeling Great Now!",
         "Mark Hyman M.D.",
         4.2,
         1789,
         14,
         2012,
         "Non Fiction"
        ],
        [
         "The Body Keeps the Score: Brain, Mind, and Body in the Healing of Trauma",
         "Bessel van der Kolk M.D.",
         4.8,
         12361,
         12,
         2019,
         "Non Fiction"
        ],
        [
         "The Book of Basketball: The NBA According to The Sports Guy",
         "Bill Simmons",
         4.7,
         858,
         53,
         2009,
         "Non Fiction"
        ],
        [
         "The Book Thief",
         "Markus Zusak",
         4.6,
         23148,
         6,
         2013,
         "Fiction"
        ],
        [
         "The Book Thief",
         "Markus Zusak",
         4.6,
         23148,
         6,
         2014,
         "Fiction"
        ],
        [
         "The Book with No Pictures",
         "B. J. Novak",
         4.8,
         8081,
         8,
         2014,
         "Fiction"
        ],
        [
         "The Book with No Pictures",
         "B. J. Novak",
         4.8,
         8081,
         8,
         2015,
         "Fiction"
        ],
        [
         "The Boys in the Boat: Nine Americans and Their Epic Quest for Gold at the 1936 Berlin Olympics",
         "Daniel James Brown",
         4.8,
         23358,
         12,
         2014,
         "Non Fiction"
        ],
        [
         "The Boys in the Boat: Nine Americans and Their Epic Quest for Gold at the 1936 Berlin Olympics",
         "Daniel James Brown",
         4.8,
         23358,
         12,
         2015,
         "Non Fiction"
        ],
        [
         "The Casual Vacancy",
         "J.K. Rowling",
         3.3,
         9372,
         12,
         2012,
         "Fiction"
        ],
        [
         "The China Study: The Most Comprehensive Study of Nutrition Ever Conducted And the Startling Implications for Diet…",
         "Thomas Campbell",
         4.7,
         4633,
         21,
         2011,
         "Non Fiction"
        ],
        [
         "The Complete Ketogenic Diet for Beginners: Your Essential Guide to Living the Keto Lifestyle",
         "Amy Ramos",
         4.3,
         13061,
         6,
         2018,
         "Non Fiction"
        ],
        [
         "The Complete Ketogenic Diet for Beginners: Your Essential Guide to Living the Keto Lifestyle",
         "Amy Ramos",
         4.3,
         13061,
         6,
         2019,
         "Non Fiction"
        ],
        [
         "The Confession: A Novel",
         "John Grisham",
         4.3,
         3523,
         13,
         2010,
         "Fiction"
        ],
        [
         "The Constitution of the United States",
         "Delegates of the Constitutional",
         4.8,
         2774,
         0,
         2016,
         "Non Fiction"
        ],
        [
         "The Daily Show with Jon Stewart Presents Earth (The Book): A Visitor's Guide to the Human Race",
         "Jon Stewart",
         4.4,
         440,
         11,
         2010,
         "Non Fiction"
        ],
        [
         "The Day the Crayons Quit",
         "Drew Daywalt",
         4.8,
         8922,
         9,
         2013,
         "Fiction"
        ],
        [
         "The Day the Crayons Quit",
         "Drew Daywalt",
         4.8,
         8922,
         9,
         2014,
         "Fiction"
        ],
        [
         "The Day the Crayons Quit",
         "Drew Daywalt",
         4.8,
         8922,
         9,
         2015,
         "Fiction"
        ],
        [
         "The Dukan Diet: 2 Steps to Lose the Weight, 2 Steps to Keep It Off Forever",
         "Pierre Dukan",
         4.1,
         2023,
         15,
         2011,
         "Non Fiction"
        ],
        [
         "The Elegance of the Hedgehog",
         "Muriel Barbery",
         4.0,
         1859,
         11,
         2009,
         "Fiction"
        ],
        [
         "The Fault in Our Stars",
         "John Green",
         4.7,
         50482,
         13,
         2012,
         "Fiction"
        ],
        [
         "The Fault in Our Stars",
         "John Green",
         4.7,
         50482,
         13,
         2013,
         "Fiction"
        ],
        [
         "The Fault in Our Stars",
         "John Green",
         4.7,
         50482,
         7,
         2014,
         "Fiction"
        ],
        [
         "The Fault in Our Stars",
         "John Green",
         4.7,
         50482,
         13,
         2014,
         "Fiction"
        ],
        [
         "The Five Dysfunctions of a Team: A Leadership Fable",
         "Patrick Lencioni",
         4.6,
         3207,
         6,
         2009,
         "Non Fiction"
        ],
        [
         "The Five Dysfunctions of a Team: A Leadership Fable",
         "Patrick Lencioni",
         4.6,
         3207,
         6,
         2010,
         "Non Fiction"
        ],
        [
         "The Five Dysfunctions of a Team: A Leadership Fable",
         "Patrick Lencioni",
         4.6,
         3207,
         6,
         2011,
         "Non Fiction"
        ],
        [
         "The Five Dysfunctions of a Team: A Leadership Fable",
         "Patrick Lencioni",
         4.6,
         3207,
         6,
         2012,
         "Non Fiction"
        ],
        [
         "The Five Dysfunctions of a Team: A Leadership Fable",
         "Patrick Lencioni",
         4.6,
         3207,
         6,
         2013,
         "Non Fiction"
        ],
        [
         "The Five Love Languages: How to Express Heartfelt Commitment to Your Mate",
         "Gary Chapman",
         4.6,
         803,
         9,
         2009,
         "Non Fiction"
        ],
        [
         "The Four Agreements: A Practical Guide to Personal Freedom (A Toltec Wisdom Book)",
         "Don Miguel Ruiz",
         4.7,
         23308,
         6,
         2013,
         "Non Fiction"
        ],
        [
         "The Four Agreements: A Practical Guide to Personal Freedom (A Toltec Wisdom Book)",
         "Don Miguel Ruiz",
         4.7,
         23308,
         6,
         2015,
         "Non Fiction"
        ],
        [
         "The Four Agreements: A Practical Guide to Personal Freedom (A Toltec Wisdom Book)",
         "Don Miguel Ruiz",
         4.7,
         23308,
         6,
         2016,
         "Non Fiction"
        ],
        [
         "The Four Agreements: A Practical Guide to Personal Freedom (A Toltec Wisdom Book)",
         "Don Miguel Ruiz",
         4.7,
         23308,
         6,
         2017,
         "Non Fiction"
        ],
        [
         "The Four Agreements: A Practical Guide to Personal Freedom (A Toltec Wisdom Book)",
         "Don Miguel Ruiz",
         4.7,
         23308,
         6,
         2018,
         "Non Fiction"
        ],
        [
         "The Four Agreements: A Practical Guide to Personal Freedom (A Toltec Wisdom Book)",
         "Don Miguel Ruiz",
         4.7,
         23308,
         6,
         2019,
         "Non Fiction"
        ],
        [
         "The Getaway",
         "Jeff Kinney",
         4.8,
         5836,
         0,
         2017,
         "Fiction"
        ],
        [
         "The Girl on the Train",
         "Paula Hawkins",
         4.1,
         79446,
         18,
         2015,
         "Fiction"
        ],
        [
         "The Girl on the Train",
         "Paula Hawkins",
         4.1,
         79446,
         7,
         2016,
         "Fiction"
        ],
        [
         "The Girl Who Kicked the Hornet's Nest (Millennium Trilogy)",
         "Stieg Larsson",
         4.7,
         7747,
         14,
         2010,
         "Fiction"
        ],
        [
         "The Girl Who Kicked the Hornet's Nest (Millennium Trilogy)",
         "Stieg Larsson",
         4.7,
         7747,
         14,
         2011,
         "Fiction"
        ],
        [
         "The Girl Who Played with Fire (Millennium Series)",
         "Stieg Larsson",
         4.7,
         7251,
         9,
         2010,
         "Fiction"
        ],
        [
         "The Girl Who Played with Fire (Millennium)",
         "Stieg Larsson",
         4.7,
         7251,
         16,
         2009,
         "Fiction"
        ],
        [
         "The Girl with the Dragon Tattoo (Millennium Series)",
         "Stieg Larsson",
         4.4,
         10559,
         2,
         2009,
         "Fiction"
        ],
        [
         "The Girl with the Dragon Tattoo (Millennium Series)",
         "Stieg Larsson",
         4.4,
         10559,
         2,
         2010,
         "Fiction"
        ],
        [
         "The Going-To-Bed Book",
         "Sandra Boynton",
         4.8,
         5249,
         5,
         2016,
         "Fiction"
        ],
        [
         "The Going-To-Bed Book",
         "Sandra Boynton",
         4.8,
         5249,
         5,
         2017,
         "Fiction"
        ],
        [
         "The Goldfinch: A Novel (Pulitzer Prize for Fiction)",
         "Donna Tartt",
         3.9,
         33844,
         20,
         2013,
         "Fiction"
        ],
        [
         "The Goldfinch: A Novel (Pulitzer Prize for Fiction)",
         "Donna Tartt",
         3.9,
         33844,
         20,
         2014,
         "Fiction"
        ],
        [
         "The Great Gatsby",
         "F. Scott Fitzgerald",
         4.4,
         11616,
         7,
         2012,
         "Fiction"
        ],
        [
         "The Great Gatsby",
         "F. Scott Fitzgerald",
         4.4,
         11616,
         7,
         2013,
         "Fiction"
        ],
        [
         "The Great Gatsby",
         "F. Scott Fitzgerald",
         4.4,
         11616,
         7,
         2014,
         "Fiction"
        ],
        [
         "The Guardians: A Novel",
         "John Grisham",
         4.5,
         13609,
         14,
         2019,
         "Fiction"
        ],
        [
         "The Guernsey Literary and Potato Peel Pie Society",
         "Mary Ann Shaffer",
         4.7,
         8587,
         10,
         2009,
         "Fiction"
        ],
        [
         "The Handmaid's Tale",
         "Margaret Atwood",
         4.3,
         29442,
         7,
         2017,
         "Fiction"
        ],
        [
         "The Harbinger: The Ancient Mystery that Holds the Secret of America's Future",
         "Jonathan Cahn",
         4.6,
         11098,
         13,
         2012,
         "Fiction"
        ],
        [
         "The Hate U Give",
         "Angie Thomas",
         4.8,
         9947,
         11,
         2018,
         "Fiction"
        ],
        [
         "The Help",
         "Kathryn Stockett",
         4.8,
         13871,
         6,
         2009,
         "Fiction"
        ],
        [
         "The Help",
         "Kathryn Stockett",
         4.8,
         13871,
         6,
         2010,
         "Fiction"
        ],
        [
         "The Help",
         "Kathryn Stockett",
         4.8,
         13871,
         8,
         2011,
         "Fiction"
        ],
        [
         "The Help",
         "Kathryn Stockett",
         4.8,
         13871,
         7,
         2011,
         "Fiction"
        ],
        [
         "The House of Hades (Heroes of Olympus, Book 4)",
         "Rick Riordan",
         4.8,
         6982,
         14,
         2013,
         "Fiction"
        ],
        [
         "The Hunger Games",
         "Suzanne Collins",
         4.7,
         32122,
         14,
         2010,
         "Fiction"
        ],
        [
         "The Hunger Games (Book 1)",
         "Suzanne Collins",
         4.7,
         32122,
         8,
         2011,
         "Fiction"
        ],
        [
         "The Hunger Games (Book 1)",
         "Suzanne Collins",
         4.7,
         32122,
         8,
         2012,
         "Fiction"
        ],
        [
         "The Hunger Games Trilogy Boxed Set (1)",
         "Suzanne Collins",
         4.8,
         16949,
         30,
         2011,
         "Fiction"
        ],
        [
         "The Hunger Games Trilogy Boxed Set (1)",
         "Suzanne Collins",
         4.8,
         16949,
         30,
         2012,
         "Fiction"
        ],
        [
         "The Immortal Life of Henrietta Lacks",
         "Rebecca Skloot",
         4.7,
         9289,
         13,
         2010,
         "Non Fiction"
        ],
        [
         "The Immortal Life of Henrietta Lacks",
         "Rebecca Skloot",
         4.7,
         9289,
         9,
         2011,
         "Non Fiction"
        ],
        [
         "The Immortal Life of Henrietta Lacks",
         "Rebecca Skloot",
         4.7,
         9289,
         9,
         2012,
         "Non Fiction"
        ],
        [
         "The Instant Pot Electric Pressure Cooker Cookbook: Easy Recipes for Fast & Healthy Meals",
         "Laurel Randolph",
         4.3,
         7368,
         7,
         2017,
         "Non Fiction"
        ],
        [
         "The Instant Pot Electric Pressure Cooker Cookbook: Easy Recipes for Fast & Healthy Meals",
         "Laurel Randolph",
         4.3,
         7368,
         7,
         2018,
         "Non Fiction"
        ],
        [
         "The Last Lecture",
         "Randy Pausch",
         4.7,
         4028,
         9,
         2009,
         "Non Fiction"
        ],
        [
         "The Last Olympian (Percy Jackson and the Olympians, Book 5)",
         "Rick Riordan",
         4.8,
         4628,
         7,
         2009,
         "Fiction"
        ],
        [
         "The Last Olympian (Percy Jackson and the Olympians, Book 5)",
         "Rick Riordan",
         4.8,
         4628,
         7,
         2010,
         "Fiction"
        ],
        [
         "The Legend of Zelda: Hyrule Historia",
         "Patrick Thorpe",
         4.9,
         5396,
         20,
         2013,
         "Fiction"
        ],
        [
         "The Lego Ideas Book: Unlock Your Imagination",
         "Daniel Lipkowitz",
         4.4,
         4247,
         13,
         2011,
         "Non Fiction"
        ],
        [
         "The Lego Ideas Book: Unlock Your Imagination",
         "Daniel Lipkowitz",
         4.4,
         4247,
         13,
         2012,
         "Non Fiction"
        ],
        [
         "The Life-Changing Magic of Tidying Up: The Japanese Art of Decluttering and Organizing",
         "Marie Kondō",
         4.5,
         22641,
         11,
         2015,
         "Non Fiction"
        ],
        [
         "The Life-Changing Magic of Tidying Up: The Japanese Art of Decluttering and Organizing",
         "Marie Kondō",
         4.5,
         22641,
         11,
         2016,
         "Non Fiction"
        ],
        [
         "The Life-Changing Magic of Tidying Up: The Japanese Art of Decluttering and Organizing",
         "Marie Kondō",
         4.5,
         22641,
         11,
         2017,
         "Non Fiction"
        ],
        [
         "The Life-Changing Magic of Tidying Up: The Japanese Art of Decluttering and Organizing",
         "Marie Kondō",
         4.5,
         22641,
         11,
         2019,
         "Non Fiction"
        ],
        [
         "The Litigators",
         "John Grisham",
         4.4,
         6222,
         18,
         2011,
         "Fiction"
        ],
        [
         "The Lost Hero (Heroes of Olympus, Book 1)",
         "Rick Riordan",
         4.8,
         4506,
         14,
         2010,
         "Fiction"
        ],
        [
         "The Lost Symbol",
         "Dan Brown",
         4.2,
         8747,
         19,
         2009,
         "Fiction"
        ],
        [
         "The Love Dare",
         "Stephen Kendrick",
         4.8,
         1655,
         13,
         2009,
         "Non Fiction"
        ],
        [
         "The Magnolia Story",
         "Chip Gaines",
         4.9,
         7861,
         5,
         2016,
         "Non Fiction"
        ],
        [
         "The Mark of Athena (Heroes of Olympus, Book 3)",
         "Rick Riordan",
         4.8,
         6247,
         10,
         2012,
         "Fiction"
        ],
        [
         "The Martian",
         "Andy Weir",
         4.7,
         39459,
         9,
         2015,
         "Fiction"
        ],
        [
         "The Maze Runner (Book 1)",
         "James Dashner",
         4.5,
         10101,
         8,
         2014,
         "Fiction"
        ],
        [
         "The Meltdown (Diary of a Wimpy Kid Book 13)",
         "Jeff Kinney",
         4.8,
         5898,
         8,
         2018,
         "Fiction"
        ],
        [
         "The Mueller Report",
         "The Washington Post",
         4.6,
         2744,
         12,
         2019,
         "Non Fiction"
        ],
        [
         "The Nightingale: A Novel",
         "Kristin Hannah",
         4.8,
         49288,
         11,
         2015,
         "Fiction"
        ],
        [
         "The Nightingale: A Novel",
         "Kristin Hannah",
         4.8,
         49288,
         11,
         2016,
         "Fiction"
        ],
        [
         "The Official SAT Study Guide",
         "The College Board",
         4.4,
         1201,
         40,
         2010,
         "Non Fiction"
        ],
        [
         "The Official SAT Study Guide",
         "The College Board",
         4.4,
         1201,
         40,
         2011,
         "Non Fiction"
        ],
        [
         "The Official SAT Study Guide",
         "The College Board",
         4.4,
         1201,
         40,
         2012,
         "Non Fiction"
        ],
        [
         "The Official SAT Study Guide",
         "The College Board",
         4.4,
         1201,
         40,
         2013,
         "Non Fiction"
        ],
        [
         "The Official SAT Study Guide",
         "The College Board",
         4.4,
         1201,
         40,
         2014,
         "Non Fiction"
        ],
        [
         "The Official SAT Study Guide, 2016 Edition (Official Study Guide for the New Sat)",
         "The College Board",
         4.3,
         807,
         36,
         2016,
         "Non Fiction"
        ],
        [
         "The Paris Wife: A Novel",
         "Paula McLain",
         4.3,
         3759,
         16,
         2011,
         "Fiction"
        ],
        [
         "The Pioneer Woman Cooks: A Year of Holidays: 140 Step-by-Step Recipes for Simple, Scrumptious Celebrations",
         "Ree Drummond",
         4.8,
         2663,
         17,
         2013,
         "Non Fiction"
        ],
        [
         "The Pioneer Woman Cooks: Dinnertime - Comfort Classics, Freezer Food, 16-minute Meals, and Other Delicious Ways to Solve…",
         "Ree Drummond",
         4.8,
         3428,
         14,
         2015,
         "Non Fiction"
        ],
        [
         "The Pioneer Woman Cooks: Food from My Frontier",
         "Ree Drummond",
         4.8,
         2876,
         21,
         2012,
         "Non Fiction"
        ],
        [
         "The Plant Paradox Cookbook: 100 Delicious Recipes to Help You Lose Weight, Heal Your Gut, and Live Lectin-Free",
         "Dr. Steven R Gundry MD",
         4.5,
         3601,
         18,
         2018,
         "Non Fiction"
        ],
        [
         "The Plant Paradox: The Hidden Dangers in \"Healthy\" Foods That Cause Disease and Weight Gain",
         "Dr. Steven R Gundry MD",
         4.4,
         7058,
         17,
         2018,
         "Non Fiction"
        ],
        [
         "The Pout-Pout Fish",
         "Deborah Diesen",
         4.8,
         9784,
         5,
         2017,
         "Fiction"
        ],
        [
         "The Pout-Pout Fish",
         "Deborah Diesen",
         4.8,
         9784,
         5,
         2018,
         "Fiction"
        ],
        [
         "The Power of Habit: Why We Do What We Do in Life and Business",
         "Charles Duhigg",
         4.6,
         10795,
         21,
         2012,
         "Non Fiction"
        ],
        [
         "The President Is Missing: A Novel",
         "James Patterson",
         4.3,
         10191,
         18,
         2018,
         "Fiction"
        ],
        [
         "The Racketeer",
         "John Grisham",
         4.3,
         14493,
         18,
         2012,
         "Fiction"
        ],
        [
         "The Red Pyramid (The Kane Chronicles, Book 1)",
         "Rick Riordan",
         4.6,
         2186,
         12,
         2010,
         "Fiction"
        ],
        [
         "The Road to Serfdom: Text and Documents--The Definitive Edition (The Collected Works of F. A. Hayek, Volume 2)",
         "F. A. Hayek",
         4.6,
         1204,
         14,
         2010,
         "Non Fiction"
        ],
        [
         "The Serpent's Shadow (The Kane Chronicles, Book 3)",
         "Rick Riordan",
         4.8,
         2091,
         12,
         2012,
         "Fiction"
        ],
        [
         "The Shack: Where Tragedy Confronts Eternity",
         "William P. Young",
         4.6,
         19720,
         8,
         2009,
         "Fiction"
        ],
        [
         "The Shack: Where Tragedy Confronts Eternity",
         "William P. Young",
         4.6,
         19720,
         8,
         2017,
         "Fiction"
        ],
        [
         "The Short Second Life of Bree Tanner: An Eclipse Novella (The Twilight Saga)",
         "Stephenie Meyer",
         4.6,
         2122,
         0,
         2010,
         "Fiction"
        ],
        [
         "The Silent Patient",
         "Alex Michaelides",
         4.5,
         27536,
         14,
         2019,
         "Fiction"
        ],
        [
         "The Son of Neptune (Heroes of Olympus, Book 2)",
         "Rick Riordan",
         4.8,
         4290,
         10,
         2011,
         "Fiction"
        ],
        [
         "The Subtle Art of Not Giving a F*ck: A Counterintuitive Approach to Living a Good Life",
         "Mark Manson",
         4.6,
         26490,
         15,
         2017,
         "Non Fiction"
        ],
        [
         "The Subtle Art of Not Giving a F*ck: A Counterintuitive Approach to Living a Good Life",
         "Mark Manson",
         4.6,
         26490,
         15,
         2018,
         "Non Fiction"
        ],
        [
         "The Subtle Art of Not Giving a F*ck: A Counterintuitive Approach to Living a Good Life",
         "Mark Manson",
         4.6,
         26490,
         15,
         2019,
         "Non Fiction"
        ],
        [
         "The Sun and Her Flowers",
         "Rupi Kaur",
         4.7,
         5487,
         9,
         2017,
         "Non Fiction"
        ],
        [
         "The Third Wheel (Diary of a Wimpy Kid, Book 7)",
         "Jeff Kinney",
         4.7,
         6377,
         7,
         2012,
         "Fiction"
        ],
        [
         "The Throne of Fire (The Kane Chronicles, Book 2)",
         "Rick Riordan",
         4.7,
         1463,
         10,
         2011,
         "Fiction"
        ],
        [
         "The Time Traveler's Wife",
         "Audrey Niffenegger",
         4.4,
         3759,
         6,
         2009,
         "Fiction"
        ],
        [
         "The Tipping Point: How Little Things Can Make a Big Difference",
         "Malcolm Gladwell",
         4.4,
         3503,
         9,
         2009,
         "Non Fiction"
        ],
        [
         "The Total Money Makeover: Classic Edition: A Proven Plan for Financial Fitness",
         "Dave Ramsey",
         4.7,
         11550,
         10,
         2019,
         "Non Fiction"
        ],
        [
         "The Twilight Saga Collection",
         "Stephenie Meyer",
         4.7,
         3801,
         82,
         2009,
         "Fiction"
        ],
        [
         "The Ugly Truth (Diary of a Wimpy Kid, Book 5)",
         "Jeff Kinney",
         4.8,
         3796,
         12,
         2010,
         "Fiction"
        ],
        [
         "The Unofficial Harry Potter Cookbook: From Cauldron Cakes to Knickerbocker Glory--More Than 150 Magical Recipes for…",
         "Dinah Bucholz",
         4.7,
         9030,
         10,
         2019,
         "Non Fiction"
        ],
        [
         "The Very Hungry Caterpillar",
         "Eric Carle",
         4.9,
         19546,
         5,
         2013,
         "Fiction"
        ],
        [
         "The Very Hungry Caterpillar",
         "Eric Carle",
         4.9,
         19546,
         5,
         2014,
         "Fiction"
        ],
        [
         "The Very Hungry Caterpillar",
         "Eric Carle",
         4.9,
         19546,
         5,
         2015,
         "Fiction"
        ],
        [
         "The Very Hungry Caterpillar",
         "Eric Carle",
         4.9,
         19546,
         5,
         2016,
         "Fiction"
        ],
        [
         "The Very Hungry Caterpillar",
         "Eric Carle",
         4.9,
         19546,
         5,
         2017,
         "Fiction"
        ],
        [
         "The Very Hungry Caterpillar",
         "Eric Carle",
         4.9,
         19546,
         5,
         2018,
         "Fiction"
        ],
        [
         "The Very Hungry Caterpillar",
         "Eric Carle",
         4.9,
         19546,
         5,
         2019,
         "Fiction"
        ],
        [
         "The Whole30: The 30-Day Guide to Total Health and Food Freedom",
         "Melissa Hartwig Urban",
         4.6,
         7508,
         16,
         2015,
         "Non Fiction"
        ],
        [
         "The Whole30: The 30-Day Guide to Total Health and Food Freedom",
         "Melissa Hartwig Urban",
         4.6,
         7508,
         16,
         2016,
         "Non Fiction"
        ],
        [
         "The Whole30: The 30-Day Guide to Total Health and Food Freedom",
         "Melissa Hartwig Urban",
         4.6,
         7508,
         16,
         2017,
         "Non Fiction"
        ],
        [
         "The Wonderful Things You Will Be",
         "Emily Winfield Martin",
         4.9,
         8842,
         10,
         2016,
         "Fiction"
        ],
        [
         "The Wonderful Things You Will Be",
         "Emily Winfield Martin",
         4.9,
         8842,
         10,
         2017,
         "Fiction"
        ],
        [
         "The Wonderful Things You Will Be",
         "Emily Winfield Martin",
         4.9,
         8842,
         10,
         2018,
         "Fiction"
        ],
        [
         "The Wonderful Things You Will Be",
         "Emily Winfield Martin",
         4.9,
         8842,
         10,
         2019,
         "Fiction"
        ],
        [
         "The Wonky Donkey",
         "Craig Smith",
         4.8,
         30183,
         4,
         2018,
         "Fiction"
        ],
        [
         "The Wonky Donkey",
         "Craig Smith",
         4.8,
         30183,
         4,
         2019,
         "Fiction"
        ],
        [
         "The Wright Brothers",
         "David McCullough",
         4.7,
         6169,
         16,
         2015,
         "Non Fiction"
        ],
        [
         "Things That Matter: Three Decades of Passions, Pastimes and Politics [Deckled Edge]",
         "Charles Krauthammer",
         4.7,
         7034,
         15,
         2013,
         "Non Fiction"
        ],
        [
         "Thinking, Fast and Slow",
         "Daniel Kahneman",
         4.6,
         11034,
         19,
         2011,
         "Non Fiction"
        ],
        [
         "Thinking, Fast and Slow",
         "Daniel Kahneman",
         4.6,
         11034,
         19,
         2012,
         "Non Fiction"
        ],
        [
         "Thirteen Reasons Why",
         "Jay Asher",
         4.5,
         7932,
         9,
         2017,
         "Fiction"
        ],
        [
         "Thomas Jefferson: The Art of Power",
         "Jon Meacham",
         4.5,
         1904,
         23,
         2012,
         "Non Fiction"
        ],
        [
         "Three Cups of Tea: One Man's Mission to Promote Peace - One School at a Time",
         "Greg Mortenson",
         4.3,
         3319,
         11,
         2009,
         "Non Fiction"
        ],
        [
         "Three Cups of Tea: One Man's Mission to Promote Peace - One School at a Time",
         "Greg Mortenson",
         4.3,
         3319,
         11,
         2010,
         "Non Fiction"
        ],
        [
         "Thug Kitchen: The Official Cookbook: Eat Like You Give a F*ck (Thug Kitchen Cookbooks)",
         "Thug Kitchen",
         4.6,
         11128,
         23,
         2014,
         "Non Fiction"
        ],
        [
         "Thug Kitchen: The Official Cookbook: Eat Like You Give a F*ck (Thug Kitchen Cookbooks)",
         "Thug Kitchen",
         4.6,
         11128,
         23,
         2015,
         "Non Fiction"
        ],
        [
         "Thug Kitchen: The Official Cookbook: Eat Like You Give a F*ck (Thug Kitchen Cookbooks)",
         "Thug Kitchen",
         4.6,
         11128,
         23,
         2016,
         "Non Fiction"
        ],
        [
         "Thug Kitchen: The Official Cookbook: Eat Like You Give a F*ck (Thug Kitchen Cookbooks)",
         "Thug Kitchen",
         4.6,
         11128,
         23,
         2017,
         "Non Fiction"
        ],
        [
         "Tina Fey: Bossypants",
         "Tina Fey",
         4.3,
         5977,
         12,
         2011,
         "Non Fiction"
        ],
        [
         "To Kill a Mockingbird",
         "Harper Lee",
         4.8,
         26234,
         0,
         2013,
         "Fiction"
        ],
        [
         "To Kill a Mockingbird",
         "Harper Lee",
         4.8,
         26234,
         0,
         2014,
         "Fiction"
        ],
        [
         "To Kill a Mockingbird",
         "Harper Lee",
         4.8,
         26234,
         0,
         2015,
         "Fiction"
        ],
        [
         "To Kill a Mockingbird",
         "Harper Lee",
         4.8,
         26234,
         0,
         2016,
         "Fiction"
        ],
        [
         "To Kill a Mockingbird",
         "Harper Lee",
         4.8,
         26234,
         7,
         2019,
         "Fiction"
        ],
        [
         "Tools of Titans: The Tactics, Routines, and Habits of Billionaires, Icons, and World-Class Performers",
         "Timothy Ferriss",
         4.6,
         4360,
         21,
         2017,
         "Non Fiction"
        ],
        [
         "Towers of Midnight (Wheel of Time, Book Thirteen)",
         "Robert Jordan",
         4.8,
         2282,
         21,
         2010,
         "Fiction"
        ],
        [
         "True Compass: A Memoir",
         "Edward M. Kennedy",
         4.5,
         438,
         15,
         2009,
         "Non Fiction"
        ],
        [
         "Twilight (The Twilight Saga, Book 1)",
         "Stephenie Meyer",
         4.7,
         11676,
         9,
         2009,
         "Fiction"
        ],
        [
         "Ultimate Sticker Book: Frozen: More Than 60 Reusable Full-Color Stickers",
         "DK",
         4.5,
         2586,
         5,
         2014,
         "Fiction"
        ],
        [
         "Unbroken: A World War II Story of Survival, Resilience, and Redemption",
         "Laura Hillenbrand",
         4.8,
         29673,
         16,
         2010,
         "Non Fiction"
        ],
        [
         "Unbroken: A World War II Story of Survival, Resilience, and Redemption",
         "Laura Hillenbrand",
         4.8,
         29673,
         16,
         2011,
         "Non Fiction"
        ],
        [
         "Unbroken: A World War II Story of Survival, Resilience, and Redemption",
         "Laura Hillenbrand",
         4.8,
         29673,
         16,
         2012,
         "Non Fiction"
        ],
        [
         "Unbroken: A World War II Story of Survival, Resilience, and Redemption",
         "Laura Hillenbrand",
         4.8,
         29673,
         13,
         2014,
         "Non Fiction"
        ],
        [
         "Unbroken: A World War II Story of Survival, Resilience, and Redemption",
         "Laura Hillenbrand",
         4.8,
         29673,
         16,
         2014,
         "Non Fiction"
        ],
        [
         "Under the Dome: A Novel",
         "Stephen King",
         4.3,
         6740,
         20,
         2009,
         "Fiction"
        ],
        [
         "Unfreedom of the Press",
         "Mark R. Levin",
         4.9,
         5956,
         11,
         2019,
         "Non Fiction"
        ],
        [
         "Unicorn Coloring Book: For Kids Ages 4-8 (US Edition) (Silly Bear Coloring Books)",
         "Silly Bear",
         4.8,
         6108,
         4,
         2019,
         "Non Fiction"
        ],
        [
         "Uninvited: Living Loved When You Feel Less Than, Left Out, and Lonely",
         "Lysa TerKeurst",
         4.7,
         4585,
         9,
         2016,
         "Non Fiction"
        ],
        [
         "Watchmen",
         "Alan Moore",
         4.8,
         3829,
         42,
         2009,
         "Fiction"
        ],
        [
         "Water for Elephants: A Novel",
         "Sara Gruen",
         4.5,
         8958,
         12,
         2011,
         "Fiction"
        ],
        [
         "What Happened",
         "Hillary Rodham Clinton",
         4.6,
         5492,
         18,
         2017,
         "Non Fiction"
        ],
        [
         "What If?: Serious Scientific Answers to Absurd Hypothetical Questions",
         "Randall Munroe",
         4.7,
         9292,
         17,
         2014,
         "Non Fiction"
        ],
        [
         "What Pet Should I Get? (Classic Seuss)",
         "Dr. Seuss",
         4.7,
         1873,
         14,
         2015,
         "Fiction"
        ],
        [
         "What Should Danny Do? (The Power to Choose Series)",
         "Adir Levy",
         4.8,
         8170,
         13,
         2019,
         "Fiction"
        ],
        [
         "What to Expect When You're Expecting",
         "Heidi Murkoff",
         4.4,
         3341,
         9,
         2011,
         "Non Fiction"
        ],
        [
         "Wheat Belly: Lose the Wheat, Lose the Weight, and Find Your Path Back to Health",
         "William Davis",
         4.4,
         7497,
         6,
         2012,
         "Non Fiction"
        ],
        [
         "Wheat Belly: Lose the Wheat, Lose the Weight, and Find Your Path Back to Health",
         "William Davis",
         4.4,
         7497,
         6,
         2013,
         "Non Fiction"
        ],
        [
         "When Breath Becomes Air",
         "Paul Kalanithi",
         4.8,
         13779,
         14,
         2016,
         "Non Fiction"
        ],
        [
         "Where the Crawdads Sing",
         "Delia Owens",
         4.8,
         87841,
         15,
         2019,
         "Fiction"
        ],
        [
         "Where the Wild Things Are",
         "Maurice Sendak",
         4.8,
         9967,
         13,
         2009,
         "Fiction"
        ],
        [
         "Whose Boat Is This Boat?: Comments That Don't Help in the Aftermath of a Hurricane",
         "The Staff of The Late Show with",
         4.6,
         6669,
         12,
         2018,
         "Non Fiction"
        ],
        [
         "Wild: From Lost to Found on the Pacific Crest Trail",
         "Cheryl Strayed",
         4.4,
         17044,
         18,
         2012,
         "Non Fiction"
        ],
        [
         "Winter of the World: Book Two of the Century Trilogy",
         "Ken Follett",
         4.5,
         10760,
         15,
         2012,
         "Fiction"
        ],
        [
         "Women Food and God: An Unexpected Path to Almost Everything",
         "Geneen Roth",
         4.2,
         1302,
         11,
         2010,
         "Non Fiction"
        ],
        [
         "Wonder",
         "R. J. Palacio",
         4.8,
         21625,
         9,
         2013,
         "Fiction"
        ],
        [
         "Wonder",
         "R. J. Palacio",
         4.8,
         21625,
         9,
         2014,
         "Fiction"
        ],
        [
         "Wonder",
         "R. J. Palacio",
         4.8,
         21625,
         9,
         2015,
         "Fiction"
        ],
        [
         "Wonder",
         "R. J. Palacio",
         4.8,
         21625,
         9,
         2016,
         "Fiction"
        ],
        [
         "Wonder",
         "R. J. Palacio",
         4.8,
         21625,
         9,
         2017,
         "Fiction"
        ],
        [
         "Wrecking Ball (Diary of a Wimpy Kid Book 14)",
         "Jeff Kinney",
         4.9,
         9413,
         8,
         2019,
         "Fiction"
        ],
        [
         "You Are a Badass: How to Stop Doubting Your Greatness and Start Living an Awesome Life",
         "Jen Sincero",
         4.7,
         14331,
         8,
         2016,
         "Non Fiction"
        ],
        [
         "You Are a Badass: How to Stop Doubting Your Greatness and Start Living an Awesome Life",
         "Jen Sincero",
         4.7,
         14331,
         8,
         2017,
         "Non Fiction"
        ],
        [
         "You Are a Badass: How to Stop Doubting Your Greatness and Start Living an Awesome Life",
         "Jen Sincero",
         4.7,
         14331,
         8,
         2018,
         "Non Fiction"
        ],
        [
         "You Are a Badass: How to Stop Doubting Your Greatness and Start Living an Awesome Life",
         "Jen Sincero",
         4.7,
         14331,
         8,
         2019,
         "Non Fiction"
        ]
       ],
       "datasetInfos": [],
       "dbfsResultPath": null,
       "isJsonSchema": true,
       "metadata": {},
       "overflow": false,
       "plotOptions": {
        "customPlotOptions": {},
        "displayType": "table",
        "pivotAggregation": null,
        "pivotColumns": null,
        "xColumns": null,
        "yColumns": null
       },
       "removedWidgets": [],
       "schema": [
        {
         "metadata": "{}",
         "name": "Name",
         "type": "\"string\""
        },
        {
         "metadata": "{}",
         "name": "Author",
         "type": "\"string\""
        },
        {
         "metadata": "{}",
         "name": "User Rating",
         "type": "\"double\""
        },
        {
         "metadata": "{}",
         "name": "Reviews",
         "type": "\"integer\""
        },
        {
         "metadata": "{}",
         "name": "Price",
         "type": "\"integer\""
        },
        {
         "metadata": "{}",
         "name": "Year",
         "type": "\"integer\""
        },
        {
         "metadata": "{}",
         "name": "Genre",
         "type": "\"string\""
        }
       ],
       "type": "table"
      }
     },
     "output_type": "display_data"
    }
   ],
   "source": [
    "%sql\n",
    "-- Tabela bestsellers\n",
    "\n",
    "SELECT * FROM bestsellers"
   ]
  },
  {
   "cell_type": "markdown",
   "metadata": {
    "application/vnd.databricks.v1+cell": {
     "cellMetadata": {},
     "inputWidgets": {},
     "nuid": "9f2284a0-2f6f-40a8-be24-0eaec69c2e49",
     "showTitle": false,
     "tableResultSettingsMap": {},
     "title": ""
    }
   },
   "source": [
    "## Modelagem\n",
    "\n",
    "Modelo de Dados Flat : Nesse conjunto de dados, os dados são organizados em uma estrutura plana e simples. \n",
    "Cada registro ou linha possui uma série de colunas que representam atributos específicos dos dados, como nome, autor, avaliação de usuário, número de avaliações, preço, ano de publicação e gênero, conforme descrito. Não há tabelas adicionais de dimensionamento ou normalização, como ocorre em modelos de dados estrela ou floco de neve.\n",
    "\n",
    "Descrição do Atributos (Catálogo de Dados) do dataset:\n",
    "\n",
    "- **Name** : Nome do livro, atributo de texto (STR) representando o título do livro.\n",
    "\n",
    "- **Author** : Nome do autor do livro, atributo de texto (STR) representando o autor da obra.\n",
    "\n",
    "- **UserRating** : Avaliação do usuário para o livro, atributo de numérico (FLOAT).\n",
    "\n",
    "- **Reviews** : Número de avaliações que o livro recebeu, atributo numérico (INT).\n",
    "\n",
    "- **Price** : Preço do livro, atributo numérico (INT).\n",
    "\n",
    "- **Year** : Ano em que foi classificado como o mais vendido, atributo numérico (INT). \n",
    "\n",
    "- **Genre** : Categoria que descreve o gênero do livro, como ficção ou não-ficção. Atributo de texto (STR)"
   ]
  },
  {
   "cell_type": "markdown",
   "metadata": {
    "application/vnd.databricks.v1+cell": {
     "cellMetadata": {},
     "inputWidgets": {},
     "nuid": "b90d4157-737d-4185-812e-4d5b08f06271",
     "showTitle": false,
     "tableResultSettingsMap": {},
     "title": ""
    }
   },
   "source": [
    "##  **Qualidade dos Dados**\n",
    "\n",
    "Nessa etapa iremos verificar se há necessidade de tratamento nos dados da tabela."
   ]
  },
  {
   "cell_type": "code",
   "execution_count": 0,
   "metadata": {
    "application/vnd.databricks.v1+cell": {
     "cellMetadata": {
      "byteLimit": 2048000,
      "implicitDf": true,
      "rowLimit": 10000
     },
     "inputWidgets": {},
     "nuid": "77a25bf9-2071-41c6-94b5-5eab45195854",
     "showTitle": false,
     "tableResultSettingsMap": {},
     "title": ""
    }
   },
   "outputs": [
    {
     "output_type": "display_data",
     "data": {
      "text/html": [
       "<style scoped>\n",
       "  .table-result-container {\n",
       "    max-height: 300px;\n",
       "    overflow: auto;\n",
       "  }\n",
       "  table, th, td {\n",
       "    border: 1px solid black;\n",
       "    border-collapse: collapse;\n",
       "  }\n",
       "  th, td {\n",
       "    padding: 5px;\n",
       "  }\n",
       "  th {\n",
       "    text-align: left;\n",
       "  }\n",
       "</style><div class='table-result-container'><table class='table-result'><thead style='background-color: white'><tr><th>Name</th><th>Author</th><th>User Rating</th><th>Reviews</th><th>Price</th><th>Year</th><th>Genre</th></tr></thead><tbody></tbody></table></div>"
      ]
     },
     "metadata": {
      "application/vnd.databricks.v1+output": {
       "addedWidgets": {},
       "aggData": [],
       "aggError": "",
       "aggOverflow": false,
       "aggSchema": [],
       "aggSeriesLimitReached": false,
       "aggType": "",
       "arguments": {},
       "columnCustomDisplayInfos": {},
       "data": [],
       "datasetInfos": [],
       "dbfsResultPath": null,
       "isJsonSchema": true,
       "metadata": {},
       "overflow": false,
       "plotOptions": {
        "customPlotOptions": {},
        "displayType": "table",
        "pivotAggregation": null,
        "pivotColumns": null,
        "xColumns": null,
        "yColumns": null
       },
       "removedWidgets": [],
       "schema": [
        {
         "metadata": "{}",
         "name": "Name",
         "type": "\"string\""
        },
        {
         "metadata": "{}",
         "name": "Author",
         "type": "\"string\""
        },
        {
         "metadata": "{}",
         "name": "User Rating",
         "type": "\"double\""
        },
        {
         "metadata": "{}",
         "name": "Reviews",
         "type": "\"integer\""
        },
        {
         "metadata": "{}",
         "name": "Price",
         "type": "\"integer\""
        },
        {
         "metadata": "{}",
         "name": "Year",
         "type": "\"integer\""
        },
        {
         "metadata": "{}",
         "name": "Genre",
         "type": "\"string\""
        }
       ],
       "type": "table"
      }
     },
     "output_type": "display_data"
    }
   ],
   "source": [
    "%sql\n",
    "-- Verificação Nomes de Livros com nomes Nulos\n",
    "SELECT * FROM bestsellers\n",
    "WHERE Name IS NULL"
   ]
  },
  {
   "cell_type": "code",
   "execution_count": 0,
   "metadata": {
    "application/vnd.databricks.v1+cell": {
     "cellMetadata": {
      "byteLimit": 2048000,
      "implicitDf": true,
      "rowLimit": 10000
     },
     "inputWidgets": {},
     "nuid": "8ade1526-e209-4591-9586-10a3933f4af3",
     "showTitle": false,
     "tableResultSettingsMap": {},
     "title": ""
    }
   },
   "outputs": [
    {
     "output_type": "display_data",
     "data": {
      "text/html": [
       "<style scoped>\n",
       "  .table-result-container {\n",
       "    max-height: 300px;\n",
       "    overflow: auto;\n",
       "  }\n",
       "  table, th, td {\n",
       "    border: 1px solid black;\n",
       "    border-collapse: collapse;\n",
       "  }\n",
       "  th, td {\n",
       "    padding: 5px;\n",
       "  }\n",
       "  th {\n",
       "    text-align: left;\n",
       "  }\n",
       "</style><div class='table-result-container'><table class='table-result'><thead style='background-color: white'><tr><th>Name</th><th>Author</th><th>User Rating</th><th>Reviews</th><th>Price</th><th>Year</th><th>Genre</th></tr></thead><tbody></tbody></table></div>"
      ]
     },
     "metadata": {
      "application/vnd.databricks.v1+output": {
       "addedWidgets": {},
       "aggData": [],
       "aggError": "",
       "aggOverflow": false,
       "aggSchema": [],
       "aggSeriesLimitReached": false,
       "aggType": "",
       "arguments": {},
       "columnCustomDisplayInfos": {},
       "data": [],
       "datasetInfos": [],
       "dbfsResultPath": null,
       "isJsonSchema": true,
       "metadata": {},
       "overflow": false,
       "plotOptions": {
        "customPlotOptions": {},
        "displayType": "table",
        "pivotAggregation": null,
        "pivotColumns": null,
        "xColumns": null,
        "yColumns": null
       },
       "removedWidgets": [],
       "schema": [
        {
         "metadata": "{}",
         "name": "Name",
         "type": "\"string\""
        },
        {
         "metadata": "{}",
         "name": "Author",
         "type": "\"string\""
        },
        {
         "metadata": "{}",
         "name": "User Rating",
         "type": "\"double\""
        },
        {
         "metadata": "{}",
         "name": "Reviews",
         "type": "\"integer\""
        },
        {
         "metadata": "{}",
         "name": "Price",
         "type": "\"integer\""
        },
        {
         "metadata": "{}",
         "name": "Year",
         "type": "\"integer\""
        },
        {
         "metadata": "{}",
         "name": "Genre",
         "type": "\"string\""
        }
       ],
       "type": "table"
      }
     },
     "output_type": "display_data"
    }
   ],
   "source": [
    "%sql\n",
    "-- Verificação Autores com nomes Nulos\n",
    "SELECT * FROM bestsellers\n",
    "WHERE Author IS NULL"
   ]
  },
  {
   "cell_type": "code",
   "execution_count": 0,
   "metadata": {
    "application/vnd.databricks.v1+cell": {
     "cellMetadata": {
      "byteLimit": 2048000,
      "implicitDf": true,
      "rowLimit": 10000
     },
     "inputWidgets": {},
     "nuid": "752244e1-f3c4-4eb6-9848-64a2a817e582",
     "showTitle": false,
     "tableResultSettingsMap": {},
     "title": ""
    }
   },
   "outputs": [
    {
     "output_type": "display_data",
     "data": {
      "text/html": [
       "<style scoped>\n",
       "  .table-result-container {\n",
       "    max-height: 300px;\n",
       "    overflow: auto;\n",
       "  }\n",
       "  table, th, td {\n",
       "    border: 1px solid black;\n",
       "    border-collapse: collapse;\n",
       "  }\n",
       "  th, td {\n",
       "    padding: 5px;\n",
       "  }\n",
       "  th {\n",
       "    text-align: left;\n",
       "  }\n",
       "</style><div class='table-result-container'><table class='table-result'><thead style='background-color: white'><tr><th>Name</th><th>Author</th><th>User Rating</th><th>Reviews</th><th>Price</th><th>Year</th><th>Genre</th></tr></thead><tbody></tbody></table></div>"
      ]
     },
     "metadata": {
      "application/vnd.databricks.v1+output": {
       "addedWidgets": {},
       "aggData": [],
       "aggError": "",
       "aggOverflow": false,
       "aggSchema": [],
       "aggSeriesLimitReached": false,
       "aggType": "",
       "arguments": {},
       "columnCustomDisplayInfos": {},
       "data": [],
       "datasetInfos": [],
       "dbfsResultPath": null,
       "isJsonSchema": true,
       "metadata": {},
       "overflow": false,
       "plotOptions": {
        "customPlotOptions": {},
        "displayType": "table",
        "pivotAggregation": null,
        "pivotColumns": null,
        "xColumns": null,
        "yColumns": null
       },
       "removedWidgets": [],
       "schema": [
        {
         "metadata": "{}",
         "name": "Name",
         "type": "\"string\""
        },
        {
         "metadata": "{}",
         "name": "Author",
         "type": "\"string\""
        },
        {
         "metadata": "{}",
         "name": "User Rating",
         "type": "\"double\""
        },
        {
         "metadata": "{}",
         "name": "Reviews",
         "type": "\"integer\""
        },
        {
         "metadata": "{}",
         "name": "Price",
         "type": "\"integer\""
        },
        {
         "metadata": "{}",
         "name": "Year",
         "type": "\"integer\""
        },
        {
         "metadata": "{}",
         "name": "Genre",
         "type": "\"string\""
        }
       ],
       "type": "table"
      }
     },
     "output_type": "display_data"
    }
   ],
   "source": [
    "%sql\n",
    "-- Verificação Preços com valores negativos.\n",
    "SELECT * FROM bestsellers\n",
    "WHERE Price < 0"
   ]
  },
  {
   "cell_type": "markdown",
   "metadata": {
    "application/vnd.databricks.v1+cell": {
     "cellMetadata": {},
     "inputWidgets": {},
     "nuid": "474d6f3f-2a13-4fb5-8996-15221e1d5cb0",
     "showTitle": false,
     "tableResultSettingsMap": {},
     "title": ""
    },
    "jupyter": {
     "outputs_hidden": true
    }
   },
   "source": [
    "**Verificamos que os dados estão consistentes. Não há necessidade de transformações.**"
   ]
  },
  {
   "cell_type": "code",
   "execution_count": 0,
   "metadata": {
    "application/vnd.databricks.v1+cell": {
     "cellMetadata": {
      "byteLimit": 2048000,
      "implicitDf": true,
      "rowLimit": 10000
     },
     "inputWidgets": {},
     "nuid": "48eb151a-3b6f-442e-b220-ee9016dfbc33",
     "showTitle": false,
     "tableResultSettingsMap": {},
     "title": ""
    }
   },
   "outputs": [
    {
     "output_type": "display_data",
     "data": {
      "text/html": [
       "<style scoped>\n",
       "  .table-result-container {\n",
       "    max-height: 300px;\n",
       "    overflow: auto;\n",
       "  }\n",
       "  table, th, td {\n",
       "    border: 1px solid black;\n",
       "    border-collapse: collapse;\n",
       "  }\n",
       "  th, td {\n",
       "    padding: 5px;\n",
       "  }\n",
       "  th {\n",
       "    text-align: left;\n",
       "  }\n",
       "</style><div class='table-result-container'><table class='table-result'><thead style='background-color: white'><tr><th>QtdeLivros</th></tr></thead><tbody><tr><td>550</td></tr></tbody></table></div>"
      ]
     },
     "metadata": {
      "application/vnd.databricks.v1+output": {
       "addedWidgets": {},
       "aggData": [],
       "aggError": "",
       "aggOverflow": false,
       "aggSchema": [],
       "aggSeriesLimitReached": false,
       "aggType": "",
       "arguments": {},
       "columnCustomDisplayInfos": {},
       "data": [
        [
         550
        ]
       ],
       "datasetInfos": [],
       "dbfsResultPath": null,
       "isJsonSchema": true,
       "metadata": {},
       "overflow": false,
       "plotOptions": {
        "customPlotOptions": {},
        "displayType": "table",
        "pivotAggregation": null,
        "pivotColumns": null,
        "xColumns": null,
        "yColumns": null
       },
       "removedWidgets": [],
       "schema": [
        {
         "metadata": "{}",
         "name": "QtdeLivros",
         "type": "\"long\""
        }
       ],
       "type": "table"
      }
     },
     "output_type": "display_data"
    }
   ],
   "source": [
    "%sql\n",
    "SELECT COUNT(NAME) AS QtdeLivros FROM bestsellers"
   ]
  },
  {
   "cell_type": "code",
   "execution_count": 0,
   "metadata": {
    "application/vnd.databricks.v1+cell": {
     "cellMetadata": {
      "byteLimit": 2048000,
      "implicitDf": true,
      "rowLimit": 10000
     },
     "inputWidgets": {},
     "nuid": "08afd51c-6210-4c56-a875-f41389350a74",
     "showTitle": false,
     "tableResultSettingsMap": {},
     "title": ""
    }
   },
   "outputs": [
    {
     "output_type": "display_data",
     "data": {
      "text/html": [
       "<style scoped>\n",
       "  .table-result-container {\n",
       "    max-height: 300px;\n",
       "    overflow: auto;\n",
       "  }\n",
       "  table, th, td {\n",
       "    border: 1px solid black;\n",
       "    border-collapse: collapse;\n",
       "  }\n",
       "  th, td {\n",
       "    padding: 5px;\n",
       "  }\n",
       "  th {\n",
       "    text-align: left;\n",
       "  }\n",
       "</style><div class='table-result-container'><table class='table-result'><thead style='background-color: white'><tr><th>Author</th><th>Name</th></tr></thead><tbody><tr><td>Abraham Verghese</td><td>Cutting for Stone</td></tr><tr><td>Adam Gasiewski</td><td>Milk and Vine: Inspirational Quotes From Classic Vines</td></tr><tr><td>Adam Mansbach</td><td>Go the F**k to Sleep</td></tr><tr><td>Adir Levy</td><td>What Should Danny Do? (The Power to Choose Series)</td></tr><tr><td>Admiral William H. McRaven</td><td>Make Your Bed: Little Things That Can Change Your Life...And Maybe the World</td></tr><tr><td>Adult Coloring Book Designs</td><td>Adult Coloring Book Designs: Stress Relief Coloring Book: Garden Designs, Mandalas, Animals, and Paisley Patterns</td></tr><tr><td>Alan Moore</td><td>Watchmen</td></tr><tr><td>Alex Michaelides</td><td>The Silent Patient</td></tr><tr><td>Alice Schertle</td><td>Little Blue Truck</td></tr><tr><td>Allie Brosh</td><td>Hyperbole and a Half: Unfortunate Situations, Flawed Coping Mechanisms, Mayhem, and Other Things That Happened</td></tr><tr><td>American Psychiatric Association</td><td>Diagnostic and Statistical Manual of Mental Disorders, 5th Edition: DSM-5</td></tr><tr><td>American Psychological Association</td><td>Publication Manual of the American Psychological Association, 6th Edition</td></tr><tr><td>Amor Towles</td><td>A Gentleman in Moscow: A Novel</td></tr><tr><td>Amy Ramos</td><td>The Complete Ketogenic Diet for Beginners: Your Essential Guide to Living the Keto Lifestyle</td></tr><tr><td>Amy Shields</td><td>National Geographic Little Kids First Big Book of Why (National Geographic Little Kids First Big Books)</td></tr><tr><td>Andy Weir</td><td>The Martian</td></tr><tr><td>Angie Grace</td><td>Balance (Angie's Extreme Stress Menders)</td></tr><tr><td>Angie Thomas</td><td>The Hate U Give</td></tr><tr><td>Ann Voskamp</td><td>One Thousand Gifts: A Dare to Live Fully Right Where You Are</td></tr><tr><td>Ann Whitford Paul</td><td>If Animals Kissed Good Night</td></tr><tr><td>Anthony Bourdain</td><td>Kitchen Confidential Updated Edition: Adventures in the Culinary Underbelly (P.S.)</td></tr><tr><td>Anthony Doerr</td><td>All the Light We Cannot See</td></tr><tr><td>Atul Gawande</td><td>Being Mortal: Medicine and What Matters in the End</td></tr><tr><td>Audrey Niffenegger</td><td>The Time Traveler's Wife</td></tr><tr><td>B. J. Novak</td><td>The Book with No Pictures</td></tr><tr><td>Bessel van der Kolk M.D.</td><td>The Body Keeps the Score: Brain, Mind, and Body in the Healing of Trauma</td></tr><tr><td>Bill Martin Jr.</td><td>Brown Bear, Brown Bear, What Do You See?</td></tr><tr><td>Bill O'Reilly</td><td>Killing Lincoln: The Shocking Assassination that Changed America Forever (Bill O'Reilly's Killing Series)</td></tr><tr><td>Bill O'Reilly</td><td>Killing Patton: The Strange Death of World War II's Most Audacious General (Bill O'Reilly's Killing Series)</td></tr><tr><td>Bill O'Reilly</td><td>Killing Kennedy: The End of Camelot</td></tr><tr><td>Bill O'Reilly</td><td>Killing the Rising Sun: How America Vanquished World War II Japan (Bill O'Reilly's Killing Series)</td></tr><tr><td>Bill O'Reilly</td><td>Killing Reagan: The Violent Assault That Changed a Presidency (Bill O'Reilly's Killing Series)</td></tr><tr><td>Bill O'Reilly</td><td>Killing Jesus (Bill O'Reilly's Killing Series)</td></tr><tr><td>Bill Simmons</td><td>The Book of Basketball: The NBA According to The Sports Guy</td></tr><tr><td>Blue Star Coloring</td><td>Adult Coloring Book: Stress Relieving Animal Designs</td></tr><tr><td>Blue Star Coloring</td><td>Adult Coloring Book: Stress Relieving Patterns</td></tr><tr><td>Bob Woodward</td><td>Fear: Trump in the White House</td></tr><tr><td>Brandon Stanton</td><td>Humans of New York</td></tr><tr><td>Brandon Stanton</td><td>Humans of New York : Stories</td></tr><tr><td>Brené Brown</td><td>Daring Greatly: How the Courage to Be Vulnerable Transforms the Way We Live, Love, Parent, and Lead</td></tr><tr><td>Brian Kilmeade</td><td>George Washington's Secret Six: The Spy Ring That Saved the American Revolution</td></tr><tr><td>Bruce Springsteen</td><td>Born to Run</td></tr><tr><td>Carol S. Dweck</td><td>Mindset: The New Psychology of Success</td></tr><tr><td>Celeste Ng</td><td>Little Fires Everywhere</td></tr><tr><td>Charlaine Harris</td><td>Dead in the Family (Sookie Stackhouse/True Blood, Book 10)</td></tr><tr><td>Charlaine Harris</td><td>Dead Reckoning (Sookie Stackhouse/True Blood, Book 11)</td></tr><tr><td>Charlaine Harris</td><td>Dead And Gone: A Sookie Stackhouse Novel (Sookie Stackhouse/True Blood)</td></tr><tr><td>Charlaine Harris</td><td>Sookie Stackhouse</td></tr><tr><td>Charles Duhigg</td><td>The Power of Habit: Why We Do What We Do in Life and Business</td></tr><tr><td>Charles Krauthammer</td><td>Things That Matter: Three Decades of Passions, Pastimes and Politics [Deckled Edge]</td></tr><tr><td>Cheryl Strayed</td><td>Wild: From Lost to Found on the Pacific Crest Trail</td></tr><tr><td>Chip Gaines</td><td>The Magnolia Story</td></tr><tr><td>Chip Heath</td><td>Switch: How to Change Things When Change Is Hard</td></tr><tr><td>Chris Cleave</td><td>Little Bee: A Novel</td></tr><tr><td>Chris Kyle</td><td>American Sniper: The Autobiography of the Most Lethal Sniper in U.S. Military History</td></tr><tr><td>Chrissy Teigen</td><td>Cravings: Recipes for All the Food You Want to Eat: A Cookbook</td></tr><tr><td>Christina Baker Kline</td><td>Orphan Train</td></tr><tr><td>Christopher Paolini</td><td>Inheritance: Book IV (Inheritance Cycle)</td></tr><tr><td>Coloring Books for Adults</td><td>Adult Coloring Books: A Coloring Book for Adults Featuring Mandalas and Henna Inspired Flowers, Animals, and Paisley…</td></tr><tr><td>Craig Smith</td><td>The Wonky Donkey</td></tr><tr><td>Crispin Boyer</td><td>National Geographic Kids Why?: Over 1,111 Answers to Everything</td></tr><tr><td>DK</td><td>Ultimate Sticker Book: Frozen: More Than 60 Reusable Full-Color Stickers</td></tr><tr><td>DK</td><td>Baby Touch and Feel: Animals</td></tr><tr><td>Dale Carnegie</td><td>How to Win Friends & Influence People</td></tr><tr><td>Dan Brown</td><td>The Lost Symbol</td></tr><tr><td>Dan Brown</td><td>Origin: A Novel (Robert Langdon)</td></tr><tr><td>Dan Brown</td><td>Inferno</td></tr><tr><td>Daniel H. Pink</td><td>Drive: The Surprising Truth About What Motivates Us</td></tr><tr><td>Daniel James Brown</td><td>The Boys in the Boat: Nine Americans and Their Epic Quest for Gold at the 1936 Berlin Olympics</td></tr><tr><td>Daniel Kahneman</td><td>Thinking, Fast and Slow</td></tr><tr><td>Daniel Lipkowitz</td><td>The Lego Ideas Book: Unlock Your Imagination</td></tr><tr><td>Dav Pilkey</td><td>Dog Man: A Tale of Two Kitties: From the Creator of Captain Underpants (Dog Man #3)</td></tr><tr><td>Dav Pilkey</td><td>Dog Man: For Whom the Ball Rolls: From the Creator of Captain Underpants (Dog Man #7)</td></tr><tr><td>Dav Pilkey</td><td>Dog Man: Fetch-22: From the Creator of Captain Underpants (Dog Man #8)</td></tr><tr><td>Dav Pilkey</td><td>Dog Man: Lord of the Fleas: From the Creator of Captain Underpants (Dog Man #5)</td></tr><tr><td>Dav Pilkey</td><td>Dog Man: Brawl of the Wild: From the Creator of Captain Underpants (Dog Man #6)</td></tr><tr><td>Dav Pilkey</td><td>Dog Man and Cat Kid: From the Creator of Captain Underpants (Dog Man #4)</td></tr><tr><td>Dave Ramsey</td><td>The Total Money Makeover: Classic Edition: A Proven Plan for Financial Fitness</td></tr><tr><td>David Goggins</td><td>Can't Hurt Me: Master Your Mind and Defy the Odds</td></tr><tr><td>David Grann</td><td>Killers of the Flower Moon: The Osage Murders and the Birth of the FBI</td></tr><tr><td>David McCullough</td><td>The Wright Brothers</td></tr><tr><td>David Perlmutter MD</td><td>Grain Brain: The Surprising Truth about Wheat, Carbs, and Sugar--Your Brain's Silent Killers</td></tr><tr><td>David Platt</td><td>Radical: Taking Back Your Faith from the American Dream</td></tr><tr><td>David Zinczenko</td><td>Eat This Not That! Supermarket Survival Guide: The No-Diet Weight Loss Solution</td></tr><tr><td>David Zinczenko</td><td>Eat This, Not That! Thousands of Simple Food Swaps that Can Save You 10, 20, 30 Pounds--or More!</td></tr><tr><td>Deborah Diesen</td><td>The Pout-Pout Fish</td></tr><tr><td>Delegates of the Constitutional</td><td>The Constitution of the United States</td></tr><tr><td>Delia Owens</td><td>Where the Crawdads Sing</td></tr><tr><td>Dinah Bucholz</td><td>The Unofficial Harry Potter Cookbook: From Cauldron Cakes to Knickerbocker Glory--More Than 150 Magical Recipes for…</td></tr><tr><td>Don Miguel Ruiz</td><td>The Four Agreements: A Practical Guide to Personal Freedom (A Toltec Wisdom Book)</td></tr><tr><td>Donna Tartt</td><td>The Goldfinch: A Novel (Pulitzer Prize for Fiction)</td></tr><tr><td>Doug Lemov</td><td>Teach Like a Champion: 49 Techniques that Put Students on the Path to College</td></tr><tr><td>Dr. Seuss</td><td>Oh, the Places You'll Go!</td></tr><tr><td>Dr. Seuss</td><td>What Pet Should I Get? (Classic Seuss)</td></tr><tr><td>Dr. Steven R Gundry MD</td><td>The Plant Paradox: The Hidden Dangers in \"Healthy\" Foods That Cause Disease and Weight Gain</td></tr><tr><td>Dr. Steven R Gundry MD</td><td>The Plant Paradox Cookbook: 100 Delicious Recipes to Help You Lose Weight, Heal Your Gut, and Live Lectin-Free</td></tr><tr><td>Drew Daywalt</td><td>The Day the Crayons Quit</td></tr><tr><td>E L James</td><td>Fifty Shades of Grey: Book One of the Fifty Shades Trilogy (Fifty Shades of Grey Series)</td></tr><tr><td>E L James</td><td>Fifty Shades Darker</td></tr><tr><td>E L James</td><td>Fifty Shades Freed: Book Three of the Fifty Shades Trilogy (Fifty Shades of Grey Series) (English Edition)</td></tr><tr><td>E L James</td><td>Fifty Shades Trilogy (Fifty Shades of Grey / Fifty Shades Darker / Fifty Shades Freed)</td></tr><tr><td>E L James</td><td>Grey: Fifty Shades of Grey as Told by Christian (Fifty Shades of Grey Series)</td></tr><tr><td>Eben Alexander</td><td>Proof of Heaven: A Neurosurgeon's Journey into the Afterlife</td></tr><tr><td>Edward Klein</td><td>The Amateur</td></tr><tr><td>Edward M. Kennedy</td><td>True Compass: A Memoir</td></tr><tr><td>Elie Wiesel</td><td>Night (Night)</td></tr><tr><td>Elizabeth Strout</td><td>Olive Kitteridge</td></tr><tr><td>Emily Winfield Martin</td><td>The Wonderful Things You Will Be</td></tr><tr><td>Eric Carle</td><td>The Very Hungry Caterpillar</td></tr><tr><td>Eric Larson</td><td>In the Garden of Beasts: Love, Terror, and an American Family in Hitler's Berlin</td></tr><tr><td>Ernest Cline</td><td>Ready Player One: A Novel</td></tr><tr><td>F. A. Hayek</td><td>The Road to Serfdom: Text and Documents--The Definitive Edition (The Collected Works of F. A. Hayek, Volume 2)</td></tr><tr><td>F. Scott Fitzgerald</td><td>The Great Gatsby</td></tr><tr><td>Francis Chan</td><td>Crazy Love: Overwhelmed by a Relentless God</td></tr><tr><td>Fredrik Backman</td><td>A Man Called Ove: A Novel</td></tr><tr><td>Gallup</td><td>StrengthsFinder 2.0</td></tr><tr><td>Garth Stein</td><td>The Art of Racing in the Rain: A Novel</td></tr><tr><td>Gary Chapman</td><td>The 5 Love Languages: The Secret to Love that Lasts</td></tr><tr><td>Gary Chapman</td><td>The Five Love Languages: How to Express Heartfelt Commitment to Your Mate</td></tr><tr><td>Gary Chapman</td><td>The 5 Love Languages: The Secret to Love That Lasts</td></tr><tr><td>Gayle Forman</td><td>If I Stay</td></tr><tr><td>Geneen Roth</td><td>Women Food and God: An Unexpected Path to Almost Everything</td></tr><tr><td>George Orwell</td><td>1984 (Signet Classics)</td></tr><tr><td>George R. R. Martin</td><td>A Dance with Dragons (A Song of Ice and Fire)</td></tr><tr><td>George R. R. Martin</td><td>A Game of Thrones / A Clash of Kings / A Storm of Swords / A Feast of Crows / A Dance with Dragons</td></tr><tr><td>George R.R. Martin</td><td>Game of Thrones Boxed Set: A Game of Thrones/A Clash of Kings/A Storm of Swords/A Feast for Crows</td></tr><tr><td>George W. Bush</td><td>Decision Points</td></tr><tr><td>Giles Andreae</td><td>Giraffes Can't Dance</td></tr><tr><td>Gillian Flynn</td><td>Gone Girl</td></tr><tr><td>Glenn Beck</td><td>Glenn Beck's Common Sense: The Case Against an Out-of-Control Government, Inspired by Thomas Paine</td></tr><tr><td>Glenn Beck</td><td>Broke: The Plan to Restore Our Trust, Truth and Treasure</td></tr><tr><td>Glenn Beck</td><td>Arguing with Idiots: How to Stop Small Minds and Big Government</td></tr><tr><td>Golden Books</td><td>Puppy Birthday to You! (Paw Patrol) (Little Golden Book)</td></tr><tr><td>Greg Mortenson</td><td>Three Cups of Tea: One Man's Mission to Promote Peace - One School at a Time</td></tr><tr><td>Harper Lee</td><td>To Kill a Mockingbird</td></tr><tr><td>Harper Lee</td><td>Go Set a Watchman: A Novel</td></tr><tr><td>Heidi Murkoff</td><td>What to Expect When You're Expecting</td></tr><tr><td>Hillary Rodham Clinton</td><td>What Happened</td></tr><tr><td>Hopscotch Girls</td><td>I Am Confident, Brave & Beautiful: A Coloring Book for Girls</td></tr><tr><td>Howard Stern</td><td>Howard Stern Comes Again</td></tr><tr><td>Ian K. Smith M.D.</td><td>Shred: The Revolutionary Diet: 6 Weeks 4 Inches 2 Sizes</td></tr><tr><td>Ina Garten</td><td>Barefoot Contessa Foolproof: Recipes You Can Trust: A Cookbook</td></tr><tr><td>Ina Garten</td><td>Make It Ahead: A Barefoot Contessa Cookbook</td></tr><tr><td>Ina Garten</td><td>Barefoot Contessa, How Easy Is That?: Fabulous Recipes & Easy Tips</td></tr><tr><td>J. D. Vance</td><td>Hillbilly Elegy: A Memoir of a Family and Culture in Crisis</td></tr><tr><td>J. K. Rowling</td><td>Harry Potter Paperback Box Set (Books 1-7)</td></tr><tr><td>J. K. Rowling</td><td>Harry Potter and the Goblet of Fire: The Illustrated Edition (Harry Potter, Book 4) (4)</td></tr><tr><td>J.K. Rowling</td><td>Fantastic Beasts and Where to Find Them: The Original Screenplay (Harry Potter)</td></tr><tr><td>J.K. Rowling</td><td>Harry Potter and the Chamber of Secrets: The Illustrated Edition (Harry Potter, Book 2)</td></tr><tr><td>J.K. Rowling</td><td>Harry Potter and the Sorcerer's Stone: The Illustrated Edition (Harry Potter, Book 1)</td></tr><tr><td>J.K. Rowling</td><td>Harry Potter and the Cursed Child, Parts 1 & 2, Special Rehearsal Edition Script</td></tr><tr><td>J.K. Rowling</td><td>The Casual Vacancy</td></tr><tr><td>J.K. Rowling</td><td>Harry Potter and the Prisoner of Azkaban: The Illustrated Edition (Harry Potter, Book 3)</td></tr><tr><td>JJ Smith</td><td>10-Day Green Smoothie Cleanse</td></tr><tr><td>James Comey</td><td>A Higher Loyalty: Truth, Lies, and Leadership</td></tr><tr><td>James Dashner</td><td>The Maze Runner (Book 1)</td></tr><tr><td>James Patterson</td><td>The President Is Missing: A Novel</td></tr><tr><td>James Patterson</td><td>I, Alex Cross</td></tr><tr><td>Jay Asher</td><td>Thirteen Reasons Why</td></tr><tr><td>Jaycee Dugard</td><td>A Stolen Life: A Memoir</td></tr><tr><td>Jeff Kinney</td><td>Cabin Fever (Diary of a Wimpy Kid, Book 6)</td></tr><tr><td>Jeff Kinney</td><td>Wrecking Ball (Diary of a Wimpy Kid Book 14)</td></tr><tr><td>Jeff Kinney</td><td>The Meltdown (Diary of a Wimpy Kid Book 13)</td></tr><tr><td>Jeff Kinney</td><td>The Getaway</td></tr><tr><td>Jeff Kinney</td><td>The Third Wheel (Diary of a Wimpy Kid, Book 7)</td></tr><tr><td>Jeff Kinney</td><td>Old School (Diary of a Wimpy Kid #10)</td></tr><tr><td>Jeff Kinney</td><td>Diary of a Wimpy Kid: The Last Straw (Book 3)</td></tr><tr><td>Jeff Kinney</td><td>Double Down (Diary of a Wimpy Kid #11)</td></tr><tr><td>Jeff Kinney</td><td>Diary of a Wimpy Kid: Hard Luck, Book 8</td></tr><tr><td>Jeff Kinney</td><td>Diary of a Wimpy Kid: The Long Haul</td></tr><tr><td>Jeff Kinney</td><td>The Ugly Truth (Diary of a Wimpy Kid, Book 5)</td></tr><tr><td>Jeff Kinney</td><td>Dog Days (Diary of a Wimpy Kid, Book 4) (Volume 4)</td></tr><tr><td>Jen Sincero</td><td>You Are a Badass: How to Stop Doubting Your Greatness and Start Living an Awesome Life</td></tr><tr><td>Jennifer Smith</td><td>Instant Pot Pressure Cooker Cookbook: 500 Everyday Recipes for Beginners and Advanced Users. Try Easy and Healthy…</td></tr><tr><td>Jill Twiss</td><td>Last Week Tonight with John Oliver Presents A Day in the Life of Marlon Bundo (Better Bundo Book, LGBT Childrens Book)</td></tr><tr><td>Jim Collins</td><td>Good to Great: Why Some Companies Make the Leap and Others Don't</td></tr><tr><td>Joanna Gaines</td><td>Homebody: A Guide to Creating Spaces You Never Want to Leave</td></tr><tr><td>Joanna Gaines</td><td>Magnolia Table: A Collection of Recipes for Gathering</td></tr><tr><td>Joel Fuhrman MD</td><td>Eat to Live: The Amazing Nutrient-Rich Program for Fast and Sustained Weight Loss, Revised Edition</td></tr><tr><td>Johanna Basford</td><td>Enchanted Forest: An Inky Quest and Coloring book (Activity Books, Mindfulness and Meditation, Illustrated Floral Prints…</td></tr><tr><td>Johanna Basford</td><td>Secret Garden: An Inky Treasure Hunt and Coloring Book (For Adults, mindfulness coloring)</td></tr><tr><td>John Green</td><td>The Fault in Our Stars</td></tr><tr><td>John Green</td><td>Looking for Alaska</td></tr><tr><td>John Grisham</td><td>The Guardians: A Novel</td></tr><tr><td>John Grisham</td><td>The Confession: A Novel</td></tr><tr><td>John Grisham</td><td>Sycamore Row (Jake Brigance)</td></tr><tr><td>John Grisham</td><td>The Litigators</td></tr><tr><td>John Grisham</td><td>The Racketeer</td></tr><tr><td>John Heilemann</td><td>Game Change: Obama and the Clintons, McCain and Palin, and the Race of a Lifetime</td></tr><tr><td>Jon Meacham</td><td>Thomas Jefferson: The Art of Power</td></tr><tr><td>Jon Stewart</td><td>The Daily Show with Jon Stewart Presents Earth (The Book): A Visitor's Guide to the Human Race</td></tr><tr><td>Jonathan Cahn</td><td>The Harbinger: The Ancient Mystery that Holds the Secret of America's Future</td></tr><tr><td>Jordan B. Peterson</td><td>12 Rules for Life: An Antidote to Chaos</td></tr><tr><td>Julia Child</td><td>Mastering the Art of French Cooking, Vol. 2</td></tr><tr><td>Justin Halpern</td><td>Sh*t My Dad Says</td></tr><tr><td>Kathryn Stockett</td><td>The Help</td></tr><tr><td>Keith Richards</td><td>Life</td></tr><tr><td>Ken Follett</td><td>Winter of the World: Book Two of the Century Trilogy</td></tr><tr><td>Kevin Kwan</td><td>Crazy Rich Asians (Crazy Rich Asians Trilogy)</td></tr><tr><td>Khaled Hosseini</td><td>And the Mountains Echoed</td></tr><tr><td>Kristin Hannah</td><td>The Nightingale: A Novel</td></tr><tr><td>Larry Schweikart</td><td>A Patriot's History of the United States: From Columbus's Great Discovery to the War on Terror</td></tr><tr><td>Laura Hillenbrand</td><td>Unbroken: A World War II Story of Survival, Resilience, and Redemption</td></tr><tr><td>Laurel Randolph</td><td>The Instant Pot Electric Pressure Cooker Cookbook: Easy Recipes for Fast & Healthy Meals</td></tr><tr><td>Lin-Manuel Miranda</td><td>Hamilton: The Revolution</td></tr><tr><td>Lysa TerKeurst</td><td>Uninvited: Living Loved When You Feel Less Than, Left Out, and Lonely</td></tr><tr><td>Lysa TerKeurst</td><td>It's Not Supposed to Be This Way: Finding Unexpected Strength When Disappointments Leave You Shattered</td></tr><tr><td>M Prefontaine</td><td>Difficult Riddles For Smart Kids: 300 Difficult Riddles And Brain Teasers Families Will Love (Books for Smart Kids)</td></tr><tr><td>Madeleine L'Engle</td><td>A Wrinkle in Time (Time Quintet)</td></tr><tr><td>Malcolm Gladwell</td><td>The Tipping Point: How Little Things Can Make a Big Difference</td></tr><tr><td>Malcolm Gladwell</td><td>Outliers: The Story of Success</td></tr><tr><td>Malcolm Gladwell</td><td>David and Goliath: Underdogs, Misfits, and the Art of Battling Giants</td></tr><tr><td>Margaret Atwood</td><td>The Handmaid's Tale</td></tr><tr><td>Margaret Wise Brown</td><td>Goodnight Moon</td></tr><tr><td>Marie Kondō</td><td>The Life-Changing Magic of Tidying Up: The Japanese Art of Decluttering and Organizing</td></tr><tr><td>Marjorie Sarnat</td><td>Creative Haven Creative Cats Coloring Book (Adult Coloring)</td></tr><tr><td>Marjorie Sarnat</td><td>Creative Haven Owls Coloring Book (Adult Coloring)</td></tr><tr><td>Mark Hyman M.D.</td><td>The Blood Sugar Solution: The UltraHealthy Program for Losing Weight, Preventing Disease, and Feeling Great Now!</td></tr><tr><td>Mark Manson</td><td>The Subtle Art of Not Giving a F*ck: A Counterintuitive Approach to Living a Good Life</td></tr><tr><td>Mark Owen</td><td>No Easy Day: The Autobiography of a Navy Seal: The Firsthand Account of the Mission That Killed Osama Bin Laden</td></tr><tr><td>Mark R. Levin</td><td>Unfreedom of the Press</td></tr><tr><td>Mark R. Levin</td><td>Liberty and Tyranny: A Conservative Manifesto</td></tr><tr><td>Mark Twain</td><td>Autobiography of Mark Twain, Vol. 1</td></tr><tr><td>Markus Zusak</td><td>The Book Thief</td></tr><tr><td>Marty Noble</td><td>Dover Creative Haven Art Nouveau Animal Designs Coloring Book (Creative Haven Coloring Books)</td></tr><tr><td>Mary Ann Shaffer</td><td>The Guernsey Literary and Potato Peel Pie Society</td></tr><tr><td>Maurice Sendak</td><td>Where the Wild Things Are</td></tr><tr><td>Melissa Hartwig Urban</td><td>The Whole30: The 30-Day Guide to Total Health and Food Freedom</td></tr><tr><td>Michael Lewis</td><td>The Big Short: Inside the Doomsday Machine</td></tr><tr><td>Michael Pollan</td><td>Food Rules: An Eater's Manual</td></tr><tr><td>Michael Wolff</td><td>Fire and Fury: Inside the Trump White House</td></tr><tr><td>Michelle Obama</td><td>Becoming</td></tr><tr><td>Mike Moreno</td><td>The 17 Day Diet: A Doctor's Plan Designed for Rapid Results</td></tr><tr><td>Mitch Albom</td><td>Have a Little Faith: A True Story</td></tr><tr><td>Muriel Barbery</td><td>The Elegance of the Hedgehog</td></tr><tr><td>Naomi Kleinberg</td><td>P is for Potty! (Sesame Street) (Lift-the-Flap)</td></tr><tr><td>Nathan W. Pyle</td><td>Strange Planet (Strange Planet Series)</td></tr><tr><td>National Geographic Kids</td><td>5,000 Awesome Facts (About Everything!) (National Geographic Kids)</td></tr><tr><td>Neil deGrasse Tyson</td><td>Astrophysics for People in a Hurry</td></tr><tr><td>Paper Peony Press</td><td>Lettering and Modern Calligraphy: A Beginner's Guide: Learn Hand Lettering and Brush Lettering</td></tr><tr><td>Patrick Lencioni</td><td>The Five Dysfunctions of a Team: A Leadership Fable</td></tr><tr><td>Patrick Thorpe</td><td>The Legend of Zelda: Hyrule Historia</td></tr><tr><td>Paul Kalanithi</td><td>When Breath Becomes Air</td></tr><tr><td>Paula Hawkins</td><td>The Girl on the Train</td></tr><tr><td>Paula McLain</td><td>The Paris Wife: A Novel</td></tr><tr><td>Paulo Coelho</td><td>The Alchemist</td></tr><tr><td>Pete Souza</td><td>Obama: An Intimate Portrait</td></tr><tr><td>Peter A. Lillback</td><td>George Washington's Sacred Fire</td></tr><tr><td>Phil Robertson</td><td>Happy, Happy, Happy: My Life and Legacy as the Duck Commander</td></tr><tr><td>Pierre Dukan</td><td>The Dukan Diet: 2 Steps to Lose the Weight, 2 Steps to Keep It Off Forever</td></tr><tr><td>Pretty Simple Press</td><td>Good Days Start With Gratitude: A 52 Week Guide To Cultivate An Attitude Of Gratitude: Gratitude Journal</td></tr><tr><td>R. J. Palacio</td><td>Wonder</td></tr><tr><td>RH Disney</td><td>JOURNEY TO THE ICE P</td></tr><tr><td>RH Disney</td><td>Frozen (Little Golden Book)</td></tr><tr><td>Rachel Hollis</td><td>Girl, Stop Apologizing: A Shame-Free Plan for Embracing and Achieving Your Goals</td></tr><tr><td>Rachel Hollis</td><td>Girl, Wash Your Face: Stop Believing the Lies About Who You Are So You Can Become Who You Were Meant to Be</td></tr><tr><td>Raina Telgemeier</td><td>Guts</td></tr><tr><td>Randall Munroe</td><td>What If?: Serious Scientific Answers to Absurd Hypothetical Questions</td></tr><tr><td>Randy Pausch</td><td>The Last Lecture</td></tr><tr><td>Ray Bradbury</td><td>Fahrenheit 451</td></tr><tr><td>Rebecca Skloot</td><td>The Immortal Life of Henrietta Lacks</td></tr><tr><td>Ree Drummond</td><td>The Pioneer Woman Cooks: Dinnertime - Comfort Classics, Freezer Food, 16-minute Meals, and Other Delicious Ways to Solve…</td></tr><tr><td>Ree Drummond</td><td>The Pioneer Woman Cooks: A Year of Holidays: 140 Step-by-Step Recipes for Simple, Scrumptious Celebrations</td></tr><tr><td>Ree Drummond</td><td>The Pioneer Woman Cooks: Food from My Frontier</td></tr><tr><td>Rick Riordan</td><td>The Mark of Athena (Heroes of Olympus, Book 3)</td></tr><tr><td>Rick Riordan</td><td>Percy Jackson and the Olympians Paperback Boxed Set (Books 1-3)</td></tr><tr><td>Rick Riordan</td><td>The Serpent's Shadow (The Kane Chronicles, Book 3)</td></tr><tr><td>Rick Riordan</td><td>The Last Olympian (Percy Jackson and the Olympians, Book 5)</td></tr><tr><td>Rick Riordan</td><td>The Blood of Olympus (The Heroes of Olympus (5))</td></tr><tr><td>Rick Riordan</td><td>The Red Pyramid (The Kane Chronicles, Book 1)</td></tr><tr><td>Rick Riordan</td><td>The House of Hades (Heroes of Olympus, Book 4)</td></tr><tr><td>Rick Riordan</td><td>The Lost Hero (Heroes of Olympus, Book 1)</td></tr><tr><td>Rick Riordan</td><td>The Throne of Fire (The Kane Chronicles, Book 2)</td></tr><tr><td>Rick Riordan</td><td>The Son of Neptune (Heroes of Olympus, Book 2)</td></tr><tr><td>Rob Bell</td><td>Love Wins: A Book About Heaven, Hell, and the Fate of Every Person Who Ever Lived</td></tr><tr><td>Rob Elliott</td><td>Knock-Knock Jokes for Kids</td></tr><tr><td>Rob Elliott</td><td>Laugh-Out-Loud Jokes for Kids</td></tr><tr><td>Robert Jordan</td><td>Towers of Midnight (Wheel of Time, Book Thirteen)</td></tr><tr><td>Robert Munsch</td><td>Love You Forever</td></tr><tr><td>Rod Campbell</td><td>Dear Zoo: A Lift-the-Flap Book</td></tr><tr><td>Roger Priddy</td><td>First 100 Words</td></tr><tr><td>Ron Chernow</td><td>Alexander Hamilton</td></tr><tr><td>Rupi Kaur</td><td>Milk and Honey</td></tr><tr><td>Rupi Kaur</td><td>The Sun and Her Flowers</td></tr><tr><td>Rush Limbaugh</td><td>Rush Revere and the First Patriots: Time-Travel Adventures With Exceptional Americans (2)</td></tr><tr><td>Rush Limbaugh</td><td>Rush Revere and the Brave Pilgrims: Time-Travel Adventures with Exceptional Americans (1)</td></tr><tr><td>Samin Nosrat</td><td>Salt, Fat, Acid, Heat: Mastering the Elements of Good Cooking</td></tr><tr><td>Sandra Boynton</td><td>The Going-To-Bed Book</td></tr><tr><td>Sara Gruen</td><td>Water for Elephants: A Novel</td></tr><tr><td>Sarah Palin</td><td>Going Rogue: An American Life</td></tr><tr><td>Sarah Young</td><td>Jesus Calling: Enjoying Peace in His Presence (with Scripture References)</td></tr><tr><td>Sasha O'Hara</td><td>Calm the F*ck Down: An Irreverent Adult Coloring Book (Irreverent Book Series)</td></tr><tr><td>Scholastic</td><td>Pokémon Deluxe Essential Handbook: The Need-to-Know Stats and Facts on Over 700 Pokémon</td></tr><tr><td>Scholastic</td><td>Harry Potter Coloring Book</td></tr><tr><td>School Zone</td><td>School Zone - Big Preschool Workbook - Ages 4 and Up, Colors, Shapes, Numbers 1-10, Alphabet, Pre-Writing, Pre-Reading…</td></tr><tr><td>Sherri Duskey Rinker</td><td>Goodnight, Goodnight Construction Site (Hardcover Books for Toddlers, Preschool Books for Kids)</td></tr><tr><td>Sheryl Sandberg</td><td>Option B: Facing Adversity, Building Resilience, and Finding Joy</td></tr><tr><td>Sheryl Sandberg</td><td>Lean In: Women, Work, and the Will to Lead</td></tr><tr><td>Silly Bear</td><td>Unicorn Coloring Book: For Kids Ages 4-8 (US Edition) (Silly Bear Coloring Books)</td></tr><tr><td>Stephen Kendrick</td><td>The Love Dare</td></tr><tr><td>Stephen King</td><td>Doctor Sleep: A Novel</td></tr><tr><td>Stephen King</td><td>Under the Dome: A Novel</td></tr><tr><td>Stephen King</td><td>Joyland (Hard Case Crime)</td></tr><tr><td>Stephen King</td><td>11/22/63: A Novel</td></tr><tr><td>Stephen R. Covey</td><td>The 7 Habits of Highly Effective People: Powerful Lessons in Personal Change</td></tr><tr><td>Stephenie Meyer</td><td>New Moon (The Twilight Saga)</td></tr><tr><td>Stephenie Meyer</td><td>Eclipse (Twilight)</td></tr><tr><td>Stephenie Meyer</td><td>Breaking Dawn (The Twilight Saga, Book 4)</td></tr><tr><td>Stephenie Meyer</td><td>The Short Second Life of Bree Tanner: An Eclipse Novella (The Twilight Saga)</td></tr><tr><td>Stephenie Meyer</td><td>Eclipse (Twilight Sagas)</td></tr><tr><td>Stephenie Meyer</td><td>Twilight (The Twilight Saga, Book 1)</td></tr><tr><td>Stephenie Meyer</td><td>The Twilight Saga Collection</td></tr><tr><td>Steve Harvey</td><td>Act Like a Lady, Think Like a Man: What Men Really Think About Love, Relationships, Intimacy, and Commitment</td></tr><tr><td>Steven D. Levitt</td><td>Super Freakonomics: Global Cooling, Patriotic Prostitutes, and Why Suicide Bombers Should Buy Life Insurance</td></tr><tr><td>Stieg Larsson</td><td>The Girl Who Kicked the Hornet's Nest (Millennium Trilogy)</td></tr><tr><td>Stieg Larsson</td><td>The Girl Who Played with Fire (Millennium)</td></tr><tr><td>Stieg Larsson</td><td>The Girl Who Played with Fire (Millennium Series)</td></tr><tr><td>Stieg Larsson</td><td>The Girl with the Dragon Tattoo (Millennium Series)</td></tr><tr><td>Susan Cain</td><td>Quiet: The Power of Introverts in a World That Can't Stop Talking</td></tr><tr><td>Suzanne Collins</td><td>The Hunger Games Trilogy Boxed Set (1)</td></tr><tr><td>Suzanne Collins</td><td>Catching Fire (The Hunger Games)</td></tr><tr><td>Suzanne Collins</td><td>The Hunger Games (Book 1)</td></tr><tr><td>Suzanne Collins</td><td>Mockingjay (The Hunger Games)</td></tr><tr><td>Suzanne Collins</td><td>The Hunger Games</td></tr><tr><td>Ta-Nehisi Coates</td><td>Between the World and Me</td></tr><tr><td>Tara Westover</td><td>Educated: A Memoir</td></tr><tr><td>Tatiana de Rosnay</td><td>Sarah's Key</td></tr><tr><td>The College Board</td><td>The Official SAT Study Guide</td></tr><tr><td>The College Board</td><td>The Official SAT Study Guide, 2016 Edition (Official Study Guide for the New Sat)</td></tr><tr><td>The Staff of The Late Show with</td><td>Whose Boat Is This Boat?: Comments That Don't Help in the Aftermath of a Hurricane</td></tr><tr><td>The Washington Post</td><td>The Mueller Report</td></tr><tr><td>Thomas Campbell</td><td>The China Study: The Most Comprehensive Study of Nutrition Ever Conducted And the Startling Implications for Diet…</td></tr><tr><td>Thomas Piketty</td><td>Capital in the Twenty First Century</td></tr><tr><td>Thug Kitchen</td><td>Thug Kitchen: The Official Cookbook: Eat Like You Give a F*ck (Thug Kitchen Cookbooks)</td></tr><tr><td>Timothy Ferriss</td><td>Tools of Titans: The Tactics, Routines, and Habits of Billionaires, Icons, and World-Class Performers</td></tr><tr><td>Timothy Ferriss</td><td>The 4 Hour Body: An Uncommon Guide to Rapid Fat Loss, Incredible Sex and Becoming Superhuman</td></tr><tr><td>Tina Fey</td><td>Tina Fey: Bossypants</td></tr><tr><td>Todd Burpo</td><td>Heaven is for Real: A Little Boy's Astounding Story of His Trip to Heaven and Back</td></tr><tr><td>Tony Hsieh</td><td>Delivering Happiness: A Path to Profits, Passion, and Purpose</td></tr><tr><td>Tucker Carlson</td><td>Ship of Fools: How a Selfish Ruling Class Is Bringing America to the Brink of Revolution</td></tr><tr><td>Veronica Roth</td><td>Divergent</td></tr><tr><td>Veronica Roth</td><td>Divergent / Insurgent</td></tr><tr><td>Veronica Roth</td><td>Allegiant</td></tr><tr><td>W. Cleon Skousen</td><td>The 5000 Year Leap</td></tr><tr><td>Walter Isaacson</td><td>Steve Jobs</td></tr><tr><td>Walter Isaacson</td><td>Leonardo da Vinci</td></tr><tr><td>William Davis</td><td>Wheat Belly: Lose the Wheat, Lose the Weight, and Find Your Path Back to Health</td></tr><tr><td>William P. Young</td><td>The Shack: Where Tragedy Confronts Eternity</td></tr><tr><td>Wizards RPG Team</td><td>Player's Handbook (Dungeons & Dragons)</td></tr><tr><td>Zhi Gang Sha</td><td>Soul Healing Miracles: Ancient and New Sacred Wisdom, Knowledge, and Practical Techniques for Healing the Spiritual…</td></tr><tr><td>Zhi Gang Sha</td><td>Divine Soul Mind Body Healing and Transmission System: The Divine Way to Heal You, Humanity, Mother Earth, and All…</td></tr></tbody></table></div>"
      ]
     },
     "metadata": {
      "application/vnd.databricks.v1+output": {
       "addedWidgets": {},
       "aggData": [],
       "aggError": "",
       "aggOverflow": false,
       "aggSchema": [],
       "aggSeriesLimitReached": false,
       "aggType": "",
       "arguments": {},
       "columnCustomDisplayInfos": {},
       "data": [
        [
         "Abraham Verghese",
         "Cutting for Stone"
        ],
        [
         "Adam Gasiewski",
         "Milk and Vine: Inspirational Quotes From Classic Vines"
        ],
        [
         "Adam Mansbach",
         "Go the F**k to Sleep"
        ],
        [
         "Adir Levy",
         "What Should Danny Do? (The Power to Choose Series)"
        ],
        [
         "Admiral William H. McRaven",
         "Make Your Bed: Little Things That Can Change Your Life...And Maybe the World"
        ],
        [
         "Adult Coloring Book Designs",
         "Adult Coloring Book Designs: Stress Relief Coloring Book: Garden Designs, Mandalas, Animals, and Paisley Patterns"
        ],
        [
         "Alan Moore",
         "Watchmen"
        ],
        [
         "Alex Michaelides",
         "The Silent Patient"
        ],
        [
         "Alice Schertle",
         "Little Blue Truck"
        ],
        [
         "Allie Brosh",
         "Hyperbole and a Half: Unfortunate Situations, Flawed Coping Mechanisms, Mayhem, and Other Things That Happened"
        ],
        [
         "American Psychiatric Association",
         "Diagnostic and Statistical Manual of Mental Disorders, 5th Edition: DSM-5"
        ],
        [
         "American Psychological Association",
         "Publication Manual of the American Psychological Association, 6th Edition"
        ],
        [
         "Amor Towles",
         "A Gentleman in Moscow: A Novel"
        ],
        [
         "Amy Ramos",
         "The Complete Ketogenic Diet for Beginners: Your Essential Guide to Living the Keto Lifestyle"
        ],
        [
         "Amy Shields",
         "National Geographic Little Kids First Big Book of Why (National Geographic Little Kids First Big Books)"
        ],
        [
         "Andy Weir",
         "The Martian"
        ],
        [
         "Angie Grace",
         "Balance (Angie's Extreme Stress Menders)"
        ],
        [
         "Angie Thomas",
         "The Hate U Give"
        ],
        [
         "Ann Voskamp",
         "One Thousand Gifts: A Dare to Live Fully Right Where You Are"
        ],
        [
         "Ann Whitford Paul",
         "If Animals Kissed Good Night"
        ],
        [
         "Anthony Bourdain",
         "Kitchen Confidential Updated Edition: Adventures in the Culinary Underbelly (P.S.)"
        ],
        [
         "Anthony Doerr",
         "All the Light We Cannot See"
        ],
        [
         "Atul Gawande",
         "Being Mortal: Medicine and What Matters in the End"
        ],
        [
         "Audrey Niffenegger",
         "The Time Traveler's Wife"
        ],
        [
         "B. J. Novak",
         "The Book with No Pictures"
        ],
        [
         "Bessel van der Kolk M.D.",
         "The Body Keeps the Score: Brain, Mind, and Body in the Healing of Trauma"
        ],
        [
         "Bill Martin Jr.",
         "Brown Bear, Brown Bear, What Do You See?"
        ],
        [
         "Bill O'Reilly",
         "Killing Lincoln: The Shocking Assassination that Changed America Forever (Bill O'Reilly's Killing Series)"
        ],
        [
         "Bill O'Reilly",
         "Killing Patton: The Strange Death of World War II's Most Audacious General (Bill O'Reilly's Killing Series)"
        ],
        [
         "Bill O'Reilly",
         "Killing Kennedy: The End of Camelot"
        ],
        [
         "Bill O'Reilly",
         "Killing the Rising Sun: How America Vanquished World War II Japan (Bill O'Reilly's Killing Series)"
        ],
        [
         "Bill O'Reilly",
         "Killing Reagan: The Violent Assault That Changed a Presidency (Bill O'Reilly's Killing Series)"
        ],
        [
         "Bill O'Reilly",
         "Killing Jesus (Bill O'Reilly's Killing Series)"
        ],
        [
         "Bill Simmons",
         "The Book of Basketball: The NBA According to The Sports Guy"
        ],
        [
         "Blue Star Coloring",
         "Adult Coloring Book: Stress Relieving Animal Designs"
        ],
        [
         "Blue Star Coloring",
         "Adult Coloring Book: Stress Relieving Patterns"
        ],
        [
         "Bob Woodward",
         "Fear: Trump in the White House"
        ],
        [
         "Brandon Stanton",
         "Humans of New York"
        ],
        [
         "Brandon Stanton",
         "Humans of New York : Stories"
        ],
        [
         "Brené Brown",
         "Daring Greatly: How the Courage to Be Vulnerable Transforms the Way We Live, Love, Parent, and Lead"
        ],
        [
         "Brian Kilmeade",
         "George Washington's Secret Six: The Spy Ring That Saved the American Revolution"
        ],
        [
         "Bruce Springsteen",
         "Born to Run"
        ],
        [
         "Carol S. Dweck",
         "Mindset: The New Psychology of Success"
        ],
        [
         "Celeste Ng",
         "Little Fires Everywhere"
        ],
        [
         "Charlaine Harris",
         "Dead in the Family (Sookie Stackhouse/True Blood, Book 10)"
        ],
        [
         "Charlaine Harris",
         "Dead Reckoning (Sookie Stackhouse/True Blood, Book 11)"
        ],
        [
         "Charlaine Harris",
         "Dead And Gone: A Sookie Stackhouse Novel (Sookie Stackhouse/True Blood)"
        ],
        [
         "Charlaine Harris",
         "Sookie Stackhouse"
        ],
        [
         "Charles Duhigg",
         "The Power of Habit: Why We Do What We Do in Life and Business"
        ],
        [
         "Charles Krauthammer",
         "Things That Matter: Three Decades of Passions, Pastimes and Politics [Deckled Edge]"
        ],
        [
         "Cheryl Strayed",
         "Wild: From Lost to Found on the Pacific Crest Trail"
        ],
        [
         "Chip Gaines",
         "The Magnolia Story"
        ],
        [
         "Chip Heath",
         "Switch: How to Change Things When Change Is Hard"
        ],
        [
         "Chris Cleave",
         "Little Bee: A Novel"
        ],
        [
         "Chris Kyle",
         "American Sniper: The Autobiography of the Most Lethal Sniper in U.S. Military History"
        ],
        [
         "Chrissy Teigen",
         "Cravings: Recipes for All the Food You Want to Eat: A Cookbook"
        ],
        [
         "Christina Baker Kline",
         "Orphan Train"
        ],
        [
         "Christopher Paolini",
         "Inheritance: Book IV (Inheritance Cycle)"
        ],
        [
         "Coloring Books for Adults",
         "Adult Coloring Books: A Coloring Book for Adults Featuring Mandalas and Henna Inspired Flowers, Animals, and Paisley…"
        ],
        [
         "Craig Smith",
         "The Wonky Donkey"
        ],
        [
         "Crispin Boyer",
         "National Geographic Kids Why?: Over 1,111 Answers to Everything"
        ],
        [
         "DK",
         "Ultimate Sticker Book: Frozen: More Than 60 Reusable Full-Color Stickers"
        ],
        [
         "DK",
         "Baby Touch and Feel: Animals"
        ],
        [
         "Dale Carnegie",
         "How to Win Friends & Influence People"
        ],
        [
         "Dan Brown",
         "The Lost Symbol"
        ],
        [
         "Dan Brown",
         "Origin: A Novel (Robert Langdon)"
        ],
        [
         "Dan Brown",
         "Inferno"
        ],
        [
         "Daniel H. Pink",
         "Drive: The Surprising Truth About What Motivates Us"
        ],
        [
         "Daniel James Brown",
         "The Boys in the Boat: Nine Americans and Their Epic Quest for Gold at the 1936 Berlin Olympics"
        ],
        [
         "Daniel Kahneman",
         "Thinking, Fast and Slow"
        ],
        [
         "Daniel Lipkowitz",
         "The Lego Ideas Book: Unlock Your Imagination"
        ],
        [
         "Dav Pilkey",
         "Dog Man: A Tale of Two Kitties: From the Creator of Captain Underpants (Dog Man #3)"
        ],
        [
         "Dav Pilkey",
         "Dog Man: For Whom the Ball Rolls: From the Creator of Captain Underpants (Dog Man #7)"
        ],
        [
         "Dav Pilkey",
         "Dog Man: Fetch-22: From the Creator of Captain Underpants (Dog Man #8)"
        ],
        [
         "Dav Pilkey",
         "Dog Man: Lord of the Fleas: From the Creator of Captain Underpants (Dog Man #5)"
        ],
        [
         "Dav Pilkey",
         "Dog Man: Brawl of the Wild: From the Creator of Captain Underpants (Dog Man #6)"
        ],
        [
         "Dav Pilkey",
         "Dog Man and Cat Kid: From the Creator of Captain Underpants (Dog Man #4)"
        ],
        [
         "Dave Ramsey",
         "The Total Money Makeover: Classic Edition: A Proven Plan for Financial Fitness"
        ],
        [
         "David Goggins",
         "Can't Hurt Me: Master Your Mind and Defy the Odds"
        ],
        [
         "David Grann",
         "Killers of the Flower Moon: The Osage Murders and the Birth of the FBI"
        ],
        [
         "David McCullough",
         "The Wright Brothers"
        ],
        [
         "David Perlmutter MD",
         "Grain Brain: The Surprising Truth about Wheat, Carbs, and Sugar--Your Brain's Silent Killers"
        ],
        [
         "David Platt",
         "Radical: Taking Back Your Faith from the American Dream"
        ],
        [
         "David Zinczenko",
         "Eat This Not That! Supermarket Survival Guide: The No-Diet Weight Loss Solution"
        ],
        [
         "David Zinczenko",
         "Eat This, Not That! Thousands of Simple Food Swaps that Can Save You 10, 20, 30 Pounds--or More!"
        ],
        [
         "Deborah Diesen",
         "The Pout-Pout Fish"
        ],
        [
         "Delegates of the Constitutional",
         "The Constitution of the United States"
        ],
        [
         "Delia Owens",
         "Where the Crawdads Sing"
        ],
        [
         "Dinah Bucholz",
         "The Unofficial Harry Potter Cookbook: From Cauldron Cakes to Knickerbocker Glory--More Than 150 Magical Recipes for…"
        ],
        [
         "Don Miguel Ruiz",
         "The Four Agreements: A Practical Guide to Personal Freedom (A Toltec Wisdom Book)"
        ],
        [
         "Donna Tartt",
         "The Goldfinch: A Novel (Pulitzer Prize for Fiction)"
        ],
        [
         "Doug Lemov",
         "Teach Like a Champion: 49 Techniques that Put Students on the Path to College"
        ],
        [
         "Dr. Seuss",
         "Oh, the Places You'll Go!"
        ],
        [
         "Dr. Seuss",
         "What Pet Should I Get? (Classic Seuss)"
        ],
        [
         "Dr. Steven R Gundry MD",
         "The Plant Paradox: The Hidden Dangers in \"Healthy\" Foods That Cause Disease and Weight Gain"
        ],
        [
         "Dr. Steven R Gundry MD",
         "The Plant Paradox Cookbook: 100 Delicious Recipes to Help You Lose Weight, Heal Your Gut, and Live Lectin-Free"
        ],
        [
         "Drew Daywalt",
         "The Day the Crayons Quit"
        ],
        [
         "E L James",
         "Fifty Shades of Grey: Book One of the Fifty Shades Trilogy (Fifty Shades of Grey Series)"
        ],
        [
         "E L James",
         "Fifty Shades Darker"
        ],
        [
         "E L James",
         "Fifty Shades Freed: Book Three of the Fifty Shades Trilogy (Fifty Shades of Grey Series) (English Edition)"
        ],
        [
         "E L James",
         "Fifty Shades Trilogy (Fifty Shades of Grey / Fifty Shades Darker / Fifty Shades Freed)"
        ],
        [
         "E L James",
         "Grey: Fifty Shades of Grey as Told by Christian (Fifty Shades of Grey Series)"
        ],
        [
         "Eben Alexander",
         "Proof of Heaven: A Neurosurgeon's Journey into the Afterlife"
        ],
        [
         "Edward Klein",
         "The Amateur"
        ],
        [
         "Edward M. Kennedy",
         "True Compass: A Memoir"
        ],
        [
         "Elie Wiesel",
         "Night (Night)"
        ],
        [
         "Elizabeth Strout",
         "Olive Kitteridge"
        ],
        [
         "Emily Winfield Martin",
         "The Wonderful Things You Will Be"
        ],
        [
         "Eric Carle",
         "The Very Hungry Caterpillar"
        ],
        [
         "Eric Larson",
         "In the Garden of Beasts: Love, Terror, and an American Family in Hitler's Berlin"
        ],
        [
         "Ernest Cline",
         "Ready Player One: A Novel"
        ],
        [
         "F. A. Hayek",
         "The Road to Serfdom: Text and Documents--The Definitive Edition (The Collected Works of F. A. Hayek, Volume 2)"
        ],
        [
         "F. Scott Fitzgerald",
         "The Great Gatsby"
        ],
        [
         "Francis Chan",
         "Crazy Love: Overwhelmed by a Relentless God"
        ],
        [
         "Fredrik Backman",
         "A Man Called Ove: A Novel"
        ],
        [
         "Gallup",
         "StrengthsFinder 2.0"
        ],
        [
         "Garth Stein",
         "The Art of Racing in the Rain: A Novel"
        ],
        [
         "Gary Chapman",
         "The 5 Love Languages: The Secret to Love that Lasts"
        ],
        [
         "Gary Chapman",
         "The Five Love Languages: How to Express Heartfelt Commitment to Your Mate"
        ],
        [
         "Gary Chapman",
         "The 5 Love Languages: The Secret to Love That Lasts"
        ],
        [
         "Gayle Forman",
         "If I Stay"
        ],
        [
         "Geneen Roth",
         "Women Food and God: An Unexpected Path to Almost Everything"
        ],
        [
         "George Orwell",
         "1984 (Signet Classics)"
        ],
        [
         "George R. R. Martin",
         "A Dance with Dragons (A Song of Ice and Fire)"
        ],
        [
         "George R. R. Martin",
         "A Game of Thrones / A Clash of Kings / A Storm of Swords / A Feast of Crows / A Dance with Dragons"
        ],
        [
         "George R.R. Martin",
         "Game of Thrones Boxed Set: A Game of Thrones/A Clash of Kings/A Storm of Swords/A Feast for Crows"
        ],
        [
         "George W. Bush",
         "Decision Points"
        ],
        [
         "Giles Andreae",
         "Giraffes Can't Dance"
        ],
        [
         "Gillian Flynn",
         "Gone Girl"
        ],
        [
         "Glenn Beck",
         "Glenn Beck's Common Sense: The Case Against an Out-of-Control Government, Inspired by Thomas Paine"
        ],
        [
         "Glenn Beck",
         "Broke: The Plan to Restore Our Trust, Truth and Treasure"
        ],
        [
         "Glenn Beck",
         "Arguing with Idiots: How to Stop Small Minds and Big Government"
        ],
        [
         "Golden Books",
         "Puppy Birthday to You! (Paw Patrol) (Little Golden Book)"
        ],
        [
         "Greg Mortenson",
         "Three Cups of Tea: One Man's Mission to Promote Peace - One School at a Time"
        ],
        [
         "Harper Lee",
         "To Kill a Mockingbird"
        ],
        [
         "Harper Lee",
         "Go Set a Watchman: A Novel"
        ],
        [
         "Heidi Murkoff",
         "What to Expect When You're Expecting"
        ],
        [
         "Hillary Rodham Clinton",
         "What Happened"
        ],
        [
         "Hopscotch Girls",
         "I Am Confident, Brave & Beautiful: A Coloring Book for Girls"
        ],
        [
         "Howard Stern",
         "Howard Stern Comes Again"
        ],
        [
         "Ian K. Smith M.D.",
         "Shred: The Revolutionary Diet: 6 Weeks 4 Inches 2 Sizes"
        ],
        [
         "Ina Garten",
         "Barefoot Contessa Foolproof: Recipes You Can Trust: A Cookbook"
        ],
        [
         "Ina Garten",
         "Make It Ahead: A Barefoot Contessa Cookbook"
        ],
        [
         "Ina Garten",
         "Barefoot Contessa, How Easy Is That?: Fabulous Recipes & Easy Tips"
        ],
        [
         "J. D. Vance",
         "Hillbilly Elegy: A Memoir of a Family and Culture in Crisis"
        ],
        [
         "J. K. Rowling",
         "Harry Potter Paperback Box Set (Books 1-7)"
        ],
        [
         "J. K. Rowling",
         "Harry Potter and the Goblet of Fire: The Illustrated Edition (Harry Potter, Book 4) (4)"
        ],
        [
         "J.K. Rowling",
         "Fantastic Beasts and Where to Find Them: The Original Screenplay (Harry Potter)"
        ],
        [
         "J.K. Rowling",
         "Harry Potter and the Chamber of Secrets: The Illustrated Edition (Harry Potter, Book 2)"
        ],
        [
         "J.K. Rowling",
         "Harry Potter and the Sorcerer's Stone: The Illustrated Edition (Harry Potter, Book 1)"
        ],
        [
         "J.K. Rowling",
         "Harry Potter and the Cursed Child, Parts 1 & 2, Special Rehearsal Edition Script"
        ],
        [
         "J.K. Rowling",
         "The Casual Vacancy"
        ],
        [
         "J.K. Rowling",
         "Harry Potter and the Prisoner of Azkaban: The Illustrated Edition (Harry Potter, Book 3)"
        ],
        [
         "JJ Smith",
         "10-Day Green Smoothie Cleanse"
        ],
        [
         "James Comey",
         "A Higher Loyalty: Truth, Lies, and Leadership"
        ],
        [
         "James Dashner",
         "The Maze Runner (Book 1)"
        ],
        [
         "James Patterson",
         "The President Is Missing: A Novel"
        ],
        [
         "James Patterson",
         "I, Alex Cross"
        ],
        [
         "Jay Asher",
         "Thirteen Reasons Why"
        ],
        [
         "Jaycee Dugard",
         "A Stolen Life: A Memoir"
        ],
        [
         "Jeff Kinney",
         "Cabin Fever (Diary of a Wimpy Kid, Book 6)"
        ],
        [
         "Jeff Kinney",
         "Wrecking Ball (Diary of a Wimpy Kid Book 14)"
        ],
        [
         "Jeff Kinney",
         "The Meltdown (Diary of a Wimpy Kid Book 13)"
        ],
        [
         "Jeff Kinney",
         "The Getaway"
        ],
        [
         "Jeff Kinney",
         "The Third Wheel (Diary of a Wimpy Kid, Book 7)"
        ],
        [
         "Jeff Kinney",
         "Old School (Diary of a Wimpy Kid #10)"
        ],
        [
         "Jeff Kinney",
         "Diary of a Wimpy Kid: The Last Straw (Book 3)"
        ],
        [
         "Jeff Kinney",
         "Double Down (Diary of a Wimpy Kid #11)"
        ],
        [
         "Jeff Kinney",
         "Diary of a Wimpy Kid: Hard Luck, Book 8"
        ],
        [
         "Jeff Kinney",
         "Diary of a Wimpy Kid: The Long Haul"
        ],
        [
         "Jeff Kinney",
         "The Ugly Truth (Diary of a Wimpy Kid, Book 5)"
        ],
        [
         "Jeff Kinney",
         "Dog Days (Diary of a Wimpy Kid, Book 4) (Volume 4)"
        ],
        [
         "Jen Sincero",
         "You Are a Badass: How to Stop Doubting Your Greatness and Start Living an Awesome Life"
        ],
        [
         "Jennifer Smith",
         "Instant Pot Pressure Cooker Cookbook: 500 Everyday Recipes for Beginners and Advanced Users. Try Easy and Healthy…"
        ],
        [
         "Jill Twiss",
         "Last Week Tonight with John Oliver Presents A Day in the Life of Marlon Bundo (Better Bundo Book, LGBT Childrens Book)"
        ],
        [
         "Jim Collins",
         "Good to Great: Why Some Companies Make the Leap and Others Don't"
        ],
        [
         "Joanna Gaines",
         "Homebody: A Guide to Creating Spaces You Never Want to Leave"
        ],
        [
         "Joanna Gaines",
         "Magnolia Table: A Collection of Recipes for Gathering"
        ],
        [
         "Joel Fuhrman MD",
         "Eat to Live: The Amazing Nutrient-Rich Program for Fast and Sustained Weight Loss, Revised Edition"
        ],
        [
         "Johanna Basford",
         "Enchanted Forest: An Inky Quest and Coloring book (Activity Books, Mindfulness and Meditation, Illustrated Floral Prints…"
        ],
        [
         "Johanna Basford",
         "Secret Garden: An Inky Treasure Hunt and Coloring Book (For Adults, mindfulness coloring)"
        ],
        [
         "John Green",
         "The Fault in Our Stars"
        ],
        [
         "John Green",
         "Looking for Alaska"
        ],
        [
         "John Grisham",
         "The Guardians: A Novel"
        ],
        [
         "John Grisham",
         "The Confession: A Novel"
        ],
        [
         "John Grisham",
         "Sycamore Row (Jake Brigance)"
        ],
        [
         "John Grisham",
         "The Litigators"
        ],
        [
         "John Grisham",
         "The Racketeer"
        ],
        [
         "John Heilemann",
         "Game Change: Obama and the Clintons, McCain and Palin, and the Race of a Lifetime"
        ],
        [
         "Jon Meacham",
         "Thomas Jefferson: The Art of Power"
        ],
        [
         "Jon Stewart",
         "The Daily Show with Jon Stewart Presents Earth (The Book): A Visitor's Guide to the Human Race"
        ],
        [
         "Jonathan Cahn",
         "The Harbinger: The Ancient Mystery that Holds the Secret of America's Future"
        ],
        [
         "Jordan B. Peterson",
         "12 Rules for Life: An Antidote to Chaos"
        ],
        [
         "Julia Child",
         "Mastering the Art of French Cooking, Vol. 2"
        ],
        [
         "Justin Halpern",
         "Sh*t My Dad Says"
        ],
        [
         "Kathryn Stockett",
         "The Help"
        ],
        [
         "Keith Richards",
         "Life"
        ],
        [
         "Ken Follett",
         "Winter of the World: Book Two of the Century Trilogy"
        ],
        [
         "Kevin Kwan",
         "Crazy Rich Asians (Crazy Rich Asians Trilogy)"
        ],
        [
         "Khaled Hosseini",
         "And the Mountains Echoed"
        ],
        [
         "Kristin Hannah",
         "The Nightingale: A Novel"
        ],
        [
         "Larry Schweikart",
         "A Patriot's History of the United States: From Columbus's Great Discovery to the War on Terror"
        ],
        [
         "Laura Hillenbrand",
         "Unbroken: A World War II Story of Survival, Resilience, and Redemption"
        ],
        [
         "Laurel Randolph",
         "The Instant Pot Electric Pressure Cooker Cookbook: Easy Recipes for Fast & Healthy Meals"
        ],
        [
         "Lin-Manuel Miranda",
         "Hamilton: The Revolution"
        ],
        [
         "Lysa TerKeurst",
         "Uninvited: Living Loved When You Feel Less Than, Left Out, and Lonely"
        ],
        [
         "Lysa TerKeurst",
         "It's Not Supposed to Be This Way: Finding Unexpected Strength When Disappointments Leave You Shattered"
        ],
        [
         "M Prefontaine",
         "Difficult Riddles For Smart Kids: 300 Difficult Riddles And Brain Teasers Families Will Love (Books for Smart Kids)"
        ],
        [
         "Madeleine L'Engle",
         "A Wrinkle in Time (Time Quintet)"
        ],
        [
         "Malcolm Gladwell",
         "The Tipping Point: How Little Things Can Make a Big Difference"
        ],
        [
         "Malcolm Gladwell",
         "Outliers: The Story of Success"
        ],
        [
         "Malcolm Gladwell",
         "David and Goliath: Underdogs, Misfits, and the Art of Battling Giants"
        ],
        [
         "Margaret Atwood",
         "The Handmaid's Tale"
        ],
        [
         "Margaret Wise Brown",
         "Goodnight Moon"
        ],
        [
         "Marie Kondō",
         "The Life-Changing Magic of Tidying Up: The Japanese Art of Decluttering and Organizing"
        ],
        [
         "Marjorie Sarnat",
         "Creative Haven Creative Cats Coloring Book (Adult Coloring)"
        ],
        [
         "Marjorie Sarnat",
         "Creative Haven Owls Coloring Book (Adult Coloring)"
        ],
        [
         "Mark Hyman M.D.",
         "The Blood Sugar Solution: The UltraHealthy Program for Losing Weight, Preventing Disease, and Feeling Great Now!"
        ],
        [
         "Mark Manson",
         "The Subtle Art of Not Giving a F*ck: A Counterintuitive Approach to Living a Good Life"
        ],
        [
         "Mark Owen",
         "No Easy Day: The Autobiography of a Navy Seal: The Firsthand Account of the Mission That Killed Osama Bin Laden"
        ],
        [
         "Mark R. Levin",
         "Unfreedom of the Press"
        ],
        [
         "Mark R. Levin",
         "Liberty and Tyranny: A Conservative Manifesto"
        ],
        [
         "Mark Twain",
         "Autobiography of Mark Twain, Vol. 1"
        ],
        [
         "Markus Zusak",
         "The Book Thief"
        ],
        [
         "Marty Noble",
         "Dover Creative Haven Art Nouveau Animal Designs Coloring Book (Creative Haven Coloring Books)"
        ],
        [
         "Mary Ann Shaffer",
         "The Guernsey Literary and Potato Peel Pie Society"
        ],
        [
         "Maurice Sendak",
         "Where the Wild Things Are"
        ],
        [
         "Melissa Hartwig Urban",
         "The Whole30: The 30-Day Guide to Total Health and Food Freedom"
        ],
        [
         "Michael Lewis",
         "The Big Short: Inside the Doomsday Machine"
        ],
        [
         "Michael Pollan",
         "Food Rules: An Eater's Manual"
        ],
        [
         "Michael Wolff",
         "Fire and Fury: Inside the Trump White House"
        ],
        [
         "Michelle Obama",
         "Becoming"
        ],
        [
         "Mike Moreno",
         "The 17 Day Diet: A Doctor's Plan Designed for Rapid Results"
        ],
        [
         "Mitch Albom",
         "Have a Little Faith: A True Story"
        ],
        [
         "Muriel Barbery",
         "The Elegance of the Hedgehog"
        ],
        [
         "Naomi Kleinberg",
         "P is for Potty! (Sesame Street) (Lift-the-Flap)"
        ],
        [
         "Nathan W. Pyle",
         "Strange Planet (Strange Planet Series)"
        ],
        [
         "National Geographic Kids",
         "5,000 Awesome Facts (About Everything!) (National Geographic Kids)"
        ],
        [
         "Neil deGrasse Tyson",
         "Astrophysics for People in a Hurry"
        ],
        [
         "Paper Peony Press",
         "Lettering and Modern Calligraphy: A Beginner's Guide: Learn Hand Lettering and Brush Lettering"
        ],
        [
         "Patrick Lencioni",
         "The Five Dysfunctions of a Team: A Leadership Fable"
        ],
        [
         "Patrick Thorpe",
         "The Legend of Zelda: Hyrule Historia"
        ],
        [
         "Paul Kalanithi",
         "When Breath Becomes Air"
        ],
        [
         "Paula Hawkins",
         "The Girl on the Train"
        ],
        [
         "Paula McLain",
         "The Paris Wife: A Novel"
        ],
        [
         "Paulo Coelho",
         "The Alchemist"
        ],
        [
         "Pete Souza",
         "Obama: An Intimate Portrait"
        ],
        [
         "Peter A. Lillback",
         "George Washington's Sacred Fire"
        ],
        [
         "Phil Robertson",
         "Happy, Happy, Happy: My Life and Legacy as the Duck Commander"
        ],
        [
         "Pierre Dukan",
         "The Dukan Diet: 2 Steps to Lose the Weight, 2 Steps to Keep It Off Forever"
        ],
        [
         "Pretty Simple Press",
         "Good Days Start With Gratitude: A 52 Week Guide To Cultivate An Attitude Of Gratitude: Gratitude Journal"
        ],
        [
         "R. J. Palacio",
         "Wonder"
        ],
        [
         "RH Disney",
         "JOURNEY TO THE ICE P"
        ],
        [
         "RH Disney",
         "Frozen (Little Golden Book)"
        ],
        [
         "Rachel Hollis",
         "Girl, Stop Apologizing: A Shame-Free Plan for Embracing and Achieving Your Goals"
        ],
        [
         "Rachel Hollis",
         "Girl, Wash Your Face: Stop Believing the Lies About Who You Are So You Can Become Who You Were Meant to Be"
        ],
        [
         "Raina Telgemeier",
         "Guts"
        ],
        [
         "Randall Munroe",
         "What If?: Serious Scientific Answers to Absurd Hypothetical Questions"
        ],
        [
         "Randy Pausch",
         "The Last Lecture"
        ],
        [
         "Ray Bradbury",
         "Fahrenheit 451"
        ],
        [
         "Rebecca Skloot",
         "The Immortal Life of Henrietta Lacks"
        ],
        [
         "Ree Drummond",
         "The Pioneer Woman Cooks: Dinnertime - Comfort Classics, Freezer Food, 16-minute Meals, and Other Delicious Ways to Solve…"
        ],
        [
         "Ree Drummond",
         "The Pioneer Woman Cooks: A Year of Holidays: 140 Step-by-Step Recipes for Simple, Scrumptious Celebrations"
        ],
        [
         "Ree Drummond",
         "The Pioneer Woman Cooks: Food from My Frontier"
        ],
        [
         "Rick Riordan",
         "The Mark of Athena (Heroes of Olympus, Book 3)"
        ],
        [
         "Rick Riordan",
         "Percy Jackson and the Olympians Paperback Boxed Set (Books 1-3)"
        ],
        [
         "Rick Riordan",
         "The Serpent's Shadow (The Kane Chronicles, Book 3)"
        ],
        [
         "Rick Riordan",
         "The Last Olympian (Percy Jackson and the Olympians, Book 5)"
        ],
        [
         "Rick Riordan",
         "The Blood of Olympus (The Heroes of Olympus (5))"
        ],
        [
         "Rick Riordan",
         "The Red Pyramid (The Kane Chronicles, Book 1)"
        ],
        [
         "Rick Riordan",
         "The House of Hades (Heroes of Olympus, Book 4)"
        ],
        [
         "Rick Riordan",
         "The Lost Hero (Heroes of Olympus, Book 1)"
        ],
        [
         "Rick Riordan",
         "The Throne of Fire (The Kane Chronicles, Book 2)"
        ],
        [
         "Rick Riordan",
         "The Son of Neptune (Heroes of Olympus, Book 2)"
        ],
        [
         "Rob Bell",
         "Love Wins: A Book About Heaven, Hell, and the Fate of Every Person Who Ever Lived"
        ],
        [
         "Rob Elliott",
         "Knock-Knock Jokes for Kids"
        ],
        [
         "Rob Elliott",
         "Laugh-Out-Loud Jokes for Kids"
        ],
        [
         "Robert Jordan",
         "Towers of Midnight (Wheel of Time, Book Thirteen)"
        ],
        [
         "Robert Munsch",
         "Love You Forever"
        ],
        [
         "Rod Campbell",
         "Dear Zoo: A Lift-the-Flap Book"
        ],
        [
         "Roger Priddy",
         "First 100 Words"
        ],
        [
         "Ron Chernow",
         "Alexander Hamilton"
        ],
        [
         "Rupi Kaur",
         "Milk and Honey"
        ],
        [
         "Rupi Kaur",
         "The Sun and Her Flowers"
        ],
        [
         "Rush Limbaugh",
         "Rush Revere and the First Patriots: Time-Travel Adventures With Exceptional Americans (2)"
        ],
        [
         "Rush Limbaugh",
         "Rush Revere and the Brave Pilgrims: Time-Travel Adventures with Exceptional Americans (1)"
        ],
        [
         "Samin Nosrat",
         "Salt, Fat, Acid, Heat: Mastering the Elements of Good Cooking"
        ],
        [
         "Sandra Boynton",
         "The Going-To-Bed Book"
        ],
        [
         "Sara Gruen",
         "Water for Elephants: A Novel"
        ],
        [
         "Sarah Palin",
         "Going Rogue: An American Life"
        ],
        [
         "Sarah Young",
         "Jesus Calling: Enjoying Peace in His Presence (with Scripture References)"
        ],
        [
         "Sasha O'Hara",
         "Calm the F*ck Down: An Irreverent Adult Coloring Book (Irreverent Book Series)"
        ],
        [
         "Scholastic",
         "Pokémon Deluxe Essential Handbook: The Need-to-Know Stats and Facts on Over 700 Pokémon"
        ],
        [
         "Scholastic",
         "Harry Potter Coloring Book"
        ],
        [
         "School Zone",
         "School Zone - Big Preschool Workbook - Ages 4 and Up, Colors, Shapes, Numbers 1-10, Alphabet, Pre-Writing, Pre-Reading…"
        ],
        [
         "Sherri Duskey Rinker",
         "Goodnight, Goodnight Construction Site (Hardcover Books for Toddlers, Preschool Books for Kids)"
        ],
        [
         "Sheryl Sandberg",
         "Option B: Facing Adversity, Building Resilience, and Finding Joy"
        ],
        [
         "Sheryl Sandberg",
         "Lean In: Women, Work, and the Will to Lead"
        ],
        [
         "Silly Bear",
         "Unicorn Coloring Book: For Kids Ages 4-8 (US Edition) (Silly Bear Coloring Books)"
        ],
        [
         "Stephen Kendrick",
         "The Love Dare"
        ],
        [
         "Stephen King",
         "Doctor Sleep: A Novel"
        ],
        [
         "Stephen King",
         "Under the Dome: A Novel"
        ],
        [
         "Stephen King",
         "Joyland (Hard Case Crime)"
        ],
        [
         "Stephen King",
         "11/22/63: A Novel"
        ],
        [
         "Stephen R. Covey",
         "The 7 Habits of Highly Effective People: Powerful Lessons in Personal Change"
        ],
        [
         "Stephenie Meyer",
         "New Moon (The Twilight Saga)"
        ],
        [
         "Stephenie Meyer",
         "Eclipse (Twilight)"
        ],
        [
         "Stephenie Meyer",
         "Breaking Dawn (The Twilight Saga, Book 4)"
        ],
        [
         "Stephenie Meyer",
         "The Short Second Life of Bree Tanner: An Eclipse Novella (The Twilight Saga)"
        ],
        [
         "Stephenie Meyer",
         "Eclipse (Twilight Sagas)"
        ],
        [
         "Stephenie Meyer",
         "Twilight (The Twilight Saga, Book 1)"
        ],
        [
         "Stephenie Meyer",
         "The Twilight Saga Collection"
        ],
        [
         "Steve Harvey",
         "Act Like a Lady, Think Like a Man: What Men Really Think About Love, Relationships, Intimacy, and Commitment"
        ],
        [
         "Steven D. Levitt",
         "Super Freakonomics: Global Cooling, Patriotic Prostitutes, and Why Suicide Bombers Should Buy Life Insurance"
        ],
        [
         "Stieg Larsson",
         "The Girl Who Kicked the Hornet's Nest (Millennium Trilogy)"
        ],
        [
         "Stieg Larsson",
         "The Girl Who Played with Fire (Millennium)"
        ],
        [
         "Stieg Larsson",
         "The Girl Who Played with Fire (Millennium Series)"
        ],
        [
         "Stieg Larsson",
         "The Girl with the Dragon Tattoo (Millennium Series)"
        ],
        [
         "Susan Cain",
         "Quiet: The Power of Introverts in a World That Can't Stop Talking"
        ],
        [
         "Suzanne Collins",
         "The Hunger Games Trilogy Boxed Set (1)"
        ],
        [
         "Suzanne Collins",
         "Catching Fire (The Hunger Games)"
        ],
        [
         "Suzanne Collins",
         "The Hunger Games (Book 1)"
        ],
        [
         "Suzanne Collins",
         "Mockingjay (The Hunger Games)"
        ],
        [
         "Suzanne Collins",
         "The Hunger Games"
        ],
        [
         "Ta-Nehisi Coates",
         "Between the World and Me"
        ],
        [
         "Tara Westover",
         "Educated: A Memoir"
        ],
        [
         "Tatiana de Rosnay",
         "Sarah's Key"
        ],
        [
         "The College Board",
         "The Official SAT Study Guide"
        ],
        [
         "The College Board",
         "The Official SAT Study Guide, 2016 Edition (Official Study Guide for the New Sat)"
        ],
        [
         "The Staff of The Late Show with",
         "Whose Boat Is This Boat?: Comments That Don't Help in the Aftermath of a Hurricane"
        ],
        [
         "The Washington Post",
         "The Mueller Report"
        ],
        [
         "Thomas Campbell",
         "The China Study: The Most Comprehensive Study of Nutrition Ever Conducted And the Startling Implications for Diet…"
        ],
        [
         "Thomas Piketty",
         "Capital in the Twenty First Century"
        ],
        [
         "Thug Kitchen",
         "Thug Kitchen: The Official Cookbook: Eat Like You Give a F*ck (Thug Kitchen Cookbooks)"
        ],
        [
         "Timothy Ferriss",
         "Tools of Titans: The Tactics, Routines, and Habits of Billionaires, Icons, and World-Class Performers"
        ],
        [
         "Timothy Ferriss",
         "The 4 Hour Body: An Uncommon Guide to Rapid Fat Loss, Incredible Sex and Becoming Superhuman"
        ],
        [
         "Tina Fey",
         "Tina Fey: Bossypants"
        ],
        [
         "Todd Burpo",
         "Heaven is for Real: A Little Boy's Astounding Story of His Trip to Heaven and Back"
        ],
        [
         "Tony Hsieh",
         "Delivering Happiness: A Path to Profits, Passion, and Purpose"
        ],
        [
         "Tucker Carlson",
         "Ship of Fools: How a Selfish Ruling Class Is Bringing America to the Brink of Revolution"
        ],
        [
         "Veronica Roth",
         "Divergent"
        ],
        [
         "Veronica Roth",
         "Divergent / Insurgent"
        ],
        [
         "Veronica Roth",
         "Allegiant"
        ],
        [
         "W. Cleon Skousen",
         "The 5000 Year Leap"
        ],
        [
         "Walter Isaacson",
         "Steve Jobs"
        ],
        [
         "Walter Isaacson",
         "Leonardo da Vinci"
        ],
        [
         "William Davis",
         "Wheat Belly: Lose the Wheat, Lose the Weight, and Find Your Path Back to Health"
        ],
        [
         "William P. Young",
         "The Shack: Where Tragedy Confronts Eternity"
        ],
        [
         "Wizards RPG Team",
         "Player's Handbook (Dungeons & Dragons)"
        ],
        [
         "Zhi Gang Sha",
         "Soul Healing Miracles: Ancient and New Sacred Wisdom, Knowledge, and Practical Techniques for Healing the Spiritual…"
        ],
        [
         "Zhi Gang Sha",
         "Divine Soul Mind Body Healing and Transmission System: The Divine Way to Heal You, Humanity, Mother Earth, and All…"
        ]
       ],
       "datasetInfos": [],
       "dbfsResultPath": null,
       "isJsonSchema": true,
       "metadata": {},
       "overflow": false,
       "plotOptions": {
        "customPlotOptions": {},
        "displayType": "table",
        "pivotAggregation": null,
        "pivotColumns": null,
        "xColumns": null,
        "yColumns": null
       },
       "removedWidgets": [],
       "schema": [
        {
         "metadata": "{}",
         "name": "Author",
         "type": "\"string\""
        },
        {
         "metadata": "{}",
         "name": "Name",
         "type": "\"string\""
        }
       ],
       "type": "table"
      }
     },
     "output_type": "display_data"
    }
   ],
   "source": [
    "%sql\n",
    "SELECT DISTINCT Author, Name FROM bestsellers\n",
    "ORDER BY Author"
   ]
  },
  {
   "cell_type": "code",
   "execution_count": 0,
   "metadata": {
    "application/vnd.databricks.v1+cell": {
     "cellMetadata": {
      "byteLimit": 2048000,
      "implicitDf": true,
      "rowLimit": 10000
     },
     "inputWidgets": {},
     "nuid": "2e677b15-6392-4300-8440-713f13addbaa",
     "showTitle": false,
     "tableResultSettingsMap": {},
     "title": ""
    }
   },
   "outputs": [
    {
     "output_type": "display_data",
     "data": {
      "text/html": [
       "<style scoped>\n",
       "  .table-result-container {\n",
       "    max-height: 300px;\n",
       "    overflow: auto;\n",
       "  }\n",
       "  table, th, td {\n",
       "    border: 1px solid black;\n",
       "    border-collapse: collapse;\n",
       "  }\n",
       "  th, td {\n",
       "    padding: 5px;\n",
       "  }\n",
       "  th {\n",
       "    text-align: left;\n",
       "  }\n",
       "</style><div class='table-result-container'><table class='table-result'><thead style='background-color: white'><tr><th>GENRE</th></tr></thead><tbody><tr><td>Fiction</td></tr><tr><td>Non Fiction</td></tr></tbody></table></div>"
      ]
     },
     "metadata": {
      "application/vnd.databricks.v1+output": {
       "addedWidgets": {},
       "aggData": [],
       "aggError": "",
       "aggOverflow": false,
       "aggSchema": [],
       "aggSeriesLimitReached": false,
       "aggType": "",
       "arguments": {},
       "columnCustomDisplayInfos": {},
       "data": [
        [
         "Fiction"
        ],
        [
         "Non Fiction"
        ]
       ],
       "datasetInfos": [],
       "dbfsResultPath": null,
       "isJsonSchema": true,
       "metadata": {},
       "overflow": false,
       "plotOptions": {
        "customPlotOptions": {},
        "displayType": "table",
        "pivotAggregation": null,
        "pivotColumns": null,
        "xColumns": null,
        "yColumns": null
       },
       "removedWidgets": [],
       "schema": [
        {
         "metadata": "{}",
         "name": "GENRE",
         "type": "\"string\""
        }
       ],
       "type": "table"
      }
     },
     "output_type": "display_data"
    }
   ],
   "source": [
    "%sql\n",
    "SELECT DISTINCT GENRE FROM bestsellers"
   ]
  },
  {
   "cell_type": "code",
   "execution_count": 0,
   "metadata": {
    "application/vnd.databricks.v1+cell": {
     "cellMetadata": {
      "byteLimit": 2048000,
      "implicitDf": true,
      "rowLimit": 10000
     },
     "inputWidgets": {},
     "nuid": "4b3c4126-b3ef-48ec-835c-d1e61ca76306",
     "showTitle": false,
     "tableResultSettingsMap": {},
     "title": ""
    }
   },
   "outputs": [
    {
     "output_type": "display_data",
     "data": {
      "text/html": [
       "<style scoped>\n",
       "  .table-result-container {\n",
       "    max-height: 300px;\n",
       "    overflow: auto;\n",
       "  }\n",
       "  table, th, td {\n",
       "    border: 1px solid black;\n",
       "    border-collapse: collapse;\n",
       "  }\n",
       "  th, td {\n",
       "    padding: 5px;\n",
       "  }\n",
       "  th {\n",
       "    text-align: left;\n",
       "  }\n",
       "</style><div class='table-result-container'><table class='table-result'><thead style='background-color: white'><tr><th>Genre</th><th>QtdePorGenero</th></tr></thead><tbody><tr><td>Fiction</td><td>240</td></tr><tr><td>Non Fiction</td><td>310</td></tr></tbody></table></div>"
      ]
     },
     "metadata": {
      "application/vnd.databricks.v1+output": {
       "addedWidgets": {},
       "aggData": [],
       "aggError": "",
       "aggOverflow": false,
       "aggSchema": [],
       "aggSeriesLimitReached": false,
       "aggType": "",
       "arguments": {},
       "columnCustomDisplayInfos": {},
       "data": [
        [
         "Fiction",
         240
        ],
        [
         "Non Fiction",
         310
        ]
       ],
       "datasetInfos": [],
       "dbfsResultPath": null,
       "isJsonSchema": true,
       "metadata": {},
       "overflow": false,
       "plotOptions": {
        "customPlotOptions": {},
        "displayType": "table",
        "pivotAggregation": null,
        "pivotColumns": null,
        "xColumns": null,
        "yColumns": null
       },
       "removedWidgets": [],
       "schema": [
        {
         "metadata": "{}",
         "name": "Genre",
         "type": "\"string\""
        },
        {
         "metadata": "{}",
         "name": "QtdePorGenero",
         "type": "\"long\""
        }
       ],
       "type": "table"
      }
     },
     "output_type": "display_data"
    }
   ],
   "source": [
    "%sql\n",
    "SELECT Genre, COUNT (GENRE) AS QtdePorGenero FROM bestsellers\n",
    "group by Genre"
   ]
  },
  {
   "cell_type": "code",
   "execution_count": 0,
   "metadata": {
    "application/vnd.databricks.v1+cell": {
     "cellMetadata": {
      "byteLimit": 2048000,
      "implicitDf": true,
      "rowLimit": 10000
     },
     "inputWidgets": {},
     "nuid": "f8e900e4-aa3d-4808-8c74-4f826881796a",
     "showTitle": false,
     "tableResultSettingsMap": {},
     "title": ""
    }
   },
   "outputs": [
    {
     "output_type": "display_data",
     "data": {
      "text/plain": [
       "\u001B[0;31m---------------------------------------------------------------------------\u001B[0m\n",
       "\u001B[0;31mParseException\u001B[0m                            Traceback (most recent call last)\n",
       "File \u001B[0;32m<command-2667324302414661>:7\u001B[0m\n",
       "\u001B[1;32m      5\u001B[0m     display(df)\n",
       "\u001B[1;32m      6\u001B[0m     \u001B[38;5;28;01mreturn\u001B[39;00m df\n",
       "\u001B[0;32m----> 7\u001B[0m   _sqldf \u001B[38;5;241m=\u001B[39m \u001B[43m____databricks_percent_sql\u001B[49m\u001B[43m(\u001B[49m\u001B[43m)\u001B[49m\n",
       "\u001B[1;32m      8\u001B[0m \u001B[38;5;28;01mfinally\u001B[39;00m:\n",
       "\u001B[1;32m      9\u001B[0m   \u001B[38;5;28;01mdel\u001B[39;00m ____databricks_percent_sql\n",
       "\n",
       "File \u001B[0;32m<command-2667324302414661>:4\u001B[0m, in \u001B[0;36m____databricks_percent_sql\u001B[0;34m()\u001B[0m\n",
       "\u001B[1;32m      2\u001B[0m \u001B[38;5;28;01mdef\u001B[39;00m \u001B[38;5;21m____databricks_percent_sql\u001B[39m():\n",
       "\u001B[1;32m      3\u001B[0m   \u001B[38;5;28;01mimport\u001B[39;00m \u001B[38;5;21;01mbase64\u001B[39;00m\n",
       "\u001B[0;32m----> 4\u001B[0m   df \u001B[38;5;241m=\u001B[39m \u001B[43mspark\u001B[49m\u001B[38;5;241;43m.\u001B[39;49m\u001B[43msql\u001B[49m\u001B[43m(\u001B[49m\u001B[43mbase64\u001B[49m\u001B[38;5;241;43m.\u001B[39;49m\u001B[43mstandard_b64decode\u001B[49m\u001B[43m(\u001B[49m\u001B[38;5;124;43m\"\u001B[39;49m\u001B[38;5;124;43mQUxURVIgVEFCTEUgYmVzdHNlbGxlcnMgUkVOQU1FIENPTFVNTiAndXNlciByYXRpbmcnIFRPIFVzZXJSYXRpbmc=\u001B[39;49m\u001B[38;5;124;43m\"\u001B[39;49m\u001B[43m)\u001B[49m\u001B[38;5;241;43m.\u001B[39;49m\u001B[43mdecode\u001B[49m\u001B[43m(\u001B[49m\u001B[43m)\u001B[49m\u001B[43m)\u001B[49m\n",
       "\u001B[1;32m      5\u001B[0m   display(df)\n",
       "\u001B[1;32m      6\u001B[0m   \u001B[38;5;28;01mreturn\u001B[39;00m df\n",
       "\n",
       "File \u001B[0;32m/databricks/spark/python/pyspark/instrumentation_utils.py:48\u001B[0m, in \u001B[0;36m_wrap_function.<locals>.wrapper\u001B[0;34m(*args, **kwargs)\u001B[0m\n",
       "\u001B[1;32m     46\u001B[0m start \u001B[38;5;241m=\u001B[39m time\u001B[38;5;241m.\u001B[39mperf_counter()\n",
       "\u001B[1;32m     47\u001B[0m \u001B[38;5;28;01mtry\u001B[39;00m:\n",
       "\u001B[0;32m---> 48\u001B[0m     res \u001B[38;5;241m=\u001B[39m \u001B[43mfunc\u001B[49m\u001B[43m(\u001B[49m\u001B[38;5;241;43m*\u001B[39;49m\u001B[43margs\u001B[49m\u001B[43m,\u001B[49m\u001B[43m \u001B[49m\u001B[38;5;241;43m*\u001B[39;49m\u001B[38;5;241;43m*\u001B[39;49m\u001B[43mkwargs\u001B[49m\u001B[43m)\u001B[49m\n",
       "\u001B[1;32m     49\u001B[0m     logger\u001B[38;5;241m.\u001B[39mlog_success(\n",
       "\u001B[1;32m     50\u001B[0m         module_name, class_name, function_name, time\u001B[38;5;241m.\u001B[39mperf_counter() \u001B[38;5;241m-\u001B[39m start, signature\n",
       "\u001B[1;32m     51\u001B[0m     )\n",
       "\u001B[1;32m     52\u001B[0m     \u001B[38;5;28;01mreturn\u001B[39;00m res\n",
       "\n",
       "File \u001B[0;32m/databricks/spark/python/pyspark/sql/session.py:1387\u001B[0m, in \u001B[0;36mSparkSession.sql\u001B[0;34m(self, sqlQuery, args, **kwargs)\u001B[0m\n",
       "\u001B[1;32m   1385\u001B[0m \u001B[38;5;28;01mtry\u001B[39;00m:\n",
       "\u001B[1;32m   1386\u001B[0m     litArgs \u001B[38;5;241m=\u001B[39m {k: _to_java_column(lit(v)) \u001B[38;5;28;01mfor\u001B[39;00m k, v \u001B[38;5;129;01min\u001B[39;00m (args \u001B[38;5;129;01mor\u001B[39;00m {})\u001B[38;5;241m.\u001B[39mitems()}\n",
       "\u001B[0;32m-> 1387\u001B[0m     \u001B[38;5;28;01mreturn\u001B[39;00m DataFrame(\u001B[38;5;28;43mself\u001B[39;49m\u001B[38;5;241;43m.\u001B[39;49m\u001B[43m_jsparkSession\u001B[49m\u001B[38;5;241;43m.\u001B[39;49m\u001B[43msql\u001B[49m\u001B[43m(\u001B[49m\u001B[43msqlQuery\u001B[49m\u001B[43m,\u001B[49m\u001B[43m \u001B[49m\u001B[43mlitArgs\u001B[49m\u001B[43m)\u001B[49m, \u001B[38;5;28mself\u001B[39m)\n",
       "\u001B[1;32m   1388\u001B[0m \u001B[38;5;28;01mfinally\u001B[39;00m:\n",
       "\u001B[1;32m   1389\u001B[0m     \u001B[38;5;28;01mif\u001B[39;00m \u001B[38;5;28mlen\u001B[39m(kwargs) \u001B[38;5;241m>\u001B[39m \u001B[38;5;241m0\u001B[39m:\n",
       "\n",
       "File \u001B[0;32m/databricks/spark/python/lib/py4j-0.10.9.5-src.zip/py4j/java_gateway.py:1321\u001B[0m, in \u001B[0;36mJavaMember.__call__\u001B[0;34m(self, *args)\u001B[0m\n",
       "\u001B[1;32m   1315\u001B[0m command \u001B[38;5;241m=\u001B[39m proto\u001B[38;5;241m.\u001B[39mCALL_COMMAND_NAME \u001B[38;5;241m+\u001B[39m\\\n",
       "\u001B[1;32m   1316\u001B[0m     \u001B[38;5;28mself\u001B[39m\u001B[38;5;241m.\u001B[39mcommand_header \u001B[38;5;241m+\u001B[39m\\\n",
       "\u001B[1;32m   1317\u001B[0m     args_command \u001B[38;5;241m+\u001B[39m\\\n",
       "\u001B[1;32m   1318\u001B[0m     proto\u001B[38;5;241m.\u001B[39mEND_COMMAND_PART\n",
       "\u001B[1;32m   1320\u001B[0m answer \u001B[38;5;241m=\u001B[39m \u001B[38;5;28mself\u001B[39m\u001B[38;5;241m.\u001B[39mgateway_client\u001B[38;5;241m.\u001B[39msend_command(command)\n",
       "\u001B[0;32m-> 1321\u001B[0m return_value \u001B[38;5;241m=\u001B[39m \u001B[43mget_return_value\u001B[49m\u001B[43m(\u001B[49m\n",
       "\u001B[1;32m   1322\u001B[0m \u001B[43m    \u001B[49m\u001B[43manswer\u001B[49m\u001B[43m,\u001B[49m\u001B[43m \u001B[49m\u001B[38;5;28;43mself\u001B[39;49m\u001B[38;5;241;43m.\u001B[39;49m\u001B[43mgateway_client\u001B[49m\u001B[43m,\u001B[49m\u001B[43m \u001B[49m\u001B[38;5;28;43mself\u001B[39;49m\u001B[38;5;241;43m.\u001B[39;49m\u001B[43mtarget_id\u001B[49m\u001B[43m,\u001B[49m\u001B[43m \u001B[49m\u001B[38;5;28;43mself\u001B[39;49m\u001B[38;5;241;43m.\u001B[39;49m\u001B[43mname\u001B[49m\u001B[43m)\u001B[49m\n",
       "\u001B[1;32m   1324\u001B[0m \u001B[38;5;28;01mfor\u001B[39;00m temp_arg \u001B[38;5;129;01min\u001B[39;00m temp_args:\n",
       "\u001B[1;32m   1325\u001B[0m     temp_arg\u001B[38;5;241m.\u001B[39m_detach()\n",
       "\n",
       "File \u001B[0;32m/databricks/spark/python/pyspark/errors/exceptions.py:234\u001B[0m, in \u001B[0;36mcapture_sql_exception.<locals>.deco\u001B[0;34m(*a, **kw)\u001B[0m\n",
       "\u001B[1;32m    230\u001B[0m converted \u001B[38;5;241m=\u001B[39m convert_exception(e\u001B[38;5;241m.\u001B[39mjava_exception)\n",
       "\u001B[1;32m    231\u001B[0m \u001B[38;5;28;01mif\u001B[39;00m \u001B[38;5;129;01mnot\u001B[39;00m \u001B[38;5;28misinstance\u001B[39m(converted, UnknownException):\n",
       "\u001B[1;32m    232\u001B[0m     \u001B[38;5;66;03m# Hide where the exception came from that shows a non-Pythonic\u001B[39;00m\n",
       "\u001B[1;32m    233\u001B[0m     \u001B[38;5;66;03m# JVM exception message.\u001B[39;00m\n",
       "\u001B[0;32m--> 234\u001B[0m     \u001B[38;5;28;01mraise\u001B[39;00m converted \u001B[38;5;28;01mfrom\u001B[39;00m \u001B[38;5;28mNone\u001B[39m\n",
       "\u001B[1;32m    235\u001B[0m \u001B[38;5;28;01melse\u001B[39;00m:\n",
       "\u001B[1;32m    236\u001B[0m     \u001B[38;5;28;01mraise\u001B[39;00m\n",
       "\n",
       "\u001B[0;31mParseException\u001B[0m: \n",
       "[PARSE_SYNTAX_ERROR] Syntax error at or near '\"user rating\"'.(line 1, pos 38)\n",
       "\n",
       "== SQL ==\n",
       "ALTER TABLE bestsellers RENAME COLUMN \"user rating\" TO UserRating\n",
       "--------------------------------------^^^\n"
      ]
     },
     "metadata": {
      "application/vnd.databricks.v1+output": {
       "arguments": {},
       "data": "\u001B[0;31m---------------------------------------------------------------------------\u001B[0m\n\u001B[0;31mParseException\u001B[0m                            Traceback (most recent call last)\nFile \u001B[0;32m<command-2667324302414661>:7\u001B[0m\n\u001B[1;32m      5\u001B[0m     display(df)\n\u001B[1;32m      6\u001B[0m     \u001B[38;5;28;01mreturn\u001B[39;00m df\n\u001B[0;32m----> 7\u001B[0m   _sqldf \u001B[38;5;241m=\u001B[39m \u001B[43m____databricks_percent_sql\u001B[49m\u001B[43m(\u001B[49m\u001B[43m)\u001B[49m\n\u001B[1;32m      8\u001B[0m \u001B[38;5;28;01mfinally\u001B[39;00m:\n\u001B[1;32m      9\u001B[0m   \u001B[38;5;28;01mdel\u001B[39;00m ____databricks_percent_sql\n\nFile \u001B[0;32m<command-2667324302414661>:4\u001B[0m, in \u001B[0;36m____databricks_percent_sql\u001B[0;34m()\u001B[0m\n\u001B[1;32m      2\u001B[0m \u001B[38;5;28;01mdef\u001B[39;00m \u001B[38;5;21m____databricks_percent_sql\u001B[39m():\n\u001B[1;32m      3\u001B[0m   \u001B[38;5;28;01mimport\u001B[39;00m \u001B[38;5;21;01mbase64\u001B[39;00m\n\u001B[0;32m----> 4\u001B[0m   df \u001B[38;5;241m=\u001B[39m \u001B[43mspark\u001B[49m\u001B[38;5;241;43m.\u001B[39;49m\u001B[43msql\u001B[49m\u001B[43m(\u001B[49m\u001B[43mbase64\u001B[49m\u001B[38;5;241;43m.\u001B[39;49m\u001B[43mstandard_b64decode\u001B[49m\u001B[43m(\u001B[49m\u001B[38;5;124;43m\"\u001B[39;49m\u001B[38;5;124;43mQUxURVIgVEFCTEUgYmVzdHNlbGxlcnMgUkVOQU1FIENPTFVNTiAndXNlciByYXRpbmcnIFRPIFVzZXJSYXRpbmc=\u001B[39;49m\u001B[38;5;124;43m\"\u001B[39;49m\u001B[43m)\u001B[49m\u001B[38;5;241;43m.\u001B[39;49m\u001B[43mdecode\u001B[49m\u001B[43m(\u001B[49m\u001B[43m)\u001B[49m\u001B[43m)\u001B[49m\n\u001B[1;32m      5\u001B[0m   display(df)\n\u001B[1;32m      6\u001B[0m   \u001B[38;5;28;01mreturn\u001B[39;00m df\n\nFile \u001B[0;32m/databricks/spark/python/pyspark/instrumentation_utils.py:48\u001B[0m, in \u001B[0;36m_wrap_function.<locals>.wrapper\u001B[0;34m(*args, **kwargs)\u001B[0m\n\u001B[1;32m     46\u001B[0m start \u001B[38;5;241m=\u001B[39m time\u001B[38;5;241m.\u001B[39mperf_counter()\n\u001B[1;32m     47\u001B[0m \u001B[38;5;28;01mtry\u001B[39;00m:\n\u001B[0;32m---> 48\u001B[0m     res \u001B[38;5;241m=\u001B[39m \u001B[43mfunc\u001B[49m\u001B[43m(\u001B[49m\u001B[38;5;241;43m*\u001B[39;49m\u001B[43margs\u001B[49m\u001B[43m,\u001B[49m\u001B[43m \u001B[49m\u001B[38;5;241;43m*\u001B[39;49m\u001B[38;5;241;43m*\u001B[39;49m\u001B[43mkwargs\u001B[49m\u001B[43m)\u001B[49m\n\u001B[1;32m     49\u001B[0m     logger\u001B[38;5;241m.\u001B[39mlog_success(\n\u001B[1;32m     50\u001B[0m         module_name, class_name, function_name, time\u001B[38;5;241m.\u001B[39mperf_counter() \u001B[38;5;241m-\u001B[39m start, signature\n\u001B[1;32m     51\u001B[0m     )\n\u001B[1;32m     52\u001B[0m     \u001B[38;5;28;01mreturn\u001B[39;00m res\n\nFile \u001B[0;32m/databricks/spark/python/pyspark/sql/session.py:1387\u001B[0m, in \u001B[0;36mSparkSession.sql\u001B[0;34m(self, sqlQuery, args, **kwargs)\u001B[0m\n\u001B[1;32m   1385\u001B[0m \u001B[38;5;28;01mtry\u001B[39;00m:\n\u001B[1;32m   1386\u001B[0m     litArgs \u001B[38;5;241m=\u001B[39m {k: _to_java_column(lit(v)) \u001B[38;5;28;01mfor\u001B[39;00m k, v \u001B[38;5;129;01min\u001B[39;00m (args \u001B[38;5;129;01mor\u001B[39;00m {})\u001B[38;5;241m.\u001B[39mitems()}\n\u001B[0;32m-> 1387\u001B[0m     \u001B[38;5;28;01mreturn\u001B[39;00m DataFrame(\u001B[38;5;28;43mself\u001B[39;49m\u001B[38;5;241;43m.\u001B[39;49m\u001B[43m_jsparkSession\u001B[49m\u001B[38;5;241;43m.\u001B[39;49m\u001B[43msql\u001B[49m\u001B[43m(\u001B[49m\u001B[43msqlQuery\u001B[49m\u001B[43m,\u001B[49m\u001B[43m \u001B[49m\u001B[43mlitArgs\u001B[49m\u001B[43m)\u001B[49m, \u001B[38;5;28mself\u001B[39m)\n\u001B[1;32m   1388\u001B[0m \u001B[38;5;28;01mfinally\u001B[39;00m:\n\u001B[1;32m   1389\u001B[0m     \u001B[38;5;28;01mif\u001B[39;00m \u001B[38;5;28mlen\u001B[39m(kwargs) \u001B[38;5;241m>\u001B[39m \u001B[38;5;241m0\u001B[39m:\n\nFile \u001B[0;32m/databricks/spark/python/lib/py4j-0.10.9.5-src.zip/py4j/java_gateway.py:1321\u001B[0m, in \u001B[0;36mJavaMember.__call__\u001B[0;34m(self, *args)\u001B[0m\n\u001B[1;32m   1315\u001B[0m command \u001B[38;5;241m=\u001B[39m proto\u001B[38;5;241m.\u001B[39mCALL_COMMAND_NAME \u001B[38;5;241m+\u001B[39m\\\n\u001B[1;32m   1316\u001B[0m     \u001B[38;5;28mself\u001B[39m\u001B[38;5;241m.\u001B[39mcommand_header \u001B[38;5;241m+\u001B[39m\\\n\u001B[1;32m   1317\u001B[0m     args_command \u001B[38;5;241m+\u001B[39m\\\n\u001B[1;32m   1318\u001B[0m     proto\u001B[38;5;241m.\u001B[39mEND_COMMAND_PART\n\u001B[1;32m   1320\u001B[0m answer \u001B[38;5;241m=\u001B[39m \u001B[38;5;28mself\u001B[39m\u001B[38;5;241m.\u001B[39mgateway_client\u001B[38;5;241m.\u001B[39msend_command(command)\n\u001B[0;32m-> 1321\u001B[0m return_value \u001B[38;5;241m=\u001B[39m \u001B[43mget_return_value\u001B[49m\u001B[43m(\u001B[49m\n\u001B[1;32m   1322\u001B[0m \u001B[43m    \u001B[49m\u001B[43manswer\u001B[49m\u001B[43m,\u001B[49m\u001B[43m \u001B[49m\u001B[38;5;28;43mself\u001B[39;49m\u001B[38;5;241;43m.\u001B[39;49m\u001B[43mgateway_client\u001B[49m\u001B[43m,\u001B[49m\u001B[43m \u001B[49m\u001B[38;5;28;43mself\u001B[39;49m\u001B[38;5;241;43m.\u001B[39;49m\u001B[43mtarget_id\u001B[49m\u001B[43m,\u001B[49m\u001B[43m \u001B[49m\u001B[38;5;28;43mself\u001B[39;49m\u001B[38;5;241;43m.\u001B[39;49m\u001B[43mname\u001B[49m\u001B[43m)\u001B[49m\n\u001B[1;32m   1324\u001B[0m \u001B[38;5;28;01mfor\u001B[39;00m temp_arg \u001B[38;5;129;01min\u001B[39;00m temp_args:\n\u001B[1;32m   1325\u001B[0m     temp_arg\u001B[38;5;241m.\u001B[39m_detach()\n\nFile \u001B[0;32m/databricks/spark/python/pyspark/errors/exceptions.py:234\u001B[0m, in \u001B[0;36mcapture_sql_exception.<locals>.deco\u001B[0;34m(*a, **kw)\u001B[0m\n\u001B[1;32m    230\u001B[0m converted \u001B[38;5;241m=\u001B[39m convert_exception(e\u001B[38;5;241m.\u001B[39mjava_exception)\n\u001B[1;32m    231\u001B[0m \u001B[38;5;28;01mif\u001B[39;00m \u001B[38;5;129;01mnot\u001B[39;00m \u001B[38;5;28misinstance\u001B[39m(converted, UnknownException):\n\u001B[1;32m    232\u001B[0m     \u001B[38;5;66;03m# Hide where the exception came from that shows a non-Pythonic\u001B[39;00m\n\u001B[1;32m    233\u001B[0m     \u001B[38;5;66;03m# JVM exception message.\u001B[39;00m\n\u001B[0;32m--> 234\u001B[0m     \u001B[38;5;28;01mraise\u001B[39;00m converted \u001B[38;5;28;01mfrom\u001B[39;00m \u001B[38;5;28mNone\u001B[39m\n\u001B[1;32m    235\u001B[0m \u001B[38;5;28;01melse\u001B[39;00m:\n\u001B[1;32m    236\u001B[0m     \u001B[38;5;28;01mraise\u001B[39;00m\n\n\u001B[0;31mParseException\u001B[0m: \n[PARSE_SYNTAX_ERROR] Syntax error at or near '\"user rating\"'.(line 1, pos 38)\n\n== SQL ==\nALTER TABLE bestsellers RENAME COLUMN \"user rating\" TO UserRating\n--------------------------------------^^^\n",
       "errorSummary": "<span class='ansi-red-fg'>ParseException</span>: \n[PARSE_SYNTAX_ERROR] Syntax error at or near '\"user rating\"'.(line 1, pos 38)\n\n== SQL ==\nALTER TABLE bestsellers RENAME COLUMN \"user rating\" TO UserRating\n--------------------------------------^^^\n",
       "errorTraceType": "ansi",
       "metadata": {},
       "type": "ipynbError"
      }
     },
     "output_type": "display_data"
    }
   ],
   "source": [
    "%sql\n",
    "ALTER TABLE bestsellers RENAME COLUMN \"user rating\" TO UserRating"
   ]
  },
  {
   "cell_type": "code",
   "execution_count": 0,
   "metadata": {
    "application/vnd.databricks.v1+cell": {
     "cellMetadata": {
      "byteLimit": 2048000,
      "implicitDf": true,
      "rowLimit": 10000
     },
     "inputWidgets": {},
     "nuid": "f24a3cd6-5d0c-46ad-88ef-f4537c7375d9",
     "showTitle": false,
     "tableResultSettingsMap": {},
     "title": ""
    }
   },
   "outputs": [
    {
     "output_type": "display_data",
     "data": {
      "text/html": [
       "<style scoped>\n",
       "  .table-result-container {\n",
       "    max-height: 300px;\n",
       "    overflow: auto;\n",
       "  }\n",
       "  table, th, td {\n",
       "    border: 1px solid black;\n",
       "    border-collapse: collapse;\n",
       "  }\n",
       "  th, td {\n",
       "    padding: 5px;\n",
       "  }\n",
       "  th {\n",
       "    text-align: left;\n",
       "  }\n",
       "</style><div class='table-result-container'><table class='table-result'><thead style='background-color: white'><tr><th>NAME</th><th>User Rating</th><th>Price</th></tr></thead><tbody><tr><td>Dog Man: Brawl of the Wild: From the Creator of Captain Underpants (Dog Man #6)</td><td>4.9</td><td>4</td></tr><tr><td>Brown Bear, Brown Bear, What Do You See?</td><td>4.9</td><td>5</td></tr><tr><td>The Very Hungry Caterpillar</td><td>4.9</td><td>5</td></tr><tr><td>Strange Planet (Strange Planet Series)</td><td>4.9</td><td>6</td></tr><tr><td>Dog Man: Fetch-22: From the Creator of Captain Underpants (Dog Man #8)</td><td>4.9</td><td>8</td></tr><tr><td>Dog Man: For Whom the Ball Rolls: From the Creator of Captain Underpants (Dog Man #7)</td><td>4.9</td><td>8</td></tr><tr><td>Oh, the Places You'll Go!</td><td>4.9</td><td>8</td></tr><tr><td>Wrecking Ball (Diary of a Wimpy Kid Book 14)</td><td>4.9</td><td>8</td></tr><tr><td>The Wonderful Things You Will Be</td><td>4.9</td><td>10</td></tr><tr><td>Unfreedom of the Press</td><td>4.9</td><td>11</td></tr><tr><td>Harry Potter and the Goblet of Fire: The Illustrated Edition (Harry Potter, Book 4) (4)</td><td>4.9</td><td>18</td></tr></tbody></table></div>"
      ]
     },
     "metadata": {
      "application/vnd.databricks.v1+output": {
       "addedWidgets": {},
       "aggData": [],
       "aggError": "",
       "aggOverflow": false,
       "aggSchema": [],
       "aggSeriesLimitReached": false,
       "aggType": "",
       "arguments": {},
       "columnCustomDisplayInfos": {},
       "data": [
        [
         "Dog Man: Brawl of the Wild: From the Creator of Captain Underpants (Dog Man #6)",
         4.9,
         4
        ],
        [
         "Brown Bear, Brown Bear, What Do You See?",
         4.9,
         5
        ],
        [
         "The Very Hungry Caterpillar",
         4.9,
         5
        ],
        [
         "Strange Planet (Strange Planet Series)",
         4.9,
         6
        ],
        [
         "Dog Man: Fetch-22: From the Creator of Captain Underpants (Dog Man #8)",
         4.9,
         8
        ],
        [
         "Dog Man: For Whom the Ball Rolls: From the Creator of Captain Underpants (Dog Man #7)",
         4.9,
         8
        ],
        [
         "Oh, the Places You'll Go!",
         4.9,
         8
        ],
        [
         "Wrecking Ball (Diary of a Wimpy Kid Book 14)",
         4.9,
         8
        ],
        [
         "The Wonderful Things You Will Be",
         4.9,
         10
        ],
        [
         "Unfreedom of the Press",
         4.9,
         11
        ],
        [
         "Harry Potter and the Goblet of Fire: The Illustrated Edition (Harry Potter, Book 4) (4)",
         4.9,
         18
        ]
       ],
       "datasetInfos": [],
       "dbfsResultPath": null,
       "isJsonSchema": true,
       "metadata": {},
       "overflow": false,
       "plotOptions": {
        "customPlotOptions": {},
        "displayType": "table",
        "pivotAggregation": null,
        "pivotColumns": null,
        "xColumns": null,
        "yColumns": null
       },
       "removedWidgets": [],
       "schema": [
        {
         "metadata": "{}",
         "name": "NAME",
         "type": "\"string\""
        },
        {
         "metadata": "{}",
         "name": "User Rating",
         "type": "\"double\""
        },
        {
         "metadata": "{}",
         "name": "Price",
         "type": "\"integer\""
        }
       ],
       "type": "table"
      }
     },
     "output_type": "display_data"
    }
   ],
   "source": [
    "%sql\n",
    "SELECT NAME, `User Rating`, bestsellers.Price FROM bestsellers\n",
    "WHERE `User Rating`= (SELECT MAX(`User Rating`)FROM bestsellers)\n",
    "AND Price <= 25\n",
    "AND Year = 2019\n",
    "ORDER BY Price ASC"
   ]
  }
 ],
 "metadata": {
  "application/vnd.databricks.v1+notebook": {
   "computePreferences": null,
   "dashboards": [
    {
     "elements": [],
     "globalVars": {},
     "guid": "",
     "layoutOption": {
      "grid": true,
      "stack": true
     },
     "nuid": "31db8179-d8dd-433a-9d92-cbb59483a1a9",
     "origId": 1085107752299037,
     "title": "Untitled",
     "version": "DashboardViewV1",
     "width": 1024
    }
   ],
   "environmentMetadata": {
    "base_environment": "",
    "environment_version": "1"
   },
   "inputWidgetPreferences": null,
   "language": "python",
   "notebookMetadata": {
    "mostRecentlyExecutedCommandWithImplicitDF": {
     "commandId": 1005194221172801,
     "dataframes": [
      "_sqldf"
     ]
    },
    "pythonIndentUnit": 4
   },
   "notebookName": "MVPEngenhariaDeDados",
   "widgets": {}
  }
 },
 "nbformat": 4,
 "nbformat_minor": 0
}